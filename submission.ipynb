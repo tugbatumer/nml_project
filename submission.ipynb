{
 "cells": [
  {
   "metadata": {
    "ExecuteTime": {
     "end_time": "2025-06-06T23:35:09.757562Z",
     "start_time": "2025-06-06T23:35:09.750275Z"
    }
   },
   "cell_type": "code",
   "source": [
    "import os\n",
    "import numpy as np\n",
    "import pandas as pd\n",
    "import matplotlib.pyplot as plt\n",
    "from pathlib import Path\n",
    "from scipy import signal\n",
    "from torch.utils.data import Dataset, DataLoader\n",
    "import torch\n",
    "import torch.nn as nn\n",
    "import torch.optim as optim\n",
    "from tqdm import tqdm\n",
    "\n",
    "from seiz_eeg.dataset import EEGDataset\n",
    "from sklearn.metrics import f1_score, recall_score, precision_score"
   ],
   "id": "425a640b56ab59e",
   "outputs": [],
   "execution_count": 29
  },
  {
   "metadata": {
    "ExecuteTime": {
     "end_time": "2025-06-06T23:35:10.446377Z",
     "start_time": "2025-06-06T23:35:10.443755Z"
    }
   },
   "cell_type": "code",
   "source": [
    "data_path = \"data/\"  # Replace with your data root path\n",
    "DATA_ROOT = Path(data_path)\n",
    "sample_rate = 250\n",
    "segment_length = 3000"
   ],
   "id": "5433b097a2e69ddc",
   "outputs": [],
   "execution_count": 30
  },
  {
   "metadata": {
    "ExecuteTime": {
     "end_time": "2025-06-06T23:41:52.005728Z",
     "start_time": "2025-06-06T23:41:51.996280Z"
    }
   },
   "cell_type": "code",
   "source": [
    "def create_spectrogram(x: np.ndarray):\n",
    "    spectrograms = []\n",
    "    for i in range(x.shape[1]):\n",
    "        f, t, Sxx = signal.spectrogram(\n",
    "            x[:, i], fs=sample_rate,\n",
    "            nperseg=128, noverlap=96\n",
    "        )\n",
    "        # Keep only to 30 Hz\n",
    "        mask = (f <= 30)\n",
    "        Sxx = Sxx[mask, :]\n",
    "        Sxx = np.log(Sxx + 1e-8)  # Log transform\n",
    "        spectrograms.append(Sxx)\n",
    "    spec_array = np.stack(spectrograms, axis=0)\n",
    "    return torch.tensor(spec_array, dtype=torch.float32)"
   ],
   "id": "9c8e692b981862a9",
   "outputs": [],
   "execution_count": 38
  },
  {
   "metadata": {
    "ExecuteTime": {
     "end_time": "2025-06-06T23:41:52.518576Z",
     "start_time": "2025-06-06T23:41:52.477439Z"
    }
   },
   "cell_type": "code",
   "source": [
    "clips_tr = pd.read_parquet(DATA_ROOT / \"train/segments.parquet\")\n",
    "clips_te = pd.read_parquet(DATA_ROOT / \"test/segments.parquet\")"
   ],
   "id": "28d55064111a1ac5",
   "outputs": [],
   "execution_count": 39
  },
  {
   "metadata": {
    "ExecuteTime": {
     "end_time": "2025-06-06T23:42:47.417004Z",
     "start_time": "2025-06-06T23:41:52.883441Z"
    }
   },
   "cell_type": "code",
   "source": [
    "train_dataset = EEGDataset(\n",
    "    clips_tr,\n",
    "    signals_root=DATA_ROOT / \"train\",\n",
    "    signal_transform=create_spectrogram,\n",
    "    prefetch=True,  # If your compute does not allow it, you can use `prefetch=False`\n",
    ")"
   ],
   "id": "362700fa6fc905a8",
   "outputs": [],
   "execution_count": 40
  },
  {
   "metadata": {
    "ExecuteTime": {
     "end_time": "2025-06-06T23:43:01.601560Z",
     "start_time": "2025-06-06T23:42:47.436538Z"
    }
   },
   "cell_type": "code",
   "source": [
    "test_dataset = EEGDataset(\n",
    "    clips_te,\n",
    "    signals_root=DATA_ROOT / \"test\",\n",
    "    signal_transform=create_spectrogram,\n",
    "    prefetch=True,  # If your compute does not allow it, you can use `prefetch=False`\n",
    "    return_id=True,\n",
    ")"
   ],
   "id": "5df2469f39ee6e40",
   "outputs": [],
   "execution_count": 41
  },
  {
   "metadata": {
    "ExecuteTime": {
     "end_time": "2025-06-06T23:43:01.791586Z",
     "start_time": "2025-06-06T23:43:01.680492Z"
    }
   },
   "cell_type": "code",
   "source": [
    "train_loader = DataLoader(train_dataset, batch_size=64, shuffle=True)\n",
    "test_loader = DataLoader(test_dataset, batch_size=64, shuffle=False)"
   ],
   "id": "ade23614b1d612d9",
   "outputs": [],
   "execution_count": 42
  },
  {
   "cell_type": "code",
   "id": "initial_id",
   "metadata": {
    "collapsed": true,
    "ExecuteTime": {
     "end_time": "2025-06-06T23:43:01.813037Z",
     "start_time": "2025-06-06T23:43:01.807880Z"
    }
   },
   "source": [
    "class SpectrogramCNN(nn.Module):\n",
    "    def __init__(self, in_channels=19):\n",
    "        super().__init__()\n",
    "        self.net = nn.Sequential(\n",
    "            nn.Conv2d(in_channels, 32, kernel_size=3, padding=1),\n",
    "            nn.ReLU(),\n",
    "            nn.MaxPool2d(2),\n",
    "\n",
    "            nn.Conv2d(32, 64, kernel_size=3, padding=1),\n",
    "            nn.ReLU(),\n",
    "            nn.MaxPool2d(2),\n",
    "\n",
    "            nn.Conv2d(64, 128, kernel_size=3, padding=1),\n",
    "            nn.ReLU(),\n",
    "            nn.AdaptiveAvgPool2d((1, 1))\n",
    "        )\n",
    "        self.fc = nn.Sequential(\n",
    "            nn.Flatten(),\n",
    "            nn.Linear(128, 1)\n",
    "        )\n",
    "\n",
    "    def forward(self, x):\n",
    "        return self.fc(self.net(x))\n"
   ],
   "outputs": [],
   "execution_count": 43
  },
  {
   "metadata": {
    "ExecuteTime": {
     "end_time": "2025-06-06T23:57:15.110820Z",
     "start_time": "2025-06-06T23:43:01.842431Z"
    }
   },
   "cell_type": "code",
   "source": [
    "device = torch.device(\"cuda\" if torch.cuda.is_available() else \"cpu\")\n",
    "model = SpectrogramCNN().to(device)\n",
    "criterion = nn.BCEWithLogitsLoss()\n",
    "optimizer = optim.Adam(model.parameters(), lr=1e-3)\n",
    "\n",
    "num_epochs = 50\n",
    "train_losses = []\n",
    "val_f1s = []\n",
    "\n",
    "for epoch in range(num_epochs):\n",
    "    model.train()\n",
    "    running_loss = 0.0\n",
    "\n",
    "    for xb, yb in train_loader:\n",
    "        xb = xb.to(device)  # [B, 19, F, T]\n",
    "        yb = yb.float().unsqueeze(1).to(device) # [B, 1]\n",
    "\n",
    "        optimizer.zero_grad()\n",
    "        logits = model(xb)\n",
    "        loss = criterion(logits, yb)\n",
    "        loss.backward()\n",
    "        optimizer.step()\n",
    "\n",
    "        running_loss += loss.item()\n",
    "\n",
    "    avg_loss = running_loss / len(train_loader)\n",
    "    train_losses.append(avg_loss)\n",
    "    print(f\"Epoch {epoch+1}/{num_epochs} - Loss: {avg_loss:.4f}\")"
   ],
   "id": "2ffbc72f12abf720",
   "outputs": [
    {
     "name": "stdout",
     "output_type": "stream",
     "text": [
      "Epoch 1/50 - Loss: 0.3926\n",
      "Epoch 2/50 - Loss: 0.3194\n",
      "Epoch 3/50 - Loss: 0.2852\n",
      "Epoch 4/50 - Loss: 0.2586\n",
      "Epoch 5/50 - Loss: 0.2437\n",
      "Epoch 6/50 - Loss: 0.2337\n",
      "Epoch 7/50 - Loss: 0.2120\n",
      "Epoch 8/50 - Loss: 0.2109\n",
      "Epoch 9/50 - Loss: 0.2048\n",
      "Epoch 10/50 - Loss: 0.2043\n",
      "Epoch 11/50 - Loss: 0.1921\n",
      "Epoch 12/50 - Loss: 0.1824\n",
      "Epoch 13/50 - Loss: 0.1776\n",
      "Epoch 14/50 - Loss: 0.1710\n",
      "Epoch 15/50 - Loss: 0.1664\n",
      "Epoch 16/50 - Loss: 0.1578\n",
      "Epoch 17/50 - Loss: 0.1574\n",
      "Epoch 18/50 - Loss: 0.1551\n",
      "Epoch 19/50 - Loss: 0.1502\n",
      "Epoch 20/50 - Loss: 0.1494\n",
      "Epoch 21/50 - Loss: 0.1387\n",
      "Epoch 22/50 - Loss: 0.1598\n",
      "Epoch 23/50 - Loss: 0.1271\n",
      "Epoch 24/50 - Loss: 0.1242\n",
      "Epoch 25/50 - Loss: 0.1167\n",
      "Epoch 26/50 - Loss: 0.1138\n",
      "Epoch 27/50 - Loss: 0.1033\n",
      "Epoch 28/50 - Loss: 0.1079\n",
      "Epoch 29/50 - Loss: 0.1004\n",
      "Epoch 30/50 - Loss: 0.0984\n",
      "Epoch 31/50 - Loss: 0.0952\n",
      "Epoch 32/50 - Loss: 0.0840\n",
      "Epoch 33/50 - Loss: 0.0836\n",
      "Epoch 34/50 - Loss: 0.0787\n",
      "Epoch 35/50 - Loss: 0.0787\n",
      "Epoch 36/50 - Loss: 0.0748\n",
      "Epoch 37/50 - Loss: 0.0714\n",
      "Epoch 38/50 - Loss: 0.0648\n",
      "Epoch 39/50 - Loss: 0.0565\n",
      "Epoch 40/50 - Loss: 0.0643\n"
     ]
    },
    {
     "ename": "KeyboardInterrupt",
     "evalue": "",
     "output_type": "error",
     "traceback": [
      "\u001B[0;31m---------------------------------------------------------------------------\u001B[0m",
      "\u001B[0;31mKeyboardInterrupt\u001B[0m                         Traceback (most recent call last)",
      "Cell \u001B[0;32mIn[44], line 21\u001B[0m\n\u001B[1;32m     19\u001B[0m logits \u001B[38;5;241m=\u001B[39m model(xb)\n\u001B[1;32m     20\u001B[0m loss \u001B[38;5;241m=\u001B[39m criterion(logits, yb)\n\u001B[0;32m---> 21\u001B[0m \u001B[43mloss\u001B[49m\u001B[38;5;241;43m.\u001B[39;49m\u001B[43mbackward\u001B[49m\u001B[43m(\u001B[49m\u001B[43m)\u001B[49m\n\u001B[1;32m     22\u001B[0m optimizer\u001B[38;5;241m.\u001B[39mstep()\n\u001B[1;32m     24\u001B[0m running_loss \u001B[38;5;241m+\u001B[39m\u001B[38;5;241m=\u001B[39m loss\u001B[38;5;241m.\u001B[39mitem()\n",
      "File \u001B[0;32m~/Desktop/EPFL/ee452-nml/.venv/lib/python3.10/site-packages/torch/_tensor.py:648\u001B[0m, in \u001B[0;36mTensor.backward\u001B[0;34m(self, gradient, retain_graph, create_graph, inputs)\u001B[0m\n\u001B[1;32m    638\u001B[0m \u001B[38;5;28;01mif\u001B[39;00m has_torch_function_unary(\u001B[38;5;28mself\u001B[39m):\n\u001B[1;32m    639\u001B[0m     \u001B[38;5;28;01mreturn\u001B[39;00m handle_torch_function(\n\u001B[1;32m    640\u001B[0m         Tensor\u001B[38;5;241m.\u001B[39mbackward,\n\u001B[1;32m    641\u001B[0m         (\u001B[38;5;28mself\u001B[39m,),\n\u001B[0;32m   (...)\u001B[0m\n\u001B[1;32m    646\u001B[0m         inputs\u001B[38;5;241m=\u001B[39minputs,\n\u001B[1;32m    647\u001B[0m     )\n\u001B[0;32m--> 648\u001B[0m \u001B[43mtorch\u001B[49m\u001B[38;5;241;43m.\u001B[39;49m\u001B[43mautograd\u001B[49m\u001B[38;5;241;43m.\u001B[39;49m\u001B[43mbackward\u001B[49m\u001B[43m(\u001B[49m\n\u001B[1;32m    649\u001B[0m \u001B[43m    \u001B[49m\u001B[38;5;28;43mself\u001B[39;49m\u001B[43m,\u001B[49m\u001B[43m \u001B[49m\u001B[43mgradient\u001B[49m\u001B[43m,\u001B[49m\u001B[43m \u001B[49m\u001B[43mretain_graph\u001B[49m\u001B[43m,\u001B[49m\u001B[43m \u001B[49m\u001B[43mcreate_graph\u001B[49m\u001B[43m,\u001B[49m\u001B[43m \u001B[49m\u001B[43minputs\u001B[49m\u001B[38;5;241;43m=\u001B[39;49m\u001B[43minputs\u001B[49m\n\u001B[1;32m    650\u001B[0m \u001B[43m\u001B[49m\u001B[43m)\u001B[49m\n",
      "File \u001B[0;32m~/Desktop/EPFL/ee452-nml/.venv/lib/python3.10/site-packages/torch/autograd/__init__.py:353\u001B[0m, in \u001B[0;36mbackward\u001B[0;34m(tensors, grad_tensors, retain_graph, create_graph, grad_variables, inputs)\u001B[0m\n\u001B[1;32m    348\u001B[0m     retain_graph \u001B[38;5;241m=\u001B[39m create_graph\n\u001B[1;32m    350\u001B[0m \u001B[38;5;66;03m# The reason we repeat the same comment below is that\u001B[39;00m\n\u001B[1;32m    351\u001B[0m \u001B[38;5;66;03m# some Python versions print out the first line of a multi-line function\u001B[39;00m\n\u001B[1;32m    352\u001B[0m \u001B[38;5;66;03m# calls in the traceback and some print out the last line\u001B[39;00m\n\u001B[0;32m--> 353\u001B[0m \u001B[43m_engine_run_backward\u001B[49m\u001B[43m(\u001B[49m\n\u001B[1;32m    354\u001B[0m \u001B[43m    \u001B[49m\u001B[43mtensors\u001B[49m\u001B[43m,\u001B[49m\n\u001B[1;32m    355\u001B[0m \u001B[43m    \u001B[49m\u001B[43mgrad_tensors_\u001B[49m\u001B[43m,\u001B[49m\n\u001B[1;32m    356\u001B[0m \u001B[43m    \u001B[49m\u001B[43mretain_graph\u001B[49m\u001B[43m,\u001B[49m\n\u001B[1;32m    357\u001B[0m \u001B[43m    \u001B[49m\u001B[43mcreate_graph\u001B[49m\u001B[43m,\u001B[49m\n\u001B[1;32m    358\u001B[0m \u001B[43m    \u001B[49m\u001B[43minputs\u001B[49m\u001B[43m,\u001B[49m\n\u001B[1;32m    359\u001B[0m \u001B[43m    \u001B[49m\u001B[43mallow_unreachable\u001B[49m\u001B[38;5;241;43m=\u001B[39;49m\u001B[38;5;28;43;01mTrue\u001B[39;49;00m\u001B[43m,\u001B[49m\n\u001B[1;32m    360\u001B[0m \u001B[43m    \u001B[49m\u001B[43maccumulate_grad\u001B[49m\u001B[38;5;241;43m=\u001B[39;49m\u001B[38;5;28;43;01mTrue\u001B[39;49;00m\u001B[43m,\u001B[49m\n\u001B[1;32m    361\u001B[0m \u001B[43m\u001B[49m\u001B[43m)\u001B[49m\n",
      "File \u001B[0;32m~/Desktop/EPFL/ee452-nml/.venv/lib/python3.10/site-packages/torch/autograd/graph.py:824\u001B[0m, in \u001B[0;36m_engine_run_backward\u001B[0;34m(t_outputs, *args, **kwargs)\u001B[0m\n\u001B[1;32m    822\u001B[0m     unregister_hooks \u001B[38;5;241m=\u001B[39m _register_logging_hooks_on_whole_graph(t_outputs)\n\u001B[1;32m    823\u001B[0m \u001B[38;5;28;01mtry\u001B[39;00m:\n\u001B[0;32m--> 824\u001B[0m     \u001B[38;5;28;01mreturn\u001B[39;00m \u001B[43mVariable\u001B[49m\u001B[38;5;241;43m.\u001B[39;49m\u001B[43m_execution_engine\u001B[49m\u001B[38;5;241;43m.\u001B[39;49m\u001B[43mrun_backward\u001B[49m\u001B[43m(\u001B[49m\u001B[43m  \u001B[49m\u001B[38;5;66;43;03m# Calls into the C++ engine to run the backward pass\u001B[39;49;00m\n\u001B[1;32m    825\u001B[0m \u001B[43m        \u001B[49m\u001B[43mt_outputs\u001B[49m\u001B[43m,\u001B[49m\u001B[43m \u001B[49m\u001B[38;5;241;43m*\u001B[39;49m\u001B[43margs\u001B[49m\u001B[43m,\u001B[49m\u001B[43m \u001B[49m\u001B[38;5;241;43m*\u001B[39;49m\u001B[38;5;241;43m*\u001B[39;49m\u001B[43mkwargs\u001B[49m\n\u001B[1;32m    826\u001B[0m \u001B[43m    \u001B[49m\u001B[43m)\u001B[49m  \u001B[38;5;66;03m# Calls into the C++ engine to run the backward pass\u001B[39;00m\n\u001B[1;32m    827\u001B[0m \u001B[38;5;28;01mfinally\u001B[39;00m:\n\u001B[1;32m    828\u001B[0m     \u001B[38;5;28;01mif\u001B[39;00m attach_logging_hooks:\n",
      "\u001B[0;31mKeyboardInterrupt\u001B[0m: "
     ]
    }
   ],
   "execution_count": 44
  },
  {
   "metadata": {
    "ExecuteTime": {
     "end_time": "2025-06-06T23:57:17.417705Z",
     "start_time": "2025-06-06T23:57:17.258180Z"
    }
   },
   "cell_type": "code",
   "source": [
    "plt.plot(range(1, len(train_losses) + 1), train_losses, label=\"Train Loss\")\n",
    "plt.xlabel(\"Epoch\")\n",
    "plt.ylabel(\"Loss\")\n",
    "plt.title(\"Train Loss over Epochs\")\n",
    "plt.legend()\n",
    "plt.grid(True)\n",
    "plt.show()"
   ],
   "id": "2d03976cc00542e8",
   "outputs": [
    {
     "data": {
      "text/plain": [
       "<Figure size 640x480 with 1 Axes>"
      ],
      "image/png": "[encoded data removed]"
     },
     "metadata": {},
     "output_type": "display_data"
    }
   ],
   "execution_count": 45
  },
  {
   "metadata": {
    "ExecuteTime": {
     "end_time": "2025-06-06T23:58:39.765212Z",
     "start_time": "2025-06-06T23:58:37.926339Z"
    }
   },
   "cell_type": "code",
   "source": [
    "import re\n",
    "# Generate the submission file for Kaggle\n",
    "\n",
    "# Set the model to evaluation mode\n",
    "model.eval()\n",
    "\n",
    "# Lists to store sample IDs and predictions\n",
    "all_predictions = []\n",
    "all_ids = []\n",
    "\n",
    "# Disable gradient computation for inference\n",
    "with torch.no_grad():\n",
    "    for xb, ids in test_loader:\n",
    "        # Move the input data to the device (GPU or CPU)\n",
    "        xb = xb.float().to(device)\n",
    "\n",
    "        # Perform the forward pass to get the model's output logits\n",
    "        logits = model(xb)\n",
    "\n",
    "        # Convert logits to predictions.\n",
    "        # For binary classification, threshold logits at 0 (adjust this if you use softmax or multi-class).\n",
    "        predictions = (logits > 0).int().cpu().numpy()\n",
    "        probs = torch.sigmoid(logits)\n",
    "        preds = (probs > 0.5).float().int().cpu().numpy()\n",
    "\n",
    "        # Append predictions and corresponding IDs to the lists\n",
    "        all_predictions.extend(predictions.flatten().tolist())\n",
    "        new_ids = []\n",
    "        for sub_id in ids:\n",
    "            # Step 1: Replace triple underscores with a unique placeholder\n",
    "            sub_id = sub_id.replace(\"___\", \"<<<UNDERSCORE>>>\")\n",
    "\n",
    "            # Step 2: Remove all single underscores\n",
    "            sub_id = sub_id.replace(\"_\", \"\")\n",
    "\n",
    "            # Step 3: Restore the placeholders as single underscores\n",
    "            sub_id = sub_id.replace(\"<<<UNDERSCORE>>>\", \"_\")\n",
    "            new_ids.append(sub_id)\n",
    "        all_ids.extend(new_ids)\n",
    "\n",
    "# Create a DataFrame for Kaggle submission with the required format: \"id,label\"\n",
    "submission_df = pd.DataFrame({\"id\": all_ids, \"label\": all_predictions})\n",
    "\n",
    "# Save the DataFrame to a CSV file without an index\n",
    "submission_df.to_csv(\"submission.csv\", index=False)\n",
    "print(\"Kaggle submission file generated: submission.csv\")"
   ],
   "id": "e4fa3ccdaa370b71",
   "outputs": [
    {
     "name": "stdout",
     "output_type": "stream",
     "text": [
      "Kaggle submission file generated: submission.csv\n"
     ]
    }
   ],
   "execution_count": 47
  },
  {
   "metadata": {},
   "cell_type": "code",
   "outputs": [],
   "execution_count": null,
   "source": "",
   "id": "295c6dc85d0c5375"
  }
 ],
 "metadata": {
  "kernelspec": {
   "display_name": "Python 3",
   "language": "python",
   "name": "python3"
  },
  "language_info": {
   "codemirror_mode": {
    "name": "ipython",
    "version": 2
   },
   "file_extension": ".py",
   "mimetype": "text/x-python",
   "name": "python",
   "nbconvert_exporter": "python",
   "pygments_lexer": "ipython2",
   "version": "2.7.6"
  }
 },
 "nbformat": 4,
 "nbformat_minor": 5
}
