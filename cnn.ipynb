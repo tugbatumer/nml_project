{
 "cells": [
  {
   "metadata": {
    "ExecuteTime": {
     "end_time": "2025-06-06T19:18:00.880697Z",
     "start_time": "2025-06-06T19:18:00.665085Z"
    }
   },
   "cell_type": "code",
   "source": [
    "import os\n",
    "import numpy as np\n",
    "import pandas as pd\n",
    "import matplotlib.pyplot as plt\n",
    "from pathlib import Path\n",
    "from scipy import signal\n",
    "from torch.utils.data import Dataset, DataLoader\n",
    "import torch\n",
    "import torch.nn as nn\n",
    "import torch.optim as optim\n",
    "from tqdm import tqdm\n",
    "\n",
    "from seiz_eeg.dataset import EEGDataset\n",
    "from sklearn.metrics import f1_score, recall_score, precision_score"
   ],
   "id": "425a640b56ab59e",
   "outputs": [],
   "execution_count": 39
  },
  {
   "metadata": {
    "ExecuteTime": {
     "end_time": "2025-06-06T18:50:13.786128Z",
     "start_time": "2025-06-06T18:50:13.782184Z"
    }
   },
   "cell_type": "code",
   "source": [
    "data_path = \"data/\"  # Replace with your data root path\n",
    "DATA_ROOT = Path(data_path)\n",
    "sample_rate = 250\n",
    "segment_length = 3000"
   ],
   "id": "5433b097a2e69ddc",
   "outputs": [],
   "execution_count": 3
  },
  {
   "metadata": {
    "ExecuteTime": {
     "end_time": "2025-06-06T20:17:13.166590Z",
     "start_time": "2025-06-06T20:17:13.162226Z"
    }
   },
   "cell_type": "code",
   "source": [
    "def create_spectrogram(x: np.ndarray):\n",
    "    spectrograms = []\n",
    "    for i in range(x.shape[1]):\n",
    "        f, t, Sxx = signal.spectrogram(\n",
    "            x[:, i], fs=sample_rate,\n",
    "            nperseg=256, noverlap=192\n",
    "        )\n",
    "        # Keep only to 30 Hz\n",
    "        mask = (f <= 30)\n",
    "        Sxx = Sxx[mask, :]\n",
    "        Sxx = np.log(Sxx + 1e-8)  # Log transform\n",
    "        spectrograms.append(Sxx)\n",
    "    spec_array = np.stack(spectrograms, axis=0)\n",
    "    return torch.tensor(spec_array, dtype=torch.float32)"
   ],
   "id": "9c8e692b981862a9",
   "outputs": [],
   "execution_count": 108
  },
  {
   "metadata": {
    "ExecuteTime": {
     "end_time": "2025-06-06T20:17:13.893872Z",
     "start_time": "2025-06-06T20:17:13.879770Z"
    }
   },
   "cell_type": "code",
   "source": [
    "clips_tr = pd.read_parquet(DATA_ROOT / \"train/segments.parquet\")\n",
    "clips_te = pd.read_parquet(DATA_ROOT / \"test/segments.parquet\")"
   ],
   "id": "28d55064111a1ac5",
   "outputs": [],
   "execution_count": 109
  },
  {
   "metadata": {
    "ExecuteTime": {
     "end_time": "2025-06-06T20:18:02.643188Z",
     "start_time": "2025-06-06T20:17:14.593591Z"
    }
   },
   "cell_type": "code",
   "source": [
    "train_dataset = EEGDataset(\n",
    "    clips_tr,\n",
    "    signals_root=DATA_ROOT / \"train\",\n",
    "    signal_transform=create_spectrogram,\n",
    "    prefetch=True,  # If your compute does not allow it, you can use `prefetch=False`\n",
    ")"
   ],
   "id": "362700fa6fc905a8",
   "outputs": [],
   "execution_count": 110
  },
  {
   "metadata": {
    "ExecuteTime": {
     "end_time": "2025-06-06T20:18:02.658808Z",
     "start_time": "2025-06-06T20:18:02.654524Z"
    }
   },
   "cell_type": "code",
   "source": [
    "from torch.utils.data import random_split\n",
    "\n",
    "total_len = len(train_dataset)\n",
    "train_len = int(0.8 * total_len)\n",
    "val_len = total_len - train_len\n",
    "\n",
    "# Randomly split\n",
    "dataset_tr_split, dataset_val_split = random_split(train_dataset, [train_len, val_len])\n"
   ],
   "id": "ca829e750d42e0cb",
   "outputs": [],
   "execution_count": 111
  },
  {
   "metadata": {
    "ExecuteTime": {
     "end_time": "2025-06-06T20:18:02.762599Z",
     "start_time": "2025-06-06T20:18:02.696483Z"
    }
   },
   "cell_type": "code",
   "source": [
    "train_loader = DataLoader(dataset_tr_split, batch_size=64, shuffle=True)\n",
    "val_loader = DataLoader(dataset_val_split, batch_size=64, shuffle=False)"
   ],
   "id": "ade23614b1d612d9",
   "outputs": [],
   "execution_count": 112
  },
  {
   "cell_type": "code",
   "id": "initial_id",
   "metadata": {
    "collapsed": true,
    "ExecuteTime": {
     "end_time": "2025-06-06T20:19:03.745291Z",
     "start_time": "2025-06-06T20:19:03.740302Z"
    }
   },
   "source": [
    "class SpectrogramCNN(nn.Module):\n",
    "    def __init__(self, in_channels=19):\n",
    "        super().__init__()\n",
    "        self.net = nn.Sequential(\n",
    "            nn.Conv2d(in_channels, 32, kernel_size=3, padding=1),\n",
    "            nn.ReLU(),\n",
    "            nn.MaxPool2d(2),\n",
    "\n",
    "            nn.Conv2d(32, 64, kernel_size=3, padding=1),\n",
    "            nn.ReLU(),\n",
    "            nn.MaxPool2d(2),\n",
    "\n",
    "            nn.Conv2d(64, 128, kernel_size=3, padding=1),\n",
    "            nn.ReLU(),\n",
    "            nn.AdaptiveAvgPool2d((1, 1))\n",
    "        )\n",
    "        self.fc = nn.Sequential(\n",
    "            nn.Flatten(),\n",
    "            nn.Dropout(0.3),\n",
    "            nn.Linear(128, 1)\n",
    "        )\n",
    "\n",
    "    def forward(self, x):\n",
    "        return self.fc(self.net(x))\n"
   ],
   "outputs": [],
   "execution_count": 113
  },
  {
   "metadata": {
    "ExecuteTime": {
     "end_time": "2025-06-06T20:24:20.149978Z",
     "start_time": "2025-06-06T20:19:04.235125Z"
    }
   },
   "cell_type": "code",
   "source": [
    "device = torch.device(\"cuda\" if torch.cuda.is_available() else \"cpu\")\n",
    "model = SpectrogramCNN().to(device)\n",
    "criterion = nn.BCEWithLogitsLoss()\n",
    "optimizer = optim.Adam(model.parameters(), lr=1e-3)\n",
    "\n",
    "num_epochs = 25\n",
    "train_losses = []\n",
    "val_f1s = []\n",
    "\n",
    "for epoch in range(num_epochs):\n",
    "    model.train()\n",
    "    running_loss = 0.0\n",
    "\n",
    "    for xb, yb in train_loader:\n",
    "        xb = xb.to(device)  # [B, 19, F, T]\n",
    "        yb = yb.float().unsqueeze(1).to(device) # [B, 1]\n",
    "\n",
    "        optimizer.zero_grad()\n",
    "        logits = model(xb)\n",
    "        loss = criterion(logits, yb)\n",
    "        loss.backward()\n",
    "        optimizer.step()\n",
    "\n",
    "        running_loss += loss.item()\n",
    "\n",
    "    all_preds = []\n",
    "    all_labels = []\n",
    "    model.eval()\n",
    "    with torch.no_grad():\n",
    "        for xb, yb in val_loader:\n",
    "            xb = xb.to(device)  # [B, 19, F, T]\n",
    "            yb = yb.float().unsqueeze(1).to(device) # [B, 1]\n",
    "            logits = model(xb)\n",
    "            probs = torch.sigmoid(logits)\n",
    "            preds = (probs > 0.4).float()\n",
    "\n",
    "            # Flatten and collect predictions and labels\n",
    "            all_preds.extend(preds.cpu().numpy().flatten())\n",
    "            all_labels.extend(yb.view(-1).cpu().numpy())\n",
    "    f1 = f1_score(all_labels, all_preds)\n",
    "    val_f1s.append(f1)\n",
    "\n",
    "    avg_loss = running_loss / len(train_loader)\n",
    "    train_losses.append(avg_loss)\n",
    "    print(f\"Epoch {epoch+1}/{num_epochs} - Loss: {avg_loss:.4f}, Val F1 Score: {f1:.4f}\")"
   ],
   "id": "2ffbc72f12abf720",
   "outputs": [
    {
     "name": "stdout",
     "output_type": "stream",
     "text": [
      "Epoch 1/25 - Loss: 0.3991, Val F1 Score: 0.4815\n",
      "Epoch 2/25 - Loss: 0.3448, Val F1 Score: 0.5856\n",
      "Epoch 3/25 - Loss: 0.3097, Val F1 Score: 0.6566\n",
      "Epoch 4/25 - Loss: 0.2863, Val F1 Score: 0.6889\n",
      "Epoch 5/25 - Loss: 0.2711, Val F1 Score: 0.7224\n",
      "Epoch 6/25 - Loss: 0.2587, Val F1 Score: 0.7548\n",
      "Epoch 7/25 - Loss: 0.2490, Val F1 Score: 0.7160\n",
      "Epoch 8/25 - Loss: 0.2324, Val F1 Score: 0.6606\n",
      "Epoch 9/25 - Loss: 0.2292, Val F1 Score: 0.7704\n",
      "Epoch 10/25 - Loss: 0.2213, Val F1 Score: 0.7656\n",
      "Epoch 11/25 - Loss: 0.2166, Val F1 Score: 0.7917\n",
      "Epoch 12/25 - Loss: 0.2054, Val F1 Score: 0.7380\n",
      "Epoch 13/25 - Loss: 0.2078, Val F1 Score: 0.7643\n",
      "Epoch 14/25 - Loss: 0.2038, Val F1 Score: 0.7744\n",
      "Epoch 15/25 - Loss: 0.1955, Val F1 Score: 0.7778\n",
      "Epoch 16/25 - Loss: 0.1882, Val F1 Score: 0.7788\n",
      "Epoch 17/25 - Loss: 0.1829, Val F1 Score: 0.7845\n",
      "Epoch 18/25 - Loss: 0.1777, Val F1 Score: 0.7909\n",
      "Epoch 19/25 - Loss: 0.1741, Val F1 Score: 0.7945\n",
      "Epoch 20/25 - Loss: 0.1656, Val F1 Score: 0.7984\n",
      "Epoch 21/25 - Loss: 0.1677, Val F1 Score: 0.7941\n",
      "Epoch 22/25 - Loss: 0.1542, Val F1 Score: 0.7951\n",
      "Epoch 23/25 - Loss: 0.1489, Val F1 Score: 0.7544\n",
      "Epoch 24/25 - Loss: 0.1455, Val F1 Score: 0.8118\n",
      "Epoch 25/25 - Loss: 0.1485, Val F1 Score: 0.7863\n"
     ]
    }
   ],
   "execution_count": 114
  },
  {
   "metadata": {
    "ExecuteTime": {
     "end_time": "2025-06-06T20:29:33.987013Z",
     "start_time": "2025-06-06T20:29:33.902307Z"
    }
   },
   "cell_type": "code",
   "source": [
    "plt.plot(range(1, len(train_losses) + 1), train_losses, label=\"Train Loss\")\n",
    "plt.plot(range(1, len(val_f1s) + 1), val_f1s, label=\"Validation Loss\")\n",
    "plt.xlabel(\"Epoch\")\n",
    "plt.ylabel(\"Loss\")\n",
    "plt.title(\"Train & Validation Loss over Epochs\")\n",
    "plt.legend()\n",
    "plt.grid(True)\n",
    "plt.show()"
   ],
   "id": "2d03976cc00542e8",
   "outputs": [
    {
     "data": {
      "text/plain": [
       "<Figure size 640x480 with 1 Axes>"
      ],
      "image/png": "[encoded data removed]"
     },
     "metadata": {},
     "output_type": "display_data"
    }
   ],
   "execution_count": 115
  },
  {
   "metadata": {
    "ExecuteTime": {
     "end_time": "2025-06-06T20:16:00.149402Z",
     "start_time": "2025-06-06T20:15:59.569039Z"
    }
   },
   "cell_type": "code",
   "source": [
    "from sklearn.metrics import f1_score, recall_score, precision_score\n",
    "all_preds = []\n",
    "all_labels = []\n",
    "model.eval()\n",
    "with torch.no_grad():\n",
    "    for xb, yb in val_loader:\n",
    "        xb = xb.to(device)  # [B, 19, F, T]\n",
    "        yb = yb.float().unsqueeze(1).to(device) # [B, 1]\n",
    "        logits = model(xb)\n",
    "        probs = torch.sigmoid(logits)\n",
    "        preds = (probs > 0.2).float()\n",
    "\n",
    "        # Flatten and collect predictions and labels\n",
    "        all_preds.extend(preds.cpu().numpy().flatten())\n",
    "        all_labels.extend(yb.view(-1).cpu().numpy())\n",
    "f1 = f1_score(all_labels, all_preds)\n",
    "\n",
    "print(f\"Validation F1 Score: {f1:.4f}\")"
   ],
   "id": "2b83b503dd3aeac1",
   "outputs": [
    {
     "name": "stdout",
     "output_type": "stream",
     "text": [
      "Validation F1 Score: 0.7606\n"
     ]
    }
   ],
   "execution_count": 106
  },
  {
   "metadata": {
    "ExecuteTime": {
     "end_time": "2025-06-06T20:16:00.643808Z",
     "start_time": "2025-06-06T20:16:00.632157Z"
    }
   },
   "cell_type": "code",
   "source": [
    "from sklearn.metrics import f1_score, recall_score, precision_score, accuracy_score\n",
    "recall = recall_score(all_labels, all_preds)\n",
    "precision = precision_score(all_labels, all_preds)\n",
    "accuracy = accuracy_score(all_labels, all_preds)\n",
    "\n",
    "print(f\"Validation Recall: {recall:.4f}\")\n",
    "print(f\"Validation Precision: {precision:.4f}\")\n",
    "print(f\"Validation Accuracy: {accuracy:.4f}\")"
   ],
   "id": "fbad902467861ba1",
   "outputs": [
    {
     "name": "stdout",
     "output_type": "stream",
     "text": [
      "Validation Recall: 0.7444\n",
      "Validation Precision: 0.7775\n",
      "Validation Accuracy: 0.9111\n"
     ]
    }
   ],
   "execution_count": 107
  },
  {
   "metadata": {},
   "cell_type": "code",
   "outputs": [],
   "execution_count": null,
   "source": "",
   "id": "e4fa3ccdaa370b71"
  }
 ],
 "metadata": {
  "kernelspec": {
   "display_name": "Python 3",
   "language": "python",
   "name": "python3"
  },
  "language_info": {
   "codemirror_mode": {
    "name": "ipython",
    "version": 2
   },
   "file_extension": ".py",
   "mimetype": "text/x-python",
   "name": "python",
   "nbconvert_exporter": "python",
   "pygments_lexer": "ipython2",
   "version": "2.7.6"
  }
 },
 "nbformat": 4,
 "nbformat_minor": 5
}
