{
 "cells": [
  {
   "metadata": {
    "ExecuteTime": {
     "end_time": "2025-06-06T21:05:42.430722Z",
     "start_time": "2025-06-06T21:05:42.406416Z"
    }
   },
   "cell_type": "code",
   "source": [
    "import os\n",
    "import numpy as np\n",
    "import pandas as pd\n",
    "import matplotlib.pyplot as plt\n",
    "from pathlib import Path\n",
    "from scipy import signal\n",
    "from torch.utils.data import Dataset, DataLoader\n",
    "import torch\n",
    "import torch.nn as nn\n",
    "import torch.optim as optim\n",
    "from tqdm import tqdm\n",
    "\n",
    "from seiz_eeg.dataset import EEGDataset\n",
    "from sklearn.metrics import f1_score, recall_score, precision_score"
   ],
   "id": "425a640b56ab59e",
   "outputs": [],
   "execution_count": 135
  },
  {
   "metadata": {
    "ExecuteTime": {
     "end_time": "2025-06-06T21:05:42.782547Z",
     "start_time": "2025-06-06T21:05:42.777813Z"
    }
   },
   "cell_type": "code",
   "source": [
    "data_path = \"data/\"  # Replace with your data root path\n",
    "DATA_ROOT = Path(data_path)\n",
    "sample_rate = 250\n",
    "segment_length = 3000"
   ],
   "id": "5433b097a2e69ddc",
   "outputs": [],
   "execution_count": 136
  },
  {
   "metadata": {
    "ExecuteTime": {
     "end_time": "2025-06-06T23:41:41.034863Z",
     "start_time": "2025-06-06T23:41:41.022078Z"
    }
   },
   "cell_type": "code",
   "source": [
    "def create_spectrogram(x: np.ndarray):\n",
    "    spectrograms = []\n",
    "    for i in range(x.shape[1]):\n",
    "        f, t, Sxx = signal.spectrogram(\n",
    "            x[:, i], fs=sample_rate,\n",
    "            nperseg=128, noverlap=96\n",
    "        )\n",
    "        # Keep only to 30 Hz\n",
    "        mask = (f <= 30)\n",
    "        Sxx = Sxx[mask, :]\n",
    "        Sxx = np.log(Sxx + 1e-8)  # Log transform\n",
    "        spectrograms.append(Sxx)\n",
    "    spec_array = np.stack(spectrograms, axis=0)\n",
    "    return torch.tensor(spec_array, dtype=torch.float32)"
   ],
   "id": "9c8e692b981862a9",
   "outputs": [],
   "execution_count": 200
  },
  {
   "metadata": {
    "ExecuteTime": {
     "end_time": "2025-06-06T23:41:41.601555Z",
     "start_time": "2025-06-06T23:41:41.572336Z"
    }
   },
   "cell_type": "code",
   "source": [
    "clips_tr = pd.read_parquet(DATA_ROOT / \"train/segments.parquet\")\n",
    "clips_te = pd.read_parquet(DATA_ROOT / \"test/segments.parquet\")"
   ],
   "id": "28d55064111a1ac5",
   "outputs": [],
   "execution_count": 201
  },
  {
   "metadata": {
    "ExecuteTime": {
     "end_time": "2025-06-06T23:42:37.582771Z",
     "start_time": "2025-06-06T23:41:41.947171Z"
    }
   },
   "cell_type": "code",
   "source": [
    "train_dataset = EEGDataset(\n",
    "    clips_tr,\n",
    "    signals_root=DATA_ROOT / \"train\",\n",
    "    signal_transform=create_spectrogram,\n",
    "    prefetch=True,  # If your compute does not allow it, you can use `prefetch=False`\n",
    ")"
   ],
   "id": "362700fa6fc905a8",
   "outputs": [],
   "execution_count": 202
  },
  {
   "metadata": {
    "ExecuteTime": {
     "end_time": "2025-06-06T23:42:37.617073Z",
     "start_time": "2025-06-06T23:42:37.609595Z"
    }
   },
   "cell_type": "code",
   "source": [
    "from torch.utils.data import random_split\n",
    "\n",
    "total_len = len(train_dataset)\n",
    "train_len = int(0.8 * total_len)\n",
    "val_len = total_len - train_len\n",
    "\n",
    "# Randomly split\n",
    "dataset_tr_split, dataset_val_split = random_split(train_dataset, [train_len, val_len])\n"
   ],
   "id": "ca829e750d42e0cb",
   "outputs": [],
   "execution_count": 203
  },
  {
   "metadata": {
    "ExecuteTime": {
     "end_time": "2025-06-06T23:42:37.732923Z",
     "start_time": "2025-06-06T23:42:37.675486Z"
    }
   },
   "cell_type": "code",
   "source": [
    "train_loader = DataLoader(dataset_tr_split, batch_size=16, shuffle=True)\n",
    "val_loader = DataLoader(dataset_val_split, batch_size=64, shuffle=False)"
   ],
   "id": "ade23614b1d612d9",
   "outputs": [],
   "execution_count": 204
  },
  {
   "cell_type": "code",
   "id": "initial_id",
   "metadata": {
    "collapsed": true,
    "ExecuteTime": {
     "end_time": "2025-06-06T23:42:37.824186Z",
     "start_time": "2025-06-06T23:42:37.816145Z"
    }
   },
   "source": [
    "class SpectrogramCNN(nn.Module):\n",
    "    def __init__(self, in_channels=19):\n",
    "        super().__init__()\n",
    "        self.net = nn.Sequential(\n",
    "            nn.Conv2d(in_channels, 32, kernel_size=3, padding=1),\n",
    "            nn.ReLU(),\n",
    "            nn.MaxPool2d(2),\n",
    "\n",
    "            nn.Conv2d(32, 64, kernel_size=3, padding=1),\n",
    "            nn.ReLU(),\n",
    "            nn.MaxPool2d(2),\n",
    "\n",
    "            nn.Conv2d(64, 128, kernel_size=3, padding=1),\n",
    "            nn.ReLU(),\n",
    "            nn.AdaptiveAvgPool2d((1, 1))\n",
    "        )\n",
    "        self.fc = nn.Sequential(\n",
    "            nn.Flatten(),\n",
    "            nn.Linear(128, 1)\n",
    "        )\n",
    "\n",
    "    def forward(self, x):\n",
    "        return self.fc(self.net(x))\n"
   ],
   "outputs": [],
   "execution_count": 205
  },
  {
   "metadata": {
    "ExecuteTime": {
     "end_time": "2025-06-06T23:57:50.093387Z",
     "start_time": "2025-06-06T23:42:37.857852Z"
    }
   },
   "cell_type": "code",
   "source": [
    "device = torch.device(\"cuda\" if torch.cuda.is_available() else \"cpu\")\n",
    "model = SpectrogramCNN().to(device)\n",
    "criterion = nn.BCEWithLogitsLoss()\n",
    "optimizer = optim.Adam(model.parameters(), lr=1e-3)\n",
    "\n",
    "num_epochs = 50\n",
    "train_losses = []\n",
    "val_f1s = []\n",
    "\n",
    "for epoch in range(num_epochs):\n",
    "    model.train()\n",
    "    running_loss = 0.0\n",
    "\n",
    "    for xb, yb in train_loader:\n",
    "        xb = xb.to(device)  # [B, 19, F, T]\n",
    "        yb = yb.float().unsqueeze(1).to(device) # [B, 1]\n",
    "\n",
    "        optimizer.zero_grad()\n",
    "        logits = model(xb)\n",
    "        loss = criterion(logits, yb)\n",
    "        loss.backward()\n",
    "        optimizer.step()\n",
    "\n",
    "        running_loss += loss.item()\n",
    "\n",
    "    all_preds = []\n",
    "    all_labels = []\n",
    "    model.eval()\n",
    "    with torch.no_grad():\n",
    "        for xb, yb in val_loader:\n",
    "            xb = xb.to(device)  # [B, 19, F, T]\n",
    "            yb = yb.float().unsqueeze(1).to(device) # [B, 1]\n",
    "            logits = model(xb)\n",
    "            probs = torch.sigmoid(logits)\n",
    "            preds = (probs > 0.4).float()\n",
    "\n",
    "            # Flatten and collect predictions and labels\n",
    "            all_preds.extend(preds.cpu().numpy().flatten())\n",
    "            all_labels.extend(yb.view(-1).cpu().numpy())\n",
    "    f1 = f1_score(all_labels, all_preds)\n",
    "    val_f1s.append(f1)\n",
    "\n",
    "    avg_loss = running_loss / len(train_loader)\n",
    "    train_losses.append(avg_loss)\n",
    "    print(f\"Epoch {epoch+1}/{num_epochs} - Loss: {avg_loss:.4f}, Val F1 Score: {f1:.4f}\")"
   ],
   "id": "2ffbc72f12abf720",
   "outputs": [
    {
     "name": "stdout",
     "output_type": "stream",
     "text": [
      "Epoch 1/50 - Loss: 0.3856, Val F1 Score: 0.5676\n",
      "Epoch 2/50 - Loss: 0.3154, Val F1 Score: 0.7017\n",
      "Epoch 3/50 - Loss: 0.2732, Val F1 Score: 0.7601\n",
      "Epoch 4/50 - Loss: 0.2480, Val F1 Score: 0.7814\n",
      "Epoch 5/50 - Loss: 0.2353, Val F1 Score: 0.7060\n",
      "Epoch 6/50 - Loss: 0.2237, Val F1 Score: 0.7678\n",
      "Epoch 7/50 - Loss: 0.2076, Val F1 Score: 0.8012\n",
      "Epoch 8/50 - Loss: 0.1949, Val F1 Score: 0.8086\n",
      "Epoch 9/50 - Loss: 0.1901, Val F1 Score: 0.8264\n",
      "Epoch 10/50 - Loss: 0.1819, Val F1 Score: 0.8022\n",
      "Epoch 11/50 - Loss: 0.1706, Val F1 Score: 0.8159\n",
      "Epoch 12/50 - Loss: 0.1659, Val F1 Score: 0.7735\n",
      "Epoch 13/50 - Loss: 0.1566, Val F1 Score: 0.7976\n",
      "Epoch 14/50 - Loss: 0.1491, Val F1 Score: 0.8127\n",
      "Epoch 15/50 - Loss: 0.1460, Val F1 Score: 0.8320\n",
      "Epoch 16/50 - Loss: 0.1360, Val F1 Score: 0.8121\n",
      "Epoch 17/50 - Loss: 0.1311, Val F1 Score: 0.7993\n",
      "Epoch 18/50 - Loss: 0.1187, Val F1 Score: 0.8131\n",
      "Epoch 19/50 - Loss: 0.1167, Val F1 Score: 0.8337\n",
      "Epoch 20/50 - Loss: 0.1047, Val F1 Score: 0.8332\n",
      "Epoch 21/50 - Loss: 0.0979, Val F1 Score: 0.8179\n",
      "Epoch 22/50 - Loss: 0.0940, Val F1 Score: 0.8178\n",
      "Epoch 23/50 - Loss: 0.0902, Val F1 Score: 0.8200\n",
      "Epoch 24/50 - Loss: 0.0910, Val F1 Score: 0.8300\n",
      "Epoch 25/50 - Loss: 0.0758, Val F1 Score: 0.8200\n",
      "Epoch 26/50 - Loss: 0.0715, Val F1 Score: 0.8416\n",
      "Epoch 27/50 - Loss: 0.0746, Val F1 Score: 0.8219\n",
      "Epoch 28/50 - Loss: 0.0568, Val F1 Score: 0.7813\n",
      "Epoch 29/50 - Loss: 0.0790, Val F1 Score: 0.8325\n",
      "Epoch 30/50 - Loss: 0.0535, Val F1 Score: 0.8007\n",
      "Epoch 31/50 - Loss: 0.0546, Val F1 Score: 0.8345\n",
      "Epoch 32/50 - Loss: 0.0542, Val F1 Score: 0.8363\n",
      "Epoch 33/50 - Loss: 0.0426, Val F1 Score: 0.8246\n",
      "Epoch 34/50 - Loss: 0.0626, Val F1 Score: 0.8282\n",
      "Epoch 35/50 - Loss: 0.0368, Val F1 Score: 0.7784\n",
      "Epoch 36/50 - Loss: 0.0388, Val F1 Score: 0.8299\n",
      "Epoch 37/50 - Loss: 0.0403, Val F1 Score: 0.8300\n",
      "Epoch 38/50 - Loss: 0.0331, Val F1 Score: 0.8265\n",
      "Epoch 39/50 - Loss: 0.0542, Val F1 Score: 0.8343\n",
      "Epoch 40/50 - Loss: 0.0326, Val F1 Score: 0.8375\n"
     ]
    },
    {
     "ename": "KeyboardInterrupt",
     "evalue": "",
     "output_type": "error",
     "traceback": [
      "\u001B[0;31m---------------------------------------------------------------------------\u001B[0m",
      "\u001B[0;31mKeyboardInterrupt\u001B[0m                         Traceback (most recent call last)",
      "Cell \u001B[0;32mIn[206], line 14\u001B[0m\n\u001B[1;32m     11\u001B[0m model\u001B[38;5;241m.\u001B[39mtrain()\n\u001B[1;32m     12\u001B[0m running_loss \u001B[38;5;241m=\u001B[39m \u001B[38;5;241m0.0\u001B[39m\n\u001B[0;32m---> 14\u001B[0m \u001B[38;5;28;01mfor\u001B[39;00m xb, yb \u001B[38;5;129;01min\u001B[39;00m train_loader:\n\u001B[1;32m     15\u001B[0m     xb \u001B[38;5;241m=\u001B[39m xb\u001B[38;5;241m.\u001B[39mto(device)  \u001B[38;5;66;03m# [B, 19, F, T]\u001B[39;00m\n\u001B[1;32m     16\u001B[0m     yb \u001B[38;5;241m=\u001B[39m yb\u001B[38;5;241m.\u001B[39mfloat()\u001B[38;5;241m.\u001B[39munsqueeze(\u001B[38;5;241m1\u001B[39m)\u001B[38;5;241m.\u001B[39mto(device) \u001B[38;5;66;03m# [B, 1]\u001B[39;00m\n",
      "File \u001B[0;32m~/Desktop/EPFL/ee452-nml/.venv/lib/python3.10/site-packages/torch/utils/data/dataloader.py:733\u001B[0m, in \u001B[0;36m_BaseDataLoaderIter.__next__\u001B[0;34m(self)\u001B[0m\n\u001B[1;32m    730\u001B[0m \u001B[38;5;28;01mif\u001B[39;00m \u001B[38;5;28mself\u001B[39m\u001B[38;5;241m.\u001B[39m_sampler_iter \u001B[38;5;129;01mis\u001B[39;00m \u001B[38;5;28;01mNone\u001B[39;00m:\n\u001B[1;32m    731\u001B[0m     \u001B[38;5;66;03m# TODO(https://github.com/pytorch/pytorch/issues/76750)\u001B[39;00m\n\u001B[1;32m    732\u001B[0m     \u001B[38;5;28mself\u001B[39m\u001B[38;5;241m.\u001B[39m_reset()  \u001B[38;5;66;03m# type: ignore[call-arg]\u001B[39;00m\n\u001B[0;32m--> 733\u001B[0m data \u001B[38;5;241m=\u001B[39m \u001B[38;5;28;43mself\u001B[39;49m\u001B[38;5;241;43m.\u001B[39;49m\u001B[43m_next_data\u001B[49m\u001B[43m(\u001B[49m\u001B[43m)\u001B[49m\n\u001B[1;32m    734\u001B[0m \u001B[38;5;28mself\u001B[39m\u001B[38;5;241m.\u001B[39m_num_yielded \u001B[38;5;241m+\u001B[39m\u001B[38;5;241m=\u001B[39m \u001B[38;5;241m1\u001B[39m\n\u001B[1;32m    735\u001B[0m \u001B[38;5;28;01mif\u001B[39;00m (\n\u001B[1;32m    736\u001B[0m     \u001B[38;5;28mself\u001B[39m\u001B[38;5;241m.\u001B[39m_dataset_kind \u001B[38;5;241m==\u001B[39m _DatasetKind\u001B[38;5;241m.\u001B[39mIterable\n\u001B[1;32m    737\u001B[0m     \u001B[38;5;129;01mand\u001B[39;00m \u001B[38;5;28mself\u001B[39m\u001B[38;5;241m.\u001B[39m_IterableDataset_len_called \u001B[38;5;129;01mis\u001B[39;00m \u001B[38;5;129;01mnot\u001B[39;00m \u001B[38;5;28;01mNone\u001B[39;00m\n\u001B[1;32m    738\u001B[0m     \u001B[38;5;129;01mand\u001B[39;00m \u001B[38;5;28mself\u001B[39m\u001B[38;5;241m.\u001B[39m_num_yielded \u001B[38;5;241m>\u001B[39m \u001B[38;5;28mself\u001B[39m\u001B[38;5;241m.\u001B[39m_IterableDataset_len_called\n\u001B[1;32m    739\u001B[0m ):\n",
      "File \u001B[0;32m~/Desktop/EPFL/ee452-nml/.venv/lib/python3.10/site-packages/torch/utils/data/dataloader.py:789\u001B[0m, in \u001B[0;36m_SingleProcessDataLoaderIter._next_data\u001B[0;34m(self)\u001B[0m\n\u001B[1;32m    787\u001B[0m \u001B[38;5;28;01mdef\u001B[39;00m\u001B[38;5;250m \u001B[39m\u001B[38;5;21m_next_data\u001B[39m(\u001B[38;5;28mself\u001B[39m):\n\u001B[1;32m    788\u001B[0m     index \u001B[38;5;241m=\u001B[39m \u001B[38;5;28mself\u001B[39m\u001B[38;5;241m.\u001B[39m_next_index()  \u001B[38;5;66;03m# may raise StopIteration\u001B[39;00m\n\u001B[0;32m--> 789\u001B[0m     data \u001B[38;5;241m=\u001B[39m \u001B[38;5;28;43mself\u001B[39;49m\u001B[38;5;241;43m.\u001B[39;49m\u001B[43m_dataset_fetcher\u001B[49m\u001B[38;5;241;43m.\u001B[39;49m\u001B[43mfetch\u001B[49m\u001B[43m(\u001B[49m\u001B[43mindex\u001B[49m\u001B[43m)\u001B[49m  \u001B[38;5;66;03m# may raise StopIteration\u001B[39;00m\n\u001B[1;32m    790\u001B[0m     \u001B[38;5;28;01mif\u001B[39;00m \u001B[38;5;28mself\u001B[39m\u001B[38;5;241m.\u001B[39m_pin_memory:\n\u001B[1;32m    791\u001B[0m         data \u001B[38;5;241m=\u001B[39m _utils\u001B[38;5;241m.\u001B[39mpin_memory\u001B[38;5;241m.\u001B[39mpin_memory(data, \u001B[38;5;28mself\u001B[39m\u001B[38;5;241m.\u001B[39m_pin_memory_device)\n",
      "File \u001B[0;32m~/Desktop/EPFL/ee452-nml/.venv/lib/python3.10/site-packages/torch/utils/data/_utils/fetch.py:55\u001B[0m, in \u001B[0;36m_MapDatasetFetcher.fetch\u001B[0;34m(self, possibly_batched_index)\u001B[0m\n\u001B[1;32m     53\u001B[0m \u001B[38;5;28;01melse\u001B[39;00m:\n\u001B[1;32m     54\u001B[0m     data \u001B[38;5;241m=\u001B[39m \u001B[38;5;28mself\u001B[39m\u001B[38;5;241m.\u001B[39mdataset[possibly_batched_index]\n\u001B[0;32m---> 55\u001B[0m \u001B[38;5;28;01mreturn\u001B[39;00m \u001B[38;5;28;43mself\u001B[39;49m\u001B[38;5;241;43m.\u001B[39;49m\u001B[43mcollate_fn\u001B[49m\u001B[43m(\u001B[49m\u001B[43mdata\u001B[49m\u001B[43m)\u001B[49m\n",
      "File \u001B[0;32m~/Desktop/EPFL/ee452-nml/.venv/lib/python3.10/site-packages/torch/utils/data/_utils/collate.py:398\u001B[0m, in \u001B[0;36mdefault_collate\u001B[0;34m(batch)\u001B[0m\n\u001B[1;32m    337\u001B[0m \u001B[38;5;28;01mdef\u001B[39;00m\u001B[38;5;250m \u001B[39m\u001B[38;5;21mdefault_collate\u001B[39m(batch):\n\u001B[1;32m    338\u001B[0m \u001B[38;5;250m    \u001B[39m\u001B[38;5;124mr\u001B[39m\u001B[38;5;124;03m\"\"\"\u001B[39;00m\n\u001B[1;32m    339\u001B[0m \u001B[38;5;124;03m    Take in a batch of data and put the elements within the batch into a tensor with an additional outer dimension - batch size.\u001B[39;00m\n\u001B[1;32m    340\u001B[0m \n\u001B[0;32m   (...)\u001B[0m\n\u001B[1;32m    396\u001B[0m \u001B[38;5;124;03m        >>> default_collate(batch)  # Handle `CustomType` automatically\u001B[39;00m\n\u001B[1;32m    397\u001B[0m \u001B[38;5;124;03m    \"\"\"\u001B[39;00m\n\u001B[0;32m--> 398\u001B[0m     \u001B[38;5;28;01mreturn\u001B[39;00m \u001B[43mcollate\u001B[49m\u001B[43m(\u001B[49m\u001B[43mbatch\u001B[49m\u001B[43m,\u001B[49m\u001B[43m \u001B[49m\u001B[43mcollate_fn_map\u001B[49m\u001B[38;5;241;43m=\u001B[39;49m\u001B[43mdefault_collate_fn_map\u001B[49m\u001B[43m)\u001B[49m\n",
      "File \u001B[0;32m~/Desktop/EPFL/ee452-nml/.venv/lib/python3.10/site-packages/torch/utils/data/_utils/collate.py:211\u001B[0m, in \u001B[0;36mcollate\u001B[0;34m(batch, collate_fn_map)\u001B[0m\n\u001B[1;32m    208\u001B[0m transposed \u001B[38;5;241m=\u001B[39m \u001B[38;5;28mlist\u001B[39m(\u001B[38;5;28mzip\u001B[39m(\u001B[38;5;241m*\u001B[39mbatch))  \u001B[38;5;66;03m# It may be accessed twice, so we use a list.\u001B[39;00m\n\u001B[1;32m    210\u001B[0m \u001B[38;5;28;01mif\u001B[39;00m \u001B[38;5;28misinstance\u001B[39m(elem, \u001B[38;5;28mtuple\u001B[39m):\n\u001B[0;32m--> 211\u001B[0m     \u001B[38;5;28;01mreturn\u001B[39;00m [\n\u001B[1;32m    212\u001B[0m         collate(samples, collate_fn_map\u001B[38;5;241m=\u001B[39mcollate_fn_map)\n\u001B[1;32m    213\u001B[0m         \u001B[38;5;28;01mfor\u001B[39;00m samples \u001B[38;5;129;01min\u001B[39;00m transposed\n\u001B[1;32m    214\u001B[0m     ]  \u001B[38;5;66;03m# Backwards compatibility.\u001B[39;00m\n\u001B[1;32m    215\u001B[0m \u001B[38;5;28;01melse\u001B[39;00m:\n\u001B[1;32m    216\u001B[0m     \u001B[38;5;28;01mtry\u001B[39;00m:\n",
      "File \u001B[0;32m~/Desktop/EPFL/ee452-nml/.venv/lib/python3.10/site-packages/torch/utils/data/_utils/collate.py:212\u001B[0m, in \u001B[0;36m<listcomp>\u001B[0;34m(.0)\u001B[0m\n\u001B[1;32m    208\u001B[0m transposed \u001B[38;5;241m=\u001B[39m \u001B[38;5;28mlist\u001B[39m(\u001B[38;5;28mzip\u001B[39m(\u001B[38;5;241m*\u001B[39mbatch))  \u001B[38;5;66;03m# It may be accessed twice, so we use a list.\u001B[39;00m\n\u001B[1;32m    210\u001B[0m \u001B[38;5;28;01mif\u001B[39;00m \u001B[38;5;28misinstance\u001B[39m(elem, \u001B[38;5;28mtuple\u001B[39m):\n\u001B[1;32m    211\u001B[0m     \u001B[38;5;28;01mreturn\u001B[39;00m [\n\u001B[0;32m--> 212\u001B[0m         \u001B[43mcollate\u001B[49m\u001B[43m(\u001B[49m\u001B[43msamples\u001B[49m\u001B[43m,\u001B[49m\u001B[43m \u001B[49m\u001B[43mcollate_fn_map\u001B[49m\u001B[38;5;241;43m=\u001B[39;49m\u001B[43mcollate_fn_map\u001B[49m\u001B[43m)\u001B[49m\n\u001B[1;32m    213\u001B[0m         \u001B[38;5;28;01mfor\u001B[39;00m samples \u001B[38;5;129;01min\u001B[39;00m transposed\n\u001B[1;32m    214\u001B[0m     ]  \u001B[38;5;66;03m# Backwards compatibility.\u001B[39;00m\n\u001B[1;32m    215\u001B[0m \u001B[38;5;28;01melse\u001B[39;00m:\n\u001B[1;32m    216\u001B[0m     \u001B[38;5;28;01mtry\u001B[39;00m:\n",
      "File \u001B[0;32m~/Desktop/EPFL/ee452-nml/.venv/lib/python3.10/site-packages/torch/utils/data/_utils/collate.py:155\u001B[0m, in \u001B[0;36mcollate\u001B[0;34m(batch, collate_fn_map)\u001B[0m\n\u001B[1;32m    153\u001B[0m \u001B[38;5;28;01mif\u001B[39;00m collate_fn_map \u001B[38;5;129;01mis\u001B[39;00m \u001B[38;5;129;01mnot\u001B[39;00m \u001B[38;5;28;01mNone\u001B[39;00m:\n\u001B[1;32m    154\u001B[0m     \u001B[38;5;28;01mif\u001B[39;00m elem_type \u001B[38;5;129;01min\u001B[39;00m collate_fn_map:\n\u001B[0;32m--> 155\u001B[0m         \u001B[38;5;28;01mreturn\u001B[39;00m \u001B[43mcollate_fn_map\u001B[49m\u001B[43m[\u001B[49m\u001B[43melem_type\u001B[49m\u001B[43m]\u001B[49m\u001B[43m(\u001B[49m\u001B[43mbatch\u001B[49m\u001B[43m,\u001B[49m\u001B[43m \u001B[49m\u001B[43mcollate_fn_map\u001B[49m\u001B[38;5;241;43m=\u001B[39;49m\u001B[43mcollate_fn_map\u001B[49m\u001B[43m)\u001B[49m\n\u001B[1;32m    157\u001B[0m     \u001B[38;5;28;01mfor\u001B[39;00m collate_type \u001B[38;5;129;01min\u001B[39;00m collate_fn_map:\n\u001B[1;32m    158\u001B[0m         \u001B[38;5;28;01mif\u001B[39;00m \u001B[38;5;28misinstance\u001B[39m(elem, collate_type):\n",
      "File \u001B[0;32m~/Desktop/EPFL/ee452-nml/.venv/lib/python3.10/site-packages/torch/utils/data/_utils/collate.py:272\u001B[0m, in \u001B[0;36mcollate_tensor_fn\u001B[0;34m(batch, collate_fn_map)\u001B[0m\n\u001B[1;32m    270\u001B[0m     storage \u001B[38;5;241m=\u001B[39m elem\u001B[38;5;241m.\u001B[39m_typed_storage()\u001B[38;5;241m.\u001B[39m_new_shared(numel, device\u001B[38;5;241m=\u001B[39melem\u001B[38;5;241m.\u001B[39mdevice)\n\u001B[1;32m    271\u001B[0m     out \u001B[38;5;241m=\u001B[39m elem\u001B[38;5;241m.\u001B[39mnew(storage)\u001B[38;5;241m.\u001B[39mresize_(\u001B[38;5;28mlen\u001B[39m(batch), \u001B[38;5;241m*\u001B[39m\u001B[38;5;28mlist\u001B[39m(elem\u001B[38;5;241m.\u001B[39msize()))\n\u001B[0;32m--> 272\u001B[0m \u001B[38;5;28;01mreturn\u001B[39;00m \u001B[43mtorch\u001B[49m\u001B[38;5;241;43m.\u001B[39;49m\u001B[43mstack\u001B[49m\u001B[43m(\u001B[49m\u001B[43mbatch\u001B[49m\u001B[43m,\u001B[49m\u001B[43m \u001B[49m\u001B[38;5;241;43m0\u001B[39;49m\u001B[43m,\u001B[49m\u001B[43m \u001B[49m\u001B[43mout\u001B[49m\u001B[38;5;241;43m=\u001B[39;49m\u001B[43mout\u001B[49m\u001B[43m)\u001B[49m\n",
      "\u001B[0;31mKeyboardInterrupt\u001B[0m: "
     ]
    }
   ],
   "execution_count": 206
  },
  {
   "metadata": {
    "ExecuteTime": {
     "end_time": "2025-06-06T23:57:52.163508Z",
     "start_time": "2025-06-06T23:57:51.982188Z"
    }
   },
   "cell_type": "code",
   "source": [
    "plt.plot(range(1, len(train_losses) + 1), train_losses, label=\"Train Loss\")\n",
    "plt.plot(range(1, len(val_f1s) + 1), val_f1s, label=\"Validation Loss\")\n",
    "plt.xlabel(\"Epoch\")\n",
    "plt.ylabel(\"Loss\")\n",
    "plt.title(\"Train & Validation Loss over Epochs\")\n",
    "plt.legend()\n",
    "plt.grid(True)\n",
    "plt.show()"
   ],
   "id": "2d03976cc00542e8",
   "outputs": [
    {
     "data": {
      "text/plain": [
       "<Figure size 640x480 with 1 Axes>"
      ],
      "image/png": "[encoded data removed]"
     },
     "metadata": {},
     "output_type": "display_data"
    }
   ],
   "execution_count": 207
  },
  {
   "metadata": {
    "ExecuteTime": {
     "end_time": "2025-06-06T23:58:27.377489Z",
     "start_time": "2025-06-06T23:58:26.213730Z"
    }
   },
   "cell_type": "code",
   "source": [
    "from sklearn.metrics import f1_score, recall_score, precision_score\n",
    "all_preds = []\n",
    "all_labels = []\n",
    "model.eval()\n",
    "with torch.no_grad():\n",
    "    for xb, yb in val_loader:\n",
    "        xb = xb.to(device)  # [B, 19, F, T]\n",
    "        yb = yb.float().unsqueeze(1).to(device) # [B, 1]\n",
    "        logits = model(xb)\n",
    "        probs = torch.sigmoid(logits)\n",
    "        preds = (probs > 0.45).float()\n",
    "\n",
    "        # Flatten and collect predictions and labels\n",
    "        all_preds.extend(preds.cpu().numpy().flatten())\n",
    "        all_labels.extend(yb.view(-1).cpu().numpy())\n",
    "f1 = f1_score(all_labels, all_preds)\n",
    "\n",
    "print(f\"Validation F1 Score: {f1:.4f}\")"
   ],
   "id": "2b83b503dd3aeac1",
   "outputs": [
    {
     "name": "stdout",
     "output_type": "stream",
     "text": [
      "Validation F1 Score: 0.8184\n"
     ]
    }
   ],
   "execution_count": 217
  },
  {
   "metadata": {
    "ExecuteTime": {
     "end_time": "2025-06-06T23:58:03.685533Z",
     "start_time": "2025-06-06T23:58:03.674757Z"
    }
   },
   "cell_type": "code",
   "source": [
    "from sklearn.metrics import f1_score, recall_score, precision_score, accuracy_score\n",
    "recall = recall_score(all_labels, all_preds)\n",
    "precision = precision_score(all_labels, all_preds)\n",
    "accuracy = accuracy_score(all_labels, all_preds)\n",
    "\n",
    "print(f\"Validation Recall: {recall:.4f}\")\n",
    "print(f\"Validation Precision: {precision:.4f}\")\n",
    "print(f\"Validation Accuracy: {accuracy:.4f}\")"
   ],
   "id": "fbad902467861ba1",
   "outputs": [
    {
     "name": "stdout",
     "output_type": "stream",
     "text": [
      "Validation Recall: 0.8093\n",
      "Validation Precision: 0.8270\n",
      "Validation Accuracy: 0.9288\n"
     ]
    }
   ],
   "execution_count": 213
  },
  {
   "metadata": {},
   "cell_type": "code",
   "outputs": [],
   "execution_count": null,
   "source": "",
   "id": "e4fa3ccdaa370b71"
  }
 ],
 "metadata": {
  "kernelspec": {
   "display_name": "Python 3",
   "language": "python",
   "name": "python3"
  },
  "language_info": {
   "codemirror_mode": {
    "name": "ipython",
    "version": 2
   },
   "file_extension": ".py",
   "mimetype": "text/x-python",
   "name": "python",
   "nbconvert_exporter": "python",
   "pygments_lexer": "ipython2",
   "version": "2.7.6"
  }
 },
 "nbformat": 4,
 "nbformat_minor": 5
}
