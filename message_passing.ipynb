{
 "cells": [
  {
   "metadata": {
    "ExecuteTime": {
     "end_time": "2025-06-06T15:13:43.647129Z",
     "start_time": "2025-06-06T15:13:39.579824Z"
    }
   },
   "cell_type": "code",
   "source": [
    "from pathlib import Path\n",
    "\n",
    "import numpy as np\n",
    "import pandas as pd\n",
    "import matplotlib.pyplot as plt\n",
    "from scipy import signal\n",
    "\n",
    "from seiz_eeg.dataset import EEGDataset\n",
    "\n",
    "import torch\n",
    "import torch.nn as nn\n",
    "from torch_geometric.data import Data, Dataset\n",
    "from torch_geometric.loader import DataLoader\n",
    "from torch_geometric.nn import MessagePassing, global_mean_pool\n",
    "\n",
    "import os\n",
    "import random\n",
    "\n",
    "from sklearn.metrics import f1_score, recall_score, precision_score\n",
    "\n",
    "from tqdm import tqdm"
   ],
   "id": "722d9a827b5f438b",
   "outputs": [
    {
     "name": "stderr",
     "output_type": "stream",
     "text": [
      "/Users/tugba/Desktop/EPFL/ee452-nml/.venv/lib/python3.10/site-packages/pandera/_pandas_deprecated.py:157: FutureWarning: Importing pandas-specific classes and functions from the\n",
      "top-level pandera module will be **removed in a future version of pandera**.\n",
      "If you're using pandera to validate pandas objects, we highly recommend updating\n",
      "your import:\n",
      "\n",
      "```\n",
      "# old import\n",
      "import pandera as pa\n",
      "\n",
      "# new import\n",
      "import pandera.pandas as pa\n",
      "```\n",
      "\n",
      "If you're using pandera to validate objects from other compatible libraries\n",
      "like pyspark or polars, see the supported libraries section of the documentation\n",
      "for more information on how to import pandera:\n",
      "\n",
      "https://pandera.readthedocs.io/en/stable/supported_libraries.html\n",
      "\n",
      "To disable this warning, set the environment variable:\n",
      "\n",
      "```\n",
      "export DISABLE_PANDERA_IMPORT_WARNING=True\n",
      "```\n",
      "\n",
      "  warnings.warn(_future_warning, FutureWarning)\n"
     ]
    }
   ],
   "execution_count": 1
  },
  {
   "metadata": {
    "ExecuteTime": {
     "end_time": "2025-06-06T15:13:43.654558Z",
     "start_time": "2025-06-06T15:13:43.652379Z"
    }
   },
   "cell_type": "code",
   "source": [
    "data_path = \"./data\"\n",
    "\n",
    "DATA_ROOT = Path(data_path)"
   ],
   "id": "8c150445d8e692d8",
   "outputs": [],
   "execution_count": 2
  },
  {
   "metadata": {
    "ExecuteTime": {
     "end_time": "2025-06-06T15:13:43.809148Z",
     "start_time": "2025-06-06T15:13:43.793531Z"
    }
   },
   "cell_type": "code",
   "source": [
    "# Load your CSV file\n",
    "df = pd.read_csv(DATA_ROOT / \"distances_3d.csv\")  # Update with your actual file path\n",
    "\n",
    "# Get sorted list of unique node names (e.g., 'FP1', 'F3', ...)\n",
    "nodes = sorted(set(df[\"from\"]) | set(df[\"to\"]))\n",
    "node_to_idx = {name: idx for idx, name in enumerate(nodes)}\n",
    "\n",
    "# Create empty matrix\n",
    "N = len(nodes)\n",
    "dist = np.full((N, N), np.inf)  # Initialize with inf (or large number)\n",
    "\n",
    "# Fill matrix\n",
    "for _, row in df.iterrows():\n",
    "    i = node_to_idx[row[\"from\"]]\n",
    "    j = node_to_idx[row[\"to\"]]\n",
    "    dist[i, j] = float(row[\"distance\"])"
   ],
   "id": "9fca9b9fa0d52493",
   "outputs": [],
   "execution_count": 3
  },
  {
   "metadata": {
    "ExecuteTime": {
     "end_time": "2025-06-06T15:13:51.214035Z",
     "start_time": "2025-06-06T15:13:51.208213Z"
    }
   },
   "cell_type": "code",
   "source": [
    "def build_softmax_thresholded_graph(dist, beta=10.0, keep_ratio=0.9):\n",
    "    N = dist.shape[0]\n",
    "    edge_index = []\n",
    "    edge_attr = []\n",
    "    added = set()\n",
    "\n",
    "    for i in range(N):\n",
    "        scores = -beta * (dist[i] ** 2)\n",
    "        scores[i] = -np.inf\n",
    "        weights = np.exp(scores)\n",
    "        weights /= weights.sum()\n",
    "\n",
    "        if keep_ratio == 1.0:\n",
    "            keep = [j for j in range(N) if j != i]\n",
    "        else:\n",
    "            sorted_idx = np.argsort(-weights)\n",
    "            cumulative = np.cumsum(weights[sorted_idx])\n",
    "            cutoff = np.searchsorted(cumulative, keep_ratio) + 1\n",
    "            keep = sorted_idx[:cutoff]\n",
    "\n",
    "        for j in keep:\n",
    "            if i != j and (i, j) not in added:\n",
    "                edge_index.append([i, j])\n",
    "                edge_attr.append(weights[j])\n",
    "                # Add reverse edge (j, i) with same weight\n",
    "                edge_index.append([j, i])\n",
    "                edge_attr.append(weights[j])\n",
    "                added.add((i, j))\n",
    "                added.add((j, i))\n",
    "\n",
    "    edge_index = torch.tensor(edge_index, dtype=torch.long).T  # shape [2, num_edges]\n",
    "    edge_attr = torch.tensor(edge_attr, dtype=torch.float32)   # shape [num_edges]\n",
    "    return edge_index, edge_attr\n",
    "\n"
   ],
   "id": "1aaa3c4932c91cf9",
   "outputs": [],
   "execution_count": 4
  },
  {
   "metadata": {
    "ExecuteTime": {
     "end_time": "2025-06-06T15:13:51.661809Z",
     "start_time": "2025-06-06T15:13:51.658279Z"
    }
   },
   "cell_type": "code",
   "source": "edge_index, edge_attr = build_softmax_thresholded_graph(dist, beta=5, keep_ratio=0.9)",
   "id": "29b78d11021fc377",
   "outputs": [],
   "execution_count": 5
  },
  {
   "metadata": {
    "ExecuteTime": {
     "end_time": "2025-06-06T15:13:52.115447Z",
     "start_time": "2025-06-06T15:13:52.107955Z"
    }
   },
   "cell_type": "code",
   "source": [
    "def seed_everything(seed: int):\n",
    "    # Python random module\n",
    "    random.seed(seed)\n",
    "    # Numpy random module\n",
    "    np.random.seed(seed)\n",
    "    # Torch random seeds\n",
    "    torch.manual_seed(seed)\n",
    "    torch.cuda.manual_seed(seed)\n",
    "    torch.cuda.manual_seed_all(seed)  # if you are using multi-GPU.\n",
    "\n",
    "    # Set PYTHONHASHSEED environment variable for hash-based operations\n",
    "    os.environ[\"PYTHONHASHSEED\"] = str(seed)\n",
    "\n",
    "    # Ensure deterministic behavior in cudnn (may slow down your training)\n",
    "    torch.backends.cudnn.deterministic = True\n",
    "    torch.backends.cudnn.benchmark = False\n",
    "\n",
    "\n",
    "seed_everything(1)"
   ],
   "id": "8f63096f686fa460",
   "outputs": [],
   "execution_count": 6
  },
  {
   "metadata": {
    "ExecuteTime": {
     "end_time": "2025-06-06T15:13:52.865402Z",
     "start_time": "2025-06-06T15:13:52.859816Z"
    }
   },
   "cell_type": "code",
   "source": [
    "bp_filter = signal.butter(4, (0.5, 30), btype=\"bandpass\", output=\"sos\", fs=250)\n",
    "\n",
    "\n",
    "def time_filtering(x: np.ndarray) -> np.ndarray:\n",
    "    \"\"\"Filter signal in the time domain\"\"\"\n",
    "    return signal.sosfiltfilt(bp_filter, x, axis=0).copy()\n",
    "\n",
    "\n",
    "def fft_filtering(x: np.ndarray) -> np.ndarray:\n",
    "    \"\"\"Compute FFT and only keep\"\"\"\n",
    "    x = np.abs(np.fft.fft(x, axis=0))\n",
    "    x = np.log(np.where(x > 1e-8, x, 1e-8))\n",
    "\n",
    "    win_len = x.shape[0]\n",
    "    # Only frequencies b/w 0.5 and 30Hz\n",
    "    return x[int(0.5 * win_len // 250) : 30 * win_len // 250]"
   ],
   "id": "31eac0022159625d",
   "outputs": [],
   "execution_count": 7
  },
  {
   "metadata": {
    "ExecuteTime": {
     "end_time": "2025-06-06T16:10:20.596217Z",
     "start_time": "2025-06-06T16:10:20.581519Z"
    }
   },
   "cell_type": "code",
   "source": [
    "from scipy import signal\n",
    "from scipy.stats import skew, kurtosis\n",
    "import numpy as np\n",
    "\n",
    "fs = 250 # Sampling frequency\n",
    "\n",
    "bp_filter = signal.butter(4, (0.5, 30), btype=\"bandpass\", output=\"sos\", fs=fs)\n",
    "\n",
    "def handcrafted_features(x: np.ndarray) -> np.ndarray:\n",
    "\n",
    "    mean_abs_diff1 = np.mean(np.abs(x[1:] - x[:-1]), axis=0)\n",
    "    mean_abs_diff2 = np.mean(np.abs(x[2:] - x[:-2]), axis=0)\n",
    "    std      = np.std(x, axis=0)\n",
    "    skewness = np.nan_to_num(skew(x, axis=0), nan=0.0)\n",
    "    kurt     = np.nan_to_num(kurtosis(x, axis=0), nan=0.0)\n",
    "\n",
    "    fft_vals = np.abs(np.fft.fft(x, axis=0))\n",
    "    fft_vals_log = np.log(np.where(fft_vals > 1e-8, fft_vals, 1e-8))\n",
    "\n",
    "    win_len = fft_vals.shape[0]\n",
    "\n",
    "    fft_vals_filtered = fft_vals_log[int(0.5 * win_len // 250) : 30 * win_len // 250]\n",
    "\n",
    "    fft_bins = []\n",
    "    prev_idx = 0\n",
    "    next_idx = 6\n",
    "\n",
    "    while next_idx <= fft_vals_filtered.shape[0]:\n",
    "        fft_bins.append(np.mean(fft_vals_filtered[prev_idx:next_idx], axis=0))\n",
    "        prev_idx = next_idx\n",
    "        next_idx += 12\n",
    "\n",
    "    fft_bins = np.array(fft_bins)\n",
    "\n",
    "    def band_power(fmin, fmax):\n",
    "        return np.sum(fft_vals[int(fmin * win_len // 250) : fmax * win_len // 250], axis=0)\n",
    "\n",
    "\n",
    "    delta = band_power(0.5, 4)\n",
    "    theta = band_power(4, 8)\n",
    "    alpha = band_power(8, 13)\n",
    "    beta  = band_power(13, 30)\n",
    "\n",
    "    total_power = np.sum(fft_vals, axis=0)\n",
    "\n",
    "    # Avoid division by zero\n",
    "    relative_delta = np.divide(delta, total_power, out=np.zeros_like(delta), where=total_power != 0)\n",
    "    relative_theta = np.divide(theta, total_power, out=np.zeros_like(theta), where=total_power != 0)\n",
    "    relative_alpha = np.divide(alpha, total_power, out=np.zeros_like(alpha), where=total_power != 0)\n",
    "    relative_beta  = np.divide(beta,  total_power, out=np.zeros_like(beta),  where=total_power != 0)\n",
    "\n",
    "\n",
    "    def hjorth_params(x_channel):\n",
    "        dx = np.diff(x_channel)\n",
    "        ddx = np.diff(dx)\n",
    "        var_x = np.var(x_channel)\n",
    "        var_dx = np.var(dx)\n",
    "        var_ddx = np.var(ddx)\n",
    "        mobility = np.sqrt(var_dx / var_x) if var_x != 0 else 0\n",
    "        complexity = np.sqrt(var_ddx / var_dx) / mobility if var_dx != 0 and mobility != 0 else 0\n",
    "        return mobility, complexity\n",
    "\n",
    "    mobility = np.zeros(x.shape[1])\n",
    "    complexity = np.zeros(x.shape[1])\n",
    "    for i in range(x.shape[1]):\n",
    "        mobility[i], complexity[i] = hjorth_params(x[:, i])\n",
    "\n",
    "    zero_crossings = np.sum(np.abs(np.diff(np.signbit(x), axis=0)), axis=0)\n",
    "\n",
    "    def shannon_entropy(signal):\n",
    "        hist, _ = np.histogram(signal, bins=50, density=True)\n",
    "        hist += 1e-12\n",
    "        return -np.sum(hist * np.log2(hist))\n",
    "\n",
    "    entropy = np.array([shannon_entropy(x[:, i]) for i in range(x.shape[1])])\n",
    "\n",
    "    psd = fft_vals / (np.sum(fft_vals, axis=0, keepdims=True) + 1e-12)\n",
    "    spectral_entropy = -np.sum(psd * np.log2(psd + 1e-12), axis=0)\n",
    "\n",
    "    features = np.concatenate([\n",
    "        fft_vals_filtered.T, # shape (19, 354)\n",
    "        mean_abs_diff1[:, None],\n",
    "        mean_abs_diff2[:, None],\n",
    "        std[:, None],\n",
    "        skewness[:, None],\n",
    "        kurt[:, None],\n",
    "        delta[:, None], theta[:, None], alpha[:, None], beta[:, None],\n",
    "        relative_delta[:, None], relative_theta[:, None], relative_alpha[:, None], relative_beta[:, None],\n",
    "        mobility[:, None], complexity[:, None],\n",
    "        zero_crossings[:, None],\n",
    "        entropy[:, None],\n",
    "        spectral_entropy[:, None],\n",
    "    ], axis=1).T\n",
    "\n",
    "\n",
    "    #features = (features - np.mean(features, axis=1, keepdims=True)) / (np.std(features, axis=1, keepdims=True) + 1e-8)\n",
    "    return features"
   ],
   "id": "220e9c29ad60d0fc",
   "outputs": [],
   "execution_count": 73
  },
  {
   "metadata": {
    "ExecuteTime": {
     "end_time": "2025-06-06T16:11:48.346598Z",
     "start_time": "2025-06-06T16:10:21.986609Z"
    }
   },
   "cell_type": "code",
   "source": [
    "clips_tr = pd.read_parquet(DATA_ROOT / \"train/segments.parquet\")\n",
    "dataset_tr = EEGDataset(\n",
    "    clips_tr,\n",
    "    signals_root=DATA_ROOT / \"train\",\n",
    "    signal_transform=handcrafted_features,\n",
    "    prefetch=True,  # If your compute does not allow it, you can use `prefetch=False`\n",
    ")"
   ],
   "id": "8d196e914edb2d6f",
   "outputs": [],
   "execution_count": 74
  },
  {
   "metadata": {
    "ExecuteTime": {
     "end_time": "2025-06-06T16:11:51.396618Z",
     "start_time": "2025-06-06T16:11:51.391528Z"
    }
   },
   "cell_type": "code",
   "source": "dataset_tr[0][0].shape",
   "id": "dd9205525212c6bc",
   "outputs": [
    {
     "data": {
      "text/plain": [
       "(372, 19)"
      ]
     },
     "execution_count": 75,
     "metadata": {},
     "output_type": "execute_result"
    }
   ],
   "execution_count": 75
  },
  {
   "metadata": {
    "ExecuteTime": {
     "end_time": "2025-06-06T16:11:52.210432Z",
     "start_time": "2025-06-06T16:11:52.205895Z"
    }
   },
   "cell_type": "code",
   "source": [
    "class EEGGraphDataset(Dataset):\n",
    "    def __init__(self, data, edge_index, edge_attr, is_train=True):\n",
    "        super().__init__()\n",
    "        self.num_samples = len(data)\n",
    "        self.edge_index = edge_index\n",
    "        self.edge_attr = edge_attr\n",
    "        self.data = data\n",
    "        self.is_train = is_train\n",
    "\n",
    "    def __len__(self):\n",
    "        return self.num_samples\n",
    "\n",
    "    def __getitem__(self, idx):\n",
    "        x = torch.tensor(self.data[idx][0].T, dtype=torch.float32)  # Simulated signal\n",
    "        y = int(self.data[idx][1]) # Target label if training, else ID\n",
    "        if self.is_train:\n",
    "            return Data(x=x, edge_index=self.edge_index, edge_attr=self.edge_attr, y=torch.tensor([[y]], dtype=torch.float32))\n",
    "        else:\n",
    "            return Data(x=x, edge_index=self.edge_index, edge_attr=self.edge_attr, id=y)"
   ],
   "id": "fb7d3956b31708eb",
   "outputs": [],
   "execution_count": 76
  },
  {
   "metadata": {
    "ExecuteTime": {
     "end_time": "2025-06-06T16:31:49.196898Z",
     "start_time": "2025-06-06T16:31:49.186056Z"
    }
   },
   "cell_type": "code",
   "source": [
    "from torch_geometric.utils import softmax\n",
    "class DistanceMPNNLayer(MessagePassing):\n",
    "    def __init__(self, in_channels, hidden_channels):\n",
    "        super().__init__(aggr='add')  # sum aggregation\n",
    "        self.mlp_msg = nn.Sequential(\n",
    "            nn.Linear(in_channels, hidden_channels),\n",
    "            nn.ReLU(),\n",
    "            nn.Linear(hidden_channels, hidden_channels),\n",
    "        )\n",
    "        self.att_mlp = nn.Sequential(\n",
    "            nn.Linear(2 * in_channels, 1)  # computes raw attention score\n",
    "        )\n",
    "        self.mlp_update = nn.Sequential(\n",
    "            nn.Linear(in_channels + hidden_channels, hidden_channels),\n",
    "            nn.LayerNorm(hidden_channels),\n",
    "            nn.ReLU()\n",
    "        )\n",
    "        self.norm = nn.LayerNorm(hidden_channels)\n",
    "\n",
    "    def forward(self, x, edge_index, edge_attr):\n",
    "        return self.mlp_update(torch.cat([x, self.propagate(edge_index=edge_index, x=x, edge_attr=edge_attr)], dim=-1))\n",
    "\n",
    "    def message(self, x_i, x_j, index, edge_attr):\n",
    "        # Compute attention scores from concatenated [x_i || x_j]\n",
    "        att_input = torch.cat([x_i, x_j], dim=-1)\n",
    "        att_scores = self.att_mlp(att_input).squeeze(-1)\n",
    "\n",
    "        # Softmax normalization per target node (index)\n",
    "        att_weights = softmax(att_scores, index)\n",
    "\n",
    "        # Compute message ψ(X_j) and weight it by attention α\n",
    "        return att_weights.view(-1, 1) * self.mlp_msg(x_j)\n",
    "\n",
    "\n",
    "\n",
    "class DistanceMPNN(nn.Module):\n",
    "    def __init__(self, in_channels, hidden_channels_1, hidden_channels_2, hidden_channels_3):\n",
    "        super().__init__()\n",
    "        self.first = DistanceMPNNLayer(in_channels, hidden_channels_1)\n",
    "        self.second = DistanceMPNNLayer(hidden_channels_1, hidden_channels_2)\n",
    "        self.third = DistanceMPNNLayer(hidden_channels_2, hidden_channels_3)\n",
    "        self.final_mlp = nn.Linear(hidden_channels_3, 1)\n",
    "\n",
    "\n",
    "    def forward(self, x, edge_index, edge_attr, batch):\n",
    "        return self.final_mlp(global_mean_pool(self.third(self.second(self.first(x, edge_index, edge_attr), edge_index, edge_attr),edge_index, edge_attr), batch))"
   ],
   "id": "e27a0824336d716f",
   "outputs": [],
   "execution_count": 89
  },
  {
   "metadata": {
    "ExecuteTime": {
     "end_time": "2025-06-06T16:31:49.781917Z",
     "start_time": "2025-06-06T16:31:49.778414Z"
    }
   },
   "cell_type": "code",
   "source": [
    "from torch.utils.data import random_split\n",
    "\n",
    "total_len = len(dataset_tr)\n",
    "train_len = int(0.8 * total_len)\n",
    "val_len = total_len - train_len\n",
    "\n",
    "# Randomly split\n",
    "dataset_tr_split, dataset_val_split = random_split(dataset_tr, [train_len, val_len])\n"
   ],
   "id": "f5c27f98a86c0d4",
   "outputs": [],
   "execution_count": 90
  },
  {
   "metadata": {
    "ExecuteTime": {
     "end_time": "2025-06-06T16:31:50.334511Z",
     "start_time": "2025-06-06T16:31:50.330954Z"
    }
   },
   "cell_type": "code",
   "source": [
    "# Now wrap both in EEGGraphDataset\n",
    "train_dataset = EEGGraphDataset(dataset_tr_split, edge_index=edge_index, edge_attr=edge_attr, is_train=True)\n",
    "val_dataset = EEGGraphDataset(dataset_val_split, edge_index=edge_index, edge_attr=edge_attr, is_train=True)"
   ],
   "id": "eccdb94874cc4683",
   "outputs": [],
   "execution_count": 91
  },
  {
   "metadata": {
    "collapsed": true,
    "ExecuteTime": {
     "end_time": "2025-06-06T16:45:09.851193Z",
     "start_time": "2025-06-06T16:31:50.757842Z"
    }
   },
   "cell_type": "code",
   "source": [
    "val_loader = DataLoader(val_dataset, batch_size=32, shuffle=False)\n",
    "train_loader = DataLoader(train_dataset, batch_size=32, shuffle=True)\n",
    "\n",
    "device = torch.device(\"cuda\" if torch.cuda.is_available() else \"cpu\")\n",
    "model = DistanceMPNN(in_channels=dataset_tr[0][0].shape[0], hidden_channels_1=128, hidden_channels_2=64, hidden_channels_3=16).to(device)\n",
    "optimizer = torch.optim.Adam(model.parameters(), lr=1e-3)\n",
    "\n",
    "criterion = nn.BCEWithLogitsLoss()\n",
    "\n",
    "train_losses = []\n",
    "val_losses = []\n",
    "\n",
    "for epoch in range(1000):\n",
    "    model.train()\n",
    "    total_train_loss = 0\n",
    "    for batch in train_loader:\n",
    "        batch = batch.to(device)\n",
    "        optimizer.zero_grad()\n",
    "        logits = model(batch.x, batch.edge_index, batch.edge_attr, batch.batch)\n",
    "        loss = criterion(logits, batch.y)\n",
    "        loss.backward()\n",
    "        optimizer.step()\n",
    "        total_train_loss += loss.item()\n",
    "    avg_train_loss = total_train_loss / len(train_loader)\n",
    "    train_losses.append(avg_train_loss)\n",
    "\n",
    "    model.eval()\n",
    "    total_val_loss = 0\n",
    "    all_preds = []\n",
    "    all_labels = []\n",
    "    with torch.no_grad():\n",
    "        for batch in val_loader:\n",
    "            batch = batch.to(device)\n",
    "            logits = model(batch.x, batch.edge_index, batch.edge_attr, batch.batch)\n",
    "            probs = torch.sigmoid(logits)\n",
    "            preds = (probs > 0.25).float()\n",
    "\n",
    "            # Flatten and collect predictions and labels\n",
    "            all_preds.extend(preds.cpu().numpy().flatten())\n",
    "            all_labels.extend(batch.y.view(-1).cpu().numpy())\n",
    "    f1 = f1_score(all_labels, all_preds)\n",
    "    val_losses.append(f1)\n",
    "\n",
    "    print(f\"Epoch {epoch+1}, Train Loss: {avg_train_loss:.4f}, Val F1 Score: {f1:.4f}\")\n",
    "\n"
   ],
   "id": "initial_id",
   "outputs": [
    {
     "name": "stdout",
     "output_type": "stream",
     "text": [
      "Epoch 1, Train Loss: 0.4568, Val F1 Score: 0.3224\n",
      "Epoch 2, Train Loss: 0.4242, Val F1 Score: 0.4737\n",
      "Epoch 3, Train Loss: 0.4067, Val F1 Score: 0.4898\n",
      "Epoch 4, Train Loss: 0.3957, Val F1 Score: 0.5464\n",
      "Epoch 5, Train Loss: 0.3808, Val F1 Score: 0.6039\n",
      "Epoch 6, Train Loss: 0.3581, Val F1 Score: 0.6139\n",
      "Epoch 7, Train Loss: 0.3492, Val F1 Score: 0.5484\n",
      "Epoch 8, Train Loss: 0.3444, Val F1 Score: 0.6433\n",
      "Epoch 9, Train Loss: 0.3317, Val F1 Score: 0.6202\n",
      "Epoch 10, Train Loss: 0.3298, Val F1 Score: 0.6213\n",
      "Epoch 11, Train Loss: 0.3211, Val F1 Score: 0.6674\n",
      "Epoch 12, Train Loss: 0.3185, Val F1 Score: 0.6081\n",
      "Epoch 13, Train Loss: 0.3184, Val F1 Score: 0.6767\n",
      "Epoch 14, Train Loss: 0.3140, Val F1 Score: 0.6703\n",
      "Epoch 15, Train Loss: 0.3082, Val F1 Score: 0.6348\n",
      "Epoch 16, Train Loss: 0.3043, Val F1 Score: 0.6742\n",
      "Epoch 17, Train Loss: 0.2993, Val F1 Score: 0.6288\n",
      "Epoch 18, Train Loss: 0.2966, Val F1 Score: 0.6824\n",
      "Epoch 19, Train Loss: 0.2963, Val F1 Score: 0.6564\n",
      "Epoch 20, Train Loss: 0.2904, Val F1 Score: 0.6802\n",
      "Epoch 21, Train Loss: 0.2901, Val F1 Score: 0.7206\n",
      "Epoch 22, Train Loss: 0.2846, Val F1 Score: 0.7090\n",
      "Epoch 23, Train Loss: 0.2813, Val F1 Score: 0.6767\n",
      "Epoch 24, Train Loss: 0.2812, Val F1 Score: 0.6829\n",
      "Epoch 25, Train Loss: 0.2780, Val F1 Score: 0.6856\n",
      "Epoch 26, Train Loss: 0.2735, Val F1 Score: 0.6557\n",
      "Epoch 27, Train Loss: 0.2768, Val F1 Score: 0.7161\n",
      "Epoch 28, Train Loss: 0.2681, Val F1 Score: 0.6940\n",
      "Epoch 29, Train Loss: 0.2672, Val F1 Score: 0.6962\n",
      "Epoch 30, Train Loss: 0.2663, Val F1 Score: 0.7105\n",
      "Epoch 31, Train Loss: 0.2612, Val F1 Score: 0.6972\n",
      "Epoch 32, Train Loss: 0.2621, Val F1 Score: 0.6799\n",
      "Epoch 33, Train Loss: 0.2598, Val F1 Score: 0.7100\n",
      "Epoch 34, Train Loss: 0.2618, Val F1 Score: 0.7168\n",
      "Epoch 35, Train Loss: 0.2548, Val F1 Score: 0.6789\n",
      "Epoch 36, Train Loss: 0.2543, Val F1 Score: 0.7179\n",
      "Epoch 37, Train Loss: 0.2490, Val F1 Score: 0.7132\n",
      "Epoch 38, Train Loss: 0.2462, Val F1 Score: 0.7119\n",
      "Epoch 39, Train Loss: 0.2497, Val F1 Score: 0.6862\n",
      "Epoch 40, Train Loss: 0.2463, Val F1 Score: 0.7318\n",
      "Epoch 41, Train Loss: 0.2396, Val F1 Score: 0.6255\n",
      "Epoch 42, Train Loss: 0.2410, Val F1 Score: 0.7220\n",
      "Epoch 43, Train Loss: 0.2362, Val F1 Score: 0.7162\n",
      "Epoch 44, Train Loss: 0.2424, Val F1 Score: 0.7103\n",
      "Epoch 45, Train Loss: 0.2408, Val F1 Score: 0.6936\n",
      "Epoch 46, Train Loss: 0.2391, Val F1 Score: 0.7202\n",
      "Epoch 47, Train Loss: 0.2275, Val F1 Score: 0.7342\n",
      "Epoch 48, Train Loss: 0.2281, Val F1 Score: 0.7176\n",
      "Epoch 49, Train Loss: 0.2370, Val F1 Score: 0.7113\n",
      "Epoch 50, Train Loss: 0.2294, Val F1 Score: 0.7529\n",
      "Epoch 51, Train Loss: 0.2330, Val F1 Score: 0.7154\n",
      "Epoch 52, Train Loss: 0.2224, Val F1 Score: 0.7113\n",
      "Epoch 53, Train Loss: 0.2290, Val F1 Score: 0.7078\n",
      "Epoch 54, Train Loss: 0.2160, Val F1 Score: 0.7285\n",
      "Epoch 55, Train Loss: 0.2182, Val F1 Score: 0.7233\n",
      "Epoch 56, Train Loss: 0.2166, Val F1 Score: 0.7134\n",
      "Epoch 57, Train Loss: 0.2322, Val F1 Score: 0.7020\n",
      "Epoch 58, Train Loss: 0.2267, Val F1 Score: 0.7386\n",
      "Epoch 59, Train Loss: 0.2338, Val F1 Score: 0.7226\n",
      "Epoch 60, Train Loss: 0.2279, Val F1 Score: 0.7192\n",
      "Epoch 61, Train Loss: 0.2308, Val F1 Score: 0.6967\n",
      "Epoch 62, Train Loss: 0.2251, Val F1 Score: 0.7019\n",
      "Epoch 63, Train Loss: 0.2270, Val F1 Score: 0.7306\n",
      "Epoch 64, Train Loss: 0.2226, Val F1 Score: 0.7461\n",
      "Epoch 65, Train Loss: 0.2130, Val F1 Score: 0.7001\n",
      "Epoch 66, Train Loss: 0.2123, Val F1 Score: 0.7471\n",
      "Epoch 67, Train Loss: 0.2018, Val F1 Score: 0.6918\n",
      "Epoch 68, Train Loss: 0.2035, Val F1 Score: 0.6950\n",
      "Epoch 69, Train Loss: 0.2000, Val F1 Score: 0.7370\n",
      "Epoch 70, Train Loss: 0.1991, Val F1 Score: 0.7302\n",
      "Epoch 71, Train Loss: 0.1952, Val F1 Score: 0.7290\n",
      "Epoch 72, Train Loss: 0.1911, Val F1 Score: 0.7002\n",
      "Epoch 73, Train Loss: 0.1841, Val F1 Score: 0.6576\n",
      "Epoch 74, Train Loss: 0.1891, Val F1 Score: 0.6702\n",
      "Epoch 75, Train Loss: 0.1849, Val F1 Score: 0.7344\n",
      "Epoch 76, Train Loss: 0.1815, Val F1 Score: 0.7309\n",
      "Epoch 77, Train Loss: 0.1826, Val F1 Score: 0.7285\n",
      "Epoch 78, Train Loss: 0.1772, Val F1 Score: 0.7223\n",
      "Epoch 79, Train Loss: 0.1760, Val F1 Score: 0.7369\n",
      "Epoch 80, Train Loss: 0.1686, Val F1 Score: 0.7551\n",
      "Epoch 81, Train Loss: 0.1640, Val F1 Score: 0.7345\n",
      "Epoch 82, Train Loss: 0.1737, Val F1 Score: 0.7554\n",
      "Epoch 83, Train Loss: 0.1612, Val F1 Score: 0.7366\n",
      "Epoch 84, Train Loss: 0.1669, Val F1 Score: 0.6745\n",
      "Epoch 85, Train Loss: 0.1633, Val F1 Score: 0.7628\n",
      "Epoch 86, Train Loss: 0.1545, Val F1 Score: 0.7335\n",
      "Epoch 87, Train Loss: 0.1482, Val F1 Score: 0.7366\n",
      "Epoch 88, Train Loss: 0.1520, Val F1 Score: 0.7372\n",
      "Epoch 89, Train Loss: 0.1522, Val F1 Score: 0.7576\n",
      "Epoch 90, Train Loss: 0.1522, Val F1 Score: 0.7515\n",
      "Epoch 91, Train Loss: 0.1532, Val F1 Score: 0.7174\n",
      "Epoch 92, Train Loss: 0.1511, Val F1 Score: 0.7365\n",
      "Epoch 93, Train Loss: 0.1394, Val F1 Score: 0.7412\n",
      "Epoch 94, Train Loss: 0.1460, Val F1 Score: 0.7593\n",
      "Epoch 95, Train Loss: 0.1405, Val F1 Score: 0.7323\n",
      "Epoch 96, Train Loss: 0.1499, Val F1 Score: 0.7266\n",
      "Epoch 97, Train Loss: 0.1410, Val F1 Score: 0.7176\n",
      "Epoch 98, Train Loss: 0.1478, Val F1 Score: 0.7278\n",
      "Epoch 99, Train Loss: 0.1319, Val F1 Score: 0.7231\n",
      "Epoch 100, Train Loss: 0.1376, Val F1 Score: 0.7055\n",
      "Epoch 101, Train Loss: 0.1313, Val F1 Score: 0.7224\n",
      "Epoch 102, Train Loss: 0.1343, Val F1 Score: 0.7486\n",
      "Epoch 103, Train Loss: 0.1283, Val F1 Score: 0.7189\n",
      "Epoch 104, Train Loss: 0.1294, Val F1 Score: 0.7307\n",
      "Epoch 105, Train Loss: 0.1219, Val F1 Score: 0.7437\n",
      "Epoch 106, Train Loss: 0.1331, Val F1 Score: 0.7429\n",
      "Epoch 107, Train Loss: 0.1201, Val F1 Score: 0.7365\n",
      "Epoch 108, Train Loss: 0.1384, Val F1 Score: 0.7148\n",
      "Epoch 109, Train Loss: 0.1190, Val F1 Score: 0.7338\n",
      "Epoch 110, Train Loss: 0.1251, Val F1 Score: 0.7586\n",
      "Epoch 111, Train Loss: 0.1222, Val F1 Score: 0.7511\n",
      "Epoch 112, Train Loss: 0.1172, Val F1 Score: 0.7639\n",
      "Epoch 113, Train Loss: 0.1142, Val F1 Score: 0.7510\n",
      "Epoch 114, Train Loss: 0.1142, Val F1 Score: 0.7206\n",
      "Epoch 115, Train Loss: 0.1201, Val F1 Score: 0.7650\n",
      "Epoch 116, Train Loss: 0.1089, Val F1 Score: 0.7354\n",
      "Epoch 117, Train Loss: 0.1167, Val F1 Score: 0.7391\n",
      "Epoch 118, Train Loss: 0.1214, Val F1 Score: 0.7586\n",
      "Epoch 119, Train Loss: 0.1114, Val F1 Score: 0.7482\n",
      "Epoch 120, Train Loss: 0.1187, Val F1 Score: 0.7452\n",
      "Epoch 121, Train Loss: 0.1254, Val F1 Score: 0.7568\n",
      "Epoch 122, Train Loss: 0.1138, Val F1 Score: 0.7337\n",
      "Epoch 123, Train Loss: 0.0988, Val F1 Score: 0.7369\n",
      "Epoch 124, Train Loss: 0.1009, Val F1 Score: 0.7128\n",
      "Epoch 125, Train Loss: 0.1147, Val F1 Score: 0.7552\n",
      "Epoch 126, Train Loss: 0.1077, Val F1 Score: 0.7061\n",
      "Epoch 127, Train Loss: 0.1181, Val F1 Score: 0.7444\n",
      "Epoch 128, Train Loss: 0.1196, Val F1 Score: 0.7520\n",
      "Epoch 129, Train Loss: 0.1143, Val F1 Score: 0.7451\n",
      "Epoch 130, Train Loss: 0.1005, Val F1 Score: 0.7536\n",
      "Epoch 131, Train Loss: 0.1072, Val F1 Score: 0.7591\n",
      "Epoch 132, Train Loss: 0.1014, Val F1 Score: 0.7529\n",
      "Epoch 133, Train Loss: 0.0896, Val F1 Score: 0.7421\n",
      "Epoch 134, Train Loss: 0.0927, Val F1 Score: 0.7440\n",
      "Epoch 135, Train Loss: 0.0908, Val F1 Score: 0.7474\n",
      "Epoch 136, Train Loss: 0.0933, Val F1 Score: 0.7667\n",
      "Epoch 137, Train Loss: 0.0912, Val F1 Score: 0.7398\n",
      "Epoch 138, Train Loss: 0.0874, Val F1 Score: 0.7495\n",
      "Epoch 139, Train Loss: 0.0960, Val F1 Score: 0.7484\n",
      "Epoch 140, Train Loss: 0.1036, Val F1 Score: 0.7367\n",
      "Epoch 141, Train Loss: 0.0811, Val F1 Score: 0.7278\n",
      "Epoch 142, Train Loss: 0.0867, Val F1 Score: 0.7423\n",
      "Epoch 143, Train Loss: 0.0836, Val F1 Score: 0.7626\n",
      "Epoch 144, Train Loss: 0.0890, Val F1 Score: 0.7435\n",
      "Epoch 145, Train Loss: 0.0926, Val F1 Score: 0.7407\n",
      "Epoch 146, Train Loss: 0.0846, Val F1 Score: 0.7471\n",
      "Epoch 147, Train Loss: 0.0833, Val F1 Score: 0.7624\n",
      "Epoch 148, Train Loss: 0.0892, Val F1 Score: 0.7544\n",
      "Epoch 149, Train Loss: 0.0958, Val F1 Score: 0.7369\n",
      "Epoch 150, Train Loss: 0.0996, Val F1 Score: 0.6888\n",
      "Epoch 151, Train Loss: 0.0893, Val F1 Score: 0.7585\n",
      "Epoch 152, Train Loss: 0.0667, Val F1 Score: 0.7380\n",
      "Epoch 153, Train Loss: 0.0720, Val F1 Score: 0.7118\n",
      "Epoch 154, Train Loss: 0.0920, Val F1 Score: 0.7323\n",
      "Epoch 155, Train Loss: 0.0792, Val F1 Score: 0.7644\n",
      "Epoch 156, Train Loss: 0.0703, Val F1 Score: 0.7579\n",
      "Epoch 157, Train Loss: 0.0837, Val F1 Score: 0.7441\n",
      "Epoch 158, Train Loss: 0.0726, Val F1 Score: 0.7529\n",
      "Epoch 159, Train Loss: 0.0665, Val F1 Score: 0.7399\n"
     ]
    },
    {
     "ename": "KeyboardInterrupt",
     "evalue": "",
     "output_type": "error",
     "traceback": [
      "\u001B[0;31m---------------------------------------------------------------------------\u001B[0m",
      "\u001B[0;31mKeyError\u001B[0m                                  Traceback (most recent call last)",
      "File \u001B[0;32m~/Desktop/EPFL/ee452-nml/.venv/lib/python3.10/site-packages/torch_geometric/data/storage.py:94\u001B[0m, in \u001B[0;36mBaseStorage.__getattr__\u001B[0;34m(self, key)\u001B[0m\n\u001B[1;32m     93\u001B[0m \u001B[38;5;28;01mtry\u001B[39;00m:\n\u001B[0;32m---> 94\u001B[0m     \u001B[38;5;28;01mreturn\u001B[39;00m \u001B[38;5;28;43mself\u001B[39;49m\u001B[43m[\u001B[49m\u001B[43mkey\u001B[49m\u001B[43m]\u001B[49m\n\u001B[1;32m     95\u001B[0m \u001B[38;5;28;01mexcept\u001B[39;00m \u001B[38;5;167;01mKeyError\u001B[39;00m:\n",
      "File \u001B[0;32m~/Desktop/EPFL/ee452-nml/.venv/lib/python3.10/site-packages/torch_geometric/data/storage.py:118\u001B[0m, in \u001B[0;36mBaseStorage.__getitem__\u001B[0;34m(self, key)\u001B[0m\n\u001B[1;32m    117\u001B[0m \u001B[38;5;28;01mdef\u001B[39;00m\u001B[38;5;250m \u001B[39m\u001B[38;5;21m__getitem__\u001B[39m(\u001B[38;5;28mself\u001B[39m, key: \u001B[38;5;28mstr\u001B[39m) \u001B[38;5;241m-\u001B[39m\u001B[38;5;241m>\u001B[39m Any:\n\u001B[0;32m--> 118\u001B[0m     \u001B[38;5;28;01mreturn\u001B[39;00m \u001B[38;5;28;43mself\u001B[39;49m\u001B[38;5;241;43m.\u001B[39;49m\u001B[43m_mapping\u001B[49m\u001B[43m[\u001B[49m\u001B[43mkey\u001B[49m\u001B[43m]\u001B[49m\n",
      "\u001B[0;31mKeyError\u001B[0m: '_cached_attr'",
      "\nDuring handling of the above exception, another exception occurred:\n",
      "\u001B[0;31mKeyboardInterrupt\u001B[0m                         Traceback (most recent call last)",
      "Cell \u001B[0;32mIn[92], line 16\u001B[0m\n\u001B[1;32m     14\u001B[0m model\u001B[38;5;241m.\u001B[39mtrain()\n\u001B[1;32m     15\u001B[0m total_train_loss \u001B[38;5;241m=\u001B[39m \u001B[38;5;241m0\u001B[39m\n\u001B[0;32m---> 16\u001B[0m \u001B[38;5;28;01mfor\u001B[39;00m batch \u001B[38;5;129;01min\u001B[39;00m train_loader:\n\u001B[1;32m     17\u001B[0m     batch \u001B[38;5;241m=\u001B[39m batch\u001B[38;5;241m.\u001B[39mto(device)\n\u001B[1;32m     18\u001B[0m     optimizer\u001B[38;5;241m.\u001B[39mzero_grad()\n",
      "File \u001B[0;32m~/Desktop/EPFL/ee452-nml/.venv/lib/python3.10/site-packages/torch/utils/data/dataloader.py:733\u001B[0m, in \u001B[0;36m_BaseDataLoaderIter.__next__\u001B[0;34m(self)\u001B[0m\n\u001B[1;32m    730\u001B[0m \u001B[38;5;28;01mif\u001B[39;00m \u001B[38;5;28mself\u001B[39m\u001B[38;5;241m.\u001B[39m_sampler_iter \u001B[38;5;129;01mis\u001B[39;00m \u001B[38;5;28;01mNone\u001B[39;00m:\n\u001B[1;32m    731\u001B[0m     \u001B[38;5;66;03m# TODO(https://github.com/pytorch/pytorch/issues/76750)\u001B[39;00m\n\u001B[1;32m    732\u001B[0m     \u001B[38;5;28mself\u001B[39m\u001B[38;5;241m.\u001B[39m_reset()  \u001B[38;5;66;03m# type: ignore[call-arg]\u001B[39;00m\n\u001B[0;32m--> 733\u001B[0m data \u001B[38;5;241m=\u001B[39m \u001B[38;5;28;43mself\u001B[39;49m\u001B[38;5;241;43m.\u001B[39;49m\u001B[43m_next_data\u001B[49m\u001B[43m(\u001B[49m\u001B[43m)\u001B[49m\n\u001B[1;32m    734\u001B[0m \u001B[38;5;28mself\u001B[39m\u001B[38;5;241m.\u001B[39m_num_yielded \u001B[38;5;241m+\u001B[39m\u001B[38;5;241m=\u001B[39m \u001B[38;5;241m1\u001B[39m\n\u001B[1;32m    735\u001B[0m \u001B[38;5;28;01mif\u001B[39;00m (\n\u001B[1;32m    736\u001B[0m     \u001B[38;5;28mself\u001B[39m\u001B[38;5;241m.\u001B[39m_dataset_kind \u001B[38;5;241m==\u001B[39m _DatasetKind\u001B[38;5;241m.\u001B[39mIterable\n\u001B[1;32m    737\u001B[0m     \u001B[38;5;129;01mand\u001B[39;00m \u001B[38;5;28mself\u001B[39m\u001B[38;5;241m.\u001B[39m_IterableDataset_len_called \u001B[38;5;129;01mis\u001B[39;00m \u001B[38;5;129;01mnot\u001B[39;00m \u001B[38;5;28;01mNone\u001B[39;00m\n\u001B[1;32m    738\u001B[0m     \u001B[38;5;129;01mand\u001B[39;00m \u001B[38;5;28mself\u001B[39m\u001B[38;5;241m.\u001B[39m_num_yielded \u001B[38;5;241m>\u001B[39m \u001B[38;5;28mself\u001B[39m\u001B[38;5;241m.\u001B[39m_IterableDataset_len_called\n\u001B[1;32m    739\u001B[0m ):\n",
      "File \u001B[0;32m~/Desktop/EPFL/ee452-nml/.venv/lib/python3.10/site-packages/torch/utils/data/dataloader.py:789\u001B[0m, in \u001B[0;36m_SingleProcessDataLoaderIter._next_data\u001B[0;34m(self)\u001B[0m\n\u001B[1;32m    787\u001B[0m \u001B[38;5;28;01mdef\u001B[39;00m\u001B[38;5;250m \u001B[39m\u001B[38;5;21m_next_data\u001B[39m(\u001B[38;5;28mself\u001B[39m):\n\u001B[1;32m    788\u001B[0m     index \u001B[38;5;241m=\u001B[39m \u001B[38;5;28mself\u001B[39m\u001B[38;5;241m.\u001B[39m_next_index()  \u001B[38;5;66;03m# may raise StopIteration\u001B[39;00m\n\u001B[0;32m--> 789\u001B[0m     data \u001B[38;5;241m=\u001B[39m \u001B[38;5;28;43mself\u001B[39;49m\u001B[38;5;241;43m.\u001B[39;49m\u001B[43m_dataset_fetcher\u001B[49m\u001B[38;5;241;43m.\u001B[39;49m\u001B[43mfetch\u001B[49m\u001B[43m(\u001B[49m\u001B[43mindex\u001B[49m\u001B[43m)\u001B[49m  \u001B[38;5;66;03m# may raise StopIteration\u001B[39;00m\n\u001B[1;32m    790\u001B[0m     \u001B[38;5;28;01mif\u001B[39;00m \u001B[38;5;28mself\u001B[39m\u001B[38;5;241m.\u001B[39m_pin_memory:\n\u001B[1;32m    791\u001B[0m         data \u001B[38;5;241m=\u001B[39m _utils\u001B[38;5;241m.\u001B[39mpin_memory\u001B[38;5;241m.\u001B[39mpin_memory(data, \u001B[38;5;28mself\u001B[39m\u001B[38;5;241m.\u001B[39m_pin_memory_device)\n",
      "File \u001B[0;32m~/Desktop/EPFL/ee452-nml/.venv/lib/python3.10/site-packages/torch/utils/data/_utils/fetch.py:55\u001B[0m, in \u001B[0;36m_MapDatasetFetcher.fetch\u001B[0;34m(self, possibly_batched_index)\u001B[0m\n\u001B[1;32m     53\u001B[0m \u001B[38;5;28;01melse\u001B[39;00m:\n\u001B[1;32m     54\u001B[0m     data \u001B[38;5;241m=\u001B[39m \u001B[38;5;28mself\u001B[39m\u001B[38;5;241m.\u001B[39mdataset[possibly_batched_index]\n\u001B[0;32m---> 55\u001B[0m \u001B[38;5;28;01mreturn\u001B[39;00m \u001B[38;5;28;43mself\u001B[39;49m\u001B[38;5;241;43m.\u001B[39;49m\u001B[43mcollate_fn\u001B[49m\u001B[43m(\u001B[49m\u001B[43mdata\u001B[49m\u001B[43m)\u001B[49m\n",
      "File \u001B[0;32m~/Desktop/EPFL/ee452-nml/.venv/lib/python3.10/site-packages/torch_geometric/loader/dataloader.py:27\u001B[0m, in \u001B[0;36mCollater.__call__\u001B[0;34m(self, batch)\u001B[0m\n\u001B[1;32m     25\u001B[0m elem \u001B[38;5;241m=\u001B[39m batch[\u001B[38;5;241m0\u001B[39m]\n\u001B[1;32m     26\u001B[0m \u001B[38;5;28;01mif\u001B[39;00m \u001B[38;5;28misinstance\u001B[39m(elem, BaseData):\n\u001B[0;32m---> 27\u001B[0m     \u001B[38;5;28;01mreturn\u001B[39;00m \u001B[43mBatch\u001B[49m\u001B[38;5;241;43m.\u001B[39;49m\u001B[43mfrom_data_list\u001B[49m\u001B[43m(\u001B[49m\n\u001B[1;32m     28\u001B[0m \u001B[43m        \u001B[49m\u001B[43mbatch\u001B[49m\u001B[43m,\u001B[49m\n\u001B[1;32m     29\u001B[0m \u001B[43m        \u001B[49m\u001B[43mfollow_batch\u001B[49m\u001B[38;5;241;43m=\u001B[39;49m\u001B[38;5;28;43mself\u001B[39;49m\u001B[38;5;241;43m.\u001B[39;49m\u001B[43mfollow_batch\u001B[49m\u001B[43m,\u001B[49m\n\u001B[1;32m     30\u001B[0m \u001B[43m        \u001B[49m\u001B[43mexclude_keys\u001B[49m\u001B[38;5;241;43m=\u001B[39;49m\u001B[38;5;28;43mself\u001B[39;49m\u001B[38;5;241;43m.\u001B[39;49m\u001B[43mexclude_keys\u001B[49m\u001B[43m,\u001B[49m\n\u001B[1;32m     31\u001B[0m \u001B[43m    \u001B[49m\u001B[43m)\u001B[49m\n\u001B[1;32m     32\u001B[0m \u001B[38;5;28;01melif\u001B[39;00m \u001B[38;5;28misinstance\u001B[39m(elem, torch\u001B[38;5;241m.\u001B[39mTensor):\n\u001B[1;32m     33\u001B[0m     \u001B[38;5;28;01mreturn\u001B[39;00m default_collate(batch)\n",
      "File \u001B[0;32m~/Desktop/EPFL/ee452-nml/.venv/lib/python3.10/site-packages/torch_geometric/data/batch.py:97\u001B[0m, in \u001B[0;36mBatch.from_data_list\u001B[0;34m(cls, data_list, follow_batch, exclude_keys)\u001B[0m\n\u001B[1;32m     82\u001B[0m \u001B[38;5;129m@classmethod\u001B[39m\n\u001B[1;32m     83\u001B[0m \u001B[38;5;28;01mdef\u001B[39;00m\u001B[38;5;250m \u001B[39m\u001B[38;5;21mfrom_data_list\u001B[39m(\n\u001B[1;32m     84\u001B[0m     \u001B[38;5;28mcls\u001B[39m,\n\u001B[0;32m   (...)\u001B[0m\n\u001B[1;32m     87\u001B[0m     exclude_keys: Optional[List[\u001B[38;5;28mstr\u001B[39m]] \u001B[38;5;241m=\u001B[39m \u001B[38;5;28;01mNone\u001B[39;00m,\n\u001B[1;32m     88\u001B[0m ) \u001B[38;5;241m-\u001B[39m\u001B[38;5;241m>\u001B[39m Self:\n\u001B[1;32m     89\u001B[0m \u001B[38;5;250m    \u001B[39m\u001B[38;5;124mr\u001B[39m\u001B[38;5;124;03m\"\"\"Constructs a :class:`~torch_geometric.data.Batch` object from a\u001B[39;00m\n\u001B[1;32m     90\u001B[0m \u001B[38;5;124;03m    list of :class:`~torch_geometric.data.Data` or\u001B[39;00m\n\u001B[1;32m     91\u001B[0m \u001B[38;5;124;03m    :class:`~torch_geometric.data.HeteroData` objects.\u001B[39;00m\n\u001B[0;32m   (...)\u001B[0m\n\u001B[1;32m     95\u001B[0m \u001B[38;5;124;03m    Will exclude any keys given in :obj:`exclude_keys`.\u001B[39;00m\n\u001B[1;32m     96\u001B[0m \u001B[38;5;124;03m    \"\"\"\u001B[39;00m\n\u001B[0;32m---> 97\u001B[0m     batch, slice_dict, inc_dict \u001B[38;5;241m=\u001B[39m \u001B[43mcollate\u001B[49m\u001B[43m(\u001B[49m\n\u001B[1;32m     98\u001B[0m \u001B[43m        \u001B[49m\u001B[38;5;28;43mcls\u001B[39;49m\u001B[43m,\u001B[49m\n\u001B[1;32m     99\u001B[0m \u001B[43m        \u001B[49m\u001B[43mdata_list\u001B[49m\u001B[38;5;241;43m=\u001B[39;49m\u001B[43mdata_list\u001B[49m\u001B[43m,\u001B[49m\n\u001B[1;32m    100\u001B[0m \u001B[43m        \u001B[49m\u001B[43mincrement\u001B[49m\u001B[38;5;241;43m=\u001B[39;49m\u001B[38;5;28;43;01mTrue\u001B[39;49;00m\u001B[43m,\u001B[49m\n\u001B[1;32m    101\u001B[0m \u001B[43m        \u001B[49m\u001B[43madd_batch\u001B[49m\u001B[38;5;241;43m=\u001B[39;49m\u001B[38;5;129;43;01mnot\u001B[39;49;00m\u001B[43m \u001B[49m\u001B[38;5;28;43misinstance\u001B[39;49m\u001B[43m(\u001B[49m\u001B[43mdata_list\u001B[49m\u001B[43m[\u001B[49m\u001B[38;5;241;43m0\u001B[39;49m\u001B[43m]\u001B[49m\u001B[43m,\u001B[49m\u001B[43m \u001B[49m\u001B[43mBatch\u001B[49m\u001B[43m)\u001B[49m\u001B[43m,\u001B[49m\n\u001B[1;32m    102\u001B[0m \u001B[43m        \u001B[49m\u001B[43mfollow_batch\u001B[49m\u001B[38;5;241;43m=\u001B[39;49m\u001B[43mfollow_batch\u001B[49m\u001B[43m,\u001B[49m\n\u001B[1;32m    103\u001B[0m \u001B[43m        \u001B[49m\u001B[43mexclude_keys\u001B[49m\u001B[38;5;241;43m=\u001B[39;49m\u001B[43mexclude_keys\u001B[49m\u001B[43m,\u001B[49m\n\u001B[1;32m    104\u001B[0m \u001B[43m    \u001B[49m\u001B[43m)\u001B[49m\n\u001B[1;32m    106\u001B[0m     batch\u001B[38;5;241m.\u001B[39m_num_graphs \u001B[38;5;241m=\u001B[39m \u001B[38;5;28mlen\u001B[39m(data_list)  \u001B[38;5;66;03m# type: ignore\u001B[39;00m\n\u001B[1;32m    107\u001B[0m     batch\u001B[38;5;241m.\u001B[39m_slice_dict \u001B[38;5;241m=\u001B[39m slice_dict  \u001B[38;5;66;03m# type: ignore\u001B[39;00m\n",
      "File \u001B[0;32m~/Desktop/EPFL/ee452-nml/.venv/lib/python3.10/site-packages/torch_geometric/data/collate.py:117\u001B[0m, in \u001B[0;36mcollate\u001B[0;34m(cls, data_list, increment, add_batch, follow_batch, exclude_keys)\u001B[0m\n\u001B[1;32m    114\u001B[0m \u001B[38;5;28;01mif\u001B[39;00m \u001B[38;5;28misinstance\u001B[39m(value, Tensor) \u001B[38;5;129;01mand\u001B[39;00m value\u001B[38;5;241m.\u001B[39mis_cuda:\n\u001B[1;32m    115\u001B[0m     device \u001B[38;5;241m=\u001B[39m value\u001B[38;5;241m.\u001B[39mdevice\n\u001B[0;32m--> 117\u001B[0m \u001B[43mout_store\u001B[49m\u001B[43m[\u001B[49m\u001B[43mattr\u001B[49m\u001B[43m]\u001B[49m \u001B[38;5;241m=\u001B[39m value\n\u001B[1;32m    119\u001B[0m \u001B[38;5;28;01mif\u001B[39;00m key \u001B[38;5;129;01mis\u001B[39;00m \u001B[38;5;129;01mnot\u001B[39;00m \u001B[38;5;28;01mNone\u001B[39;00m:  \u001B[38;5;66;03m# Heterogeneous:\u001B[39;00m\n\u001B[1;32m    120\u001B[0m     store_slice_dict \u001B[38;5;241m=\u001B[39m slice_dict\u001B[38;5;241m.\u001B[39mget(key, {})\n",
      "File \u001B[0;32m~/Desktop/EPFL/ee452-nml/.venv/lib/python3.10/site-packages/torch_geometric/data/storage.py:121\u001B[0m, in \u001B[0;36mBaseStorage.__setitem__\u001B[0;34m(self, key, value)\u001B[0m\n\u001B[1;32m    120\u001B[0m \u001B[38;5;28;01mdef\u001B[39;00m\u001B[38;5;250m \u001B[39m\u001B[38;5;21m__setitem__\u001B[39m(\u001B[38;5;28mself\u001B[39m, key: \u001B[38;5;28mstr\u001B[39m, value: Any) \u001B[38;5;241m-\u001B[39m\u001B[38;5;241m>\u001B[39m \u001B[38;5;28;01mNone\u001B[39;00m:\n\u001B[0;32m--> 121\u001B[0m     \u001B[38;5;28;43mself\u001B[39;49m\u001B[38;5;241;43m.\u001B[39;49m\u001B[43m_pop_cache\u001B[49m\u001B[43m(\u001B[49m\u001B[43mkey\u001B[49m\u001B[43m)\u001B[49m\n\u001B[1;32m    122\u001B[0m     \u001B[38;5;28;01mif\u001B[39;00m value \u001B[38;5;129;01mis\u001B[39;00m \u001B[38;5;28;01mNone\u001B[39;00m \u001B[38;5;129;01mand\u001B[39;00m key \u001B[38;5;129;01min\u001B[39;00m \u001B[38;5;28mself\u001B[39m\u001B[38;5;241m.\u001B[39m_mapping:\n\u001B[1;32m    123\u001B[0m         \u001B[38;5;28;01mdel\u001B[39;00m \u001B[38;5;28mself\u001B[39m\u001B[38;5;241m.\u001B[39m_mapping[key]\n",
      "File \u001B[0;32m~/Desktop/EPFL/ee452-nml/.venv/lib/python3.10/site-packages/torch_geometric/data/storage.py:83\u001B[0m, in \u001B[0;36mBaseStorage._pop_cache\u001B[0;34m(self, key)\u001B[0m\n\u001B[1;32m     82\u001B[0m \u001B[38;5;28;01mdef\u001B[39;00m\u001B[38;5;250m \u001B[39m\u001B[38;5;21m_pop_cache\u001B[39m(\u001B[38;5;28mself\u001B[39m, key: \u001B[38;5;28mstr\u001B[39m) \u001B[38;5;241m-\u001B[39m\u001B[38;5;241m>\u001B[39m \u001B[38;5;28;01mNone\u001B[39;00m:\n\u001B[0;32m---> 83\u001B[0m     \u001B[38;5;28;01mfor\u001B[39;00m cache \u001B[38;5;129;01min\u001B[39;00m \u001B[38;5;28;43mgetattr\u001B[39;49m\u001B[43m(\u001B[49m\u001B[38;5;28;43mself\u001B[39;49m\u001B[43m,\u001B[49m\u001B[43m \u001B[49m\u001B[38;5;124;43m'\u001B[39;49m\u001B[38;5;124;43m_cached_attr\u001B[39;49m\u001B[38;5;124;43m'\u001B[39;49m\u001B[43m,\u001B[49m\u001B[43m \u001B[49m\u001B[43m{\u001B[49m\u001B[43m}\u001B[49m\u001B[43m)\u001B[49m\u001B[38;5;241m.\u001B[39mvalues():\n\u001B[1;32m     84\u001B[0m         cache\u001B[38;5;241m.\u001B[39mdiscard(key)\n",
      "File \u001B[0;32m~/Desktop/EPFL/ee452-nml/.venv/lib/python3.10/site-packages/torch_geometric/data/storage.py:94\u001B[0m, in \u001B[0;36mBaseStorage.__getattr__\u001B[0;34m(self, key)\u001B[0m\n\u001B[1;32m     92\u001B[0m     \u001B[38;5;28;01mreturn\u001B[39;00m \u001B[38;5;28mself\u001B[39m\u001B[38;5;241m.\u001B[39m_mapping\n\u001B[1;32m     93\u001B[0m \u001B[38;5;28;01mtry\u001B[39;00m:\n\u001B[0;32m---> 94\u001B[0m     \u001B[38;5;28;01mreturn\u001B[39;00m \u001B[38;5;28;43mself\u001B[39;49m\u001B[43m[\u001B[49m\u001B[43mkey\u001B[49m\u001B[43m]\u001B[49m\n\u001B[1;32m     95\u001B[0m \u001B[38;5;28;01mexcept\u001B[39;00m \u001B[38;5;167;01mKeyError\u001B[39;00m:\n\u001B[1;32m     96\u001B[0m     \u001B[38;5;28;01mraise\u001B[39;00m \u001B[38;5;167;01mAttributeError\u001B[39;00m(\n\u001B[1;32m     97\u001B[0m         \u001B[38;5;124mf\u001B[39m\u001B[38;5;124m\"\u001B[39m\u001B[38;5;124m'\u001B[39m\u001B[38;5;132;01m{\u001B[39;00m\u001B[38;5;28mself\u001B[39m\u001B[38;5;241m.\u001B[39m\u001B[38;5;18m__class__\u001B[39m\u001B[38;5;241m.\u001B[39m\u001B[38;5;18m__name__\u001B[39m\u001B[38;5;132;01m}\u001B[39;00m\u001B[38;5;124m'\u001B[39m\u001B[38;5;124m object has no attribute \u001B[39m\u001B[38;5;124m'\u001B[39m\u001B[38;5;132;01m{\u001B[39;00mkey\u001B[38;5;132;01m}\u001B[39;00m\u001B[38;5;124m'\u001B[39m\u001B[38;5;124m\"\u001B[39m\n\u001B[1;32m     98\u001B[0m     ) \u001B[38;5;28;01mfrom\u001B[39;00m\u001B[38;5;250m \u001B[39m\u001B[38;5;28;01mNone\u001B[39;00m\n",
      "\u001B[0;31mKeyboardInterrupt\u001B[0m: "
     ]
    }
   ],
   "execution_count": 92
  },
  {
   "metadata": {
    "ExecuteTime": {
     "end_time": "2025-06-06T16:45:11.361619Z",
     "start_time": "2025-06-06T16:45:11.265532Z"
    }
   },
   "cell_type": "code",
   "source": [
    "plt.plot(range(1, len(train_losses) + 1), train_losses, label=\"Train Loss\")\n",
    "plt.plot(range(1, len(val_losses) + 1), val_losses, label=\"Validation Loss\")\n",
    "plt.xlabel(\"Epoch\")\n",
    "plt.ylabel(\"Loss\")\n",
    "plt.title(\"Train & Validation Loss over Epochs\")\n",
    "plt.legend()\n",
    "plt.grid(True)\n",
    "plt.show()"
   ],
   "id": "6bbcec3592244b09",
   "outputs": [
    {
     "data": {
      "text/plain": [
       "<Figure size 640x480 with 1 Axes>"
      ],
      "image/png": "[encoded data removed]"
     },
     "metadata": {},
     "output_type": "display_data"
    }
   ],
   "execution_count": 93
  },
  {
   "metadata": {
    "ExecuteTime": {
     "end_time": "2025-06-06T14:01:05.298068Z",
     "start_time": "2025-06-06T14:01:03.185839Z"
    }
   },
   "cell_type": "code",
   "source": [
    "model.eval()\n",
    "correct = 0\n",
    "total = 0\n",
    "\n",
    "with torch.no_grad():\n",
    "    for batch in train_loader:\n",
    "        batch = batch.to(device)\n",
    "        logits = model(batch.x, batch.edge_index, batch.edge_attr, batch.batch)\n",
    "        preds = torch.sigmoid(logits)\n",
    "        predicted_labels = (preds > 0.5).float()\n",
    "\n",
    "        correct += (predicted_labels == batch.y).sum().item()\n",
    "        total += batch.y.size(0)\n",
    "\n",
    "train_accuracy = correct / total\n",
    "print(f\"Train Accuracy: {train_accuracy:.4f}\")\n"
   ],
   "id": "f5943be171cbec2",
   "outputs": [
    {
     "name": "stdout",
     "output_type": "stream",
     "text": [
      "Train Accuracy: 0.9795\n"
     ]
    }
   ],
   "execution_count": 318
  },
  {
   "metadata": {
    "ExecuteTime": {
     "end_time": "2025-06-06T14:01:23.573774Z",
     "start_time": "2025-06-06T14:01:22.835101Z"
    }
   },
   "cell_type": "code",
   "source": [
    "from sklearn.metrics import f1_score, recall_score, precision_score\n",
    "\n",
    "model.eval()\n",
    "all_preds = []\n",
    "all_labels = []\n",
    "\n",
    "with torch.no_grad():\n",
    "    for batch in val_loader:\n",
    "        batch = batch.to(device)\n",
    "        logits = model(batch.x, batch.edge_index, batch.edge_attr, batch.batch)\n",
    "        probs = torch.sigmoid(logits)\n",
    "        preds = (probs > 0.25).float()\n",
    "\n",
    "        # Flatten and collect predictions and labels\n",
    "        all_preds.extend(preds.cpu().numpy().flatten())\n",
    "        all_labels.extend(batch.y.view(-1).cpu().numpy())  # ensure 1D\n",
    "\n",
    "# Compute F1 score\n",
    "f1 = f1_score(all_labels, all_preds)\n",
    "\n",
    "\n",
    "print(f\"Validation F1 Score: {f1:.4f}\")\n"
   ],
   "id": "b8e2fdb473fcec0b",
   "outputs": [
    {
     "name": "stdout",
     "output_type": "stream",
     "text": [
      "Validation F1 Score: 0.7438\n"
     ]
    }
   ],
   "execution_count": 325
  },
  {
   "metadata": {
    "ExecuteTime": {
     "end_time": "2025-06-06T14:01:24.162279Z",
     "start_time": "2025-06-06T14:01:24.151430Z"
    }
   },
   "cell_type": "code",
   "source": [
    "from sklearn.metrics import f1_score, recall_score, precision_score, accuracy_score\n",
    "recall = recall_score(all_labels, all_preds)\n",
    "precision = precision_score(all_labels, all_preds)\n",
    "accuracy = accuracy_score(all_labels, all_preds)\n",
    "\n",
    "print(f\"Validation Recall: {recall:.4f}\")\n",
    "print(f\"Validation Precision: {precision:.4f}\")\n",
    "print(f\"Validation Accuracy: {accuracy:.4f}\")"
   ],
   "id": "42f9adc258c84db7",
   "outputs": [
    {
     "name": "stdout",
     "output_type": "stream",
     "text": [
      "Validation Recall: 0.7212\n",
      "Validation Precision: 0.7677\n",
      "Validation Accuracy: 0.9053\n"
     ]
    }
   ],
   "execution_count": 326
  },
  {
   "metadata": {},
   "cell_type": "code",
   "outputs": [],
   "execution_count": null,
   "source": "",
   "id": "6b68e7e4dda96381"
  }
 ],
 "metadata": {
  "kernelspec": {
   "display_name": "Python 3",
   "language": "python",
   "name": "python3"
  },
  "language_info": {
   "codemirror_mode": {
    "name": "ipython",
    "version": 2
   },
   "file_extension": ".py",
   "mimetype": "text/x-python",
   "name": "python",
   "nbconvert_exporter": "python",
   "pygments_lexer": "ipython2",
   "version": "2.7.6"
  }
 },
 "nbformat": 4,
 "nbformat_minor": 5
}
