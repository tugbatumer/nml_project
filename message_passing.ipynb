{
 "cells": [
  {
   "metadata": {
    "ExecuteTime": {
     "end_time": "2025-06-06T15:13:43.647129Z",
     "start_time": "2025-06-06T15:13:39.579824Z"
    }
   },
   "cell_type": "code",
   "source": [
    "from pathlib import Path\n",
    "\n",
    "import numpy as np\n",
    "import pandas as pd\n",
    "import matplotlib.pyplot as plt\n",
    "from scipy import signal\n",
    "\n",
    "from seiz_eeg.dataset import EEGDataset\n",
    "\n",
    "import torch\n",
    "import torch.nn as nn\n",
    "from torch_geometric.data import Data, Dataset\n",
    "from torch_geometric.loader import DataLoader\n",
    "from torch_geometric.nn import MessagePassing, global_mean_pool\n",
    "\n",
    "import os\n",
    "import random\n",
    "\n",
    "from sklearn.metrics import f1_score, recall_score, precision_score\n",
    "\n",
    "from tqdm import tqdm"
   ],
   "id": "722d9a827b5f438b",
   "outputs": [
    {
     "name": "stderr",
     "output_type": "stream",
     "text": [
      "/Users/tugba/Desktop/EPFL/ee452-nml/.venv/lib/python3.10/site-packages/pandera/_pandas_deprecated.py:157: FutureWarning: Importing pandas-specific classes and functions from the\n",
      "top-level pandera module will be **removed in a future version of pandera**.\n",
      "If you're using pandera to validate pandas objects, we highly recommend updating\n",
      "your import:\n",
      "\n",
      "```\n",
      "# old import\n",
      "import pandera as pa\n",
      "\n",
      "# new import\n",
      "import pandera.pandas as pa\n",
      "```\n",
      "\n",
      "If you're using pandera to validate objects from other compatible libraries\n",
      "like pyspark or polars, see the supported libraries section of the documentation\n",
      "for more information on how to import pandera:\n",
      "\n",
      "https://pandera.readthedocs.io/en/stable/supported_libraries.html\n",
      "\n",
      "To disable this warning, set the environment variable:\n",
      "\n",
      "```\n",
      "export DISABLE_PANDERA_IMPORT_WARNING=True\n",
      "```\n",
      "\n",
      "  warnings.warn(_future_warning, FutureWarning)\n"
     ]
    }
   ],
   "execution_count": 1
  },
  {
   "metadata": {
    "ExecuteTime": {
     "end_time": "2025-06-06T15:13:43.654558Z",
     "start_time": "2025-06-06T15:13:43.652379Z"
    }
   },
   "cell_type": "code",
   "source": [
    "data_path = \"./data\"\n",
    "\n",
    "DATA_ROOT = Path(data_path)"
   ],
   "id": "8c150445d8e692d8",
   "outputs": [],
   "execution_count": 2
  },
  {
   "metadata": {
    "ExecuteTime": {
     "end_time": "2025-06-06T15:13:43.809148Z",
     "start_time": "2025-06-06T15:13:43.793531Z"
    }
   },
   "cell_type": "code",
   "source": [
    "# Load your CSV file\n",
    "df = pd.read_csv(DATA_ROOT / \"distances_3d.csv\")  # Update with your actual file path\n",
    "\n",
    "# Get sorted list of unique node names (e.g., 'FP1', 'F3', ...)\n",
    "nodes = sorted(set(df[\"from\"]) | set(df[\"to\"]))\n",
    "node_to_idx = {name: idx for idx, name in enumerate(nodes)}\n",
    "\n",
    "# Create empty matrix\n",
    "N = len(nodes)\n",
    "dist = np.full((N, N), np.inf)  # Initialize with inf (or large number)\n",
    "\n",
    "# Fill matrix\n",
    "for _, row in df.iterrows():\n",
    "    i = node_to_idx[row[\"from\"]]\n",
    "    j = node_to_idx[row[\"to\"]]\n",
    "    dist[i, j] = float(row[\"distance\"])"
   ],
   "id": "9fca9b9fa0d52493",
   "outputs": [],
   "execution_count": 3
  },
  {
   "metadata": {
    "ExecuteTime": {
     "end_time": "2025-06-06T18:02:37.630018Z",
     "start_time": "2025-06-06T18:02:37.624915Z"
    }
   },
   "cell_type": "code",
   "source": [
    "def build_softmax_thresholded_graph(dist, beta=10.0, keep_ratio=0.9):\n",
    "    N = dist.shape[0]\n",
    "    edge_index = []\n",
    "    edge_attr = []\n",
    "    added = set()\n",
    "\n",
    "    for i in range(N):\n",
    "        scores = -beta * (dist[i] ** 2)\n",
    "        scores[i] = -np.inf\n",
    "        weights = np.exp(scores)\n",
    "        weights /= weights.sum()\n",
    "\n",
    "        if keep_ratio == 1.0:\n",
    "            keep = [j for j in range(N) if j != i]\n",
    "        else:\n",
    "            sorted_idx = np.argsort(-weights)\n",
    "            cumulative = np.cumsum(weights[sorted_idx])\n",
    "            cutoff = np.searchsorted(cumulative, keep_ratio) + 1\n",
    "            keep = sorted_idx[:cutoff]\n",
    "\n",
    "        for j in keep:\n",
    "            if i != j and (i, j) not in added:\n",
    "                edge_index.append([i, j])\n",
    "                edge_attr.append(weights[j])\n",
    "                # Add reverse edge (j, i) with same weight\n",
    "                edge_index.append([j, i])\n",
    "                edge_attr.append(weights[j])\n",
    "                added.add((i, j))\n",
    "                added.add((j, i))\n",
    "\n",
    "    edge_index = torch.tensor(edge_index, dtype=torch.long).T  # shape [2, num_edges]\n",
    "    edge_attr = torch.tensor(edge_attr, dtype=torch.float32)   # shape [num_edges]\n",
    "    return edge_index, edge_attr\n",
    "\n"
   ],
   "id": "1aaa3c4932c91cf9",
   "outputs": [],
   "execution_count": 134
  },
  {
   "metadata": {
    "ExecuteTime": {
     "end_time": "2025-06-06T18:02:38.347213Z",
     "start_time": "2025-06-06T18:02:38.342946Z"
    }
   },
   "cell_type": "code",
   "source": "edge_index, edge_attr = build_softmax_thresholded_graph(dist, beta=5, keep_ratio=0.9)",
   "id": "29b78d11021fc377",
   "outputs": [],
   "execution_count": 135
  },
  {
   "metadata": {
    "ExecuteTime": {
     "end_time": "2025-06-06T18:02:40.435061Z",
     "start_time": "2025-06-06T18:02:40.426364Z"
    }
   },
   "cell_type": "code",
   "source": [
    "def seed_everything(seed: int):\n",
    "    # Python random module\n",
    "    random.seed(seed)\n",
    "    # Numpy random module\n",
    "    np.random.seed(seed)\n",
    "    # Torch random seeds\n",
    "    torch.manual_seed(seed)\n",
    "    torch.cuda.manual_seed(seed)\n",
    "    torch.cuda.manual_seed_all(seed)  # if you are using multi-GPU.\n",
    "\n",
    "    # Set PYTHONHASHSEED environment variable for hash-based operations\n",
    "    os.environ[\"PYTHONHASHSEED\"] = str(seed)\n",
    "\n",
    "    # Ensure deterministic behavior in cudnn (may slow down your training)\n",
    "    torch.backends.cudnn.deterministic = True\n",
    "    torch.backends.cudnn.benchmark = False\n",
    "\n",
    "\n",
    "seed_everything(1)"
   ],
   "id": "8f63096f686fa460",
   "outputs": [],
   "execution_count": 136
  },
  {
   "metadata": {
    "ExecuteTime": {
     "end_time": "2025-06-06T18:02:41.368738Z",
     "start_time": "2025-06-06T18:02:41.364310Z"
    }
   },
   "cell_type": "code",
   "source": [
    "bp_filter = signal.butter(4, (0.5, 30), btype=\"bandpass\", output=\"sos\", fs=250)\n",
    "\n",
    "\n",
    "def time_filtering(x: np.ndarray) -> np.ndarray:\n",
    "    \"\"\"Filter signal in the time domain\"\"\"\n",
    "    return signal.sosfiltfilt(bp_filter, x, axis=0).copy()\n",
    "\n",
    "\n",
    "def fft_filtering(x: np.ndarray) -> np.ndarray:\n",
    "    \"\"\"Compute FFT and only keep\"\"\"\n",
    "    x = np.abs(np.fft.fft(x, axis=0))\n",
    "    x = np.log(np.where(x > 1e-8, x, 1e-8))\n",
    "\n",
    "    win_len = x.shape[0]\n",
    "    # Only frequencies b/w 0.5 and 30Hz\n",
    "    return x[int(0.5 * win_len // 250) : 30 * win_len // 250]"
   ],
   "id": "31eac0022159625d",
   "outputs": [],
   "execution_count": 137
  },
  {
   "metadata": {
    "ExecuteTime": {
     "end_time": "2025-06-06T18:12:37.921401Z",
     "start_time": "2025-06-06T18:12:37.903464Z"
    }
   },
   "cell_type": "code",
   "source": [
    "from scipy import signal\n",
    "from scipy.stats import skew, kurtosis\n",
    "import numpy as np\n",
    "\n",
    "fs = 250 # Sampling frequency\n",
    "\n",
    "bp_filter = signal.butter(4, (0.5, 30), btype=\"bandpass\", output=\"sos\", fs=fs)\n",
    "\n",
    "def handcrafted_features(x: np.ndarray) -> np.ndarray:\n",
    "\n",
    "    mean_abs_diff1 = np.mean(np.abs(x[1:] - x[:-1]), axis=0)\n",
    "    mean_abs_diff2 = np.mean(np.abs(x[2:] - x[:-2]), axis=0)\n",
    "    std      = np.std(x, axis=0)\n",
    "    skewness = np.nan_to_num(skew(x, axis=0), nan=0.0)\n",
    "    kurt     = np.nan_to_num(kurtosis(x, axis=0), nan=0.0)\n",
    "\n",
    "    fft_vals = np.abs(np.fft.rfft(x, axis=0))\n",
    "    freqs = np.fft.rfftfreq(x.shape[0], d=1/fs)\n",
    "    '''\n",
    "    fft_vals = np.abs(np.fft.fft(x, axis=0))\n",
    "    fft_vals_log = np.log(np.where(fft_vals > 1e-8, fft_vals, 1e-8))\n",
    "\n",
    "    win_len = fft_vals.shape[0]\n",
    "\n",
    "    fft_vals_filtered = fft_vals_log[int(0.5 * win_len // 250) : 30 * win_len // 250]\n",
    "\n",
    "    fft_bins = []\n",
    "    prev_idx = 0\n",
    "    next_idx = 6\n",
    "\n",
    "    while next_idx <= fft_vals_filtered.shape[0]:\n",
    "        fft_bins.append(np.mean(fft_vals_filtered[prev_idx:next_idx], axis=0))\n",
    "        prev_idx = next_idx\n",
    "        next_idx += 12\n",
    "\n",
    "    fft_bins = np.array(fft_bins)\n",
    "\n",
    "    def band_power(fmin, fmax):\n",
    "        return np.sum(fft_vals[int(fmin * win_len // 250) : fmax * win_len // 250], axis=0)\n",
    "    '''\n",
    "\n",
    "    def band_power(fmin, fmax):\n",
    "        idx = np.where((freqs >= fmin) & (freqs <= fmax))[0]\n",
    "        return np.mean(fft_vals[idx], axis=0)\n",
    "\n",
    "\n",
    "    delta = band_power(0.5, 4)\n",
    "    theta = band_power(4, 8)\n",
    "    alpha = band_power(8, 13)\n",
    "    beta  = band_power(13, 30)\n",
    "\n",
    "    total_power = np.sum(fft_vals, axis=0)\n",
    "\n",
    "    # Avoid division by zero\n",
    "    relative_delta = np.divide(delta, total_power, out=np.zeros_like(delta), where=total_power != 0)\n",
    "    relative_theta = np.divide(theta, total_power, out=np.zeros_like(theta), where=total_power != 0)\n",
    "    relative_alpha = np.divide(alpha, total_power, out=np.zeros_like(alpha), where=total_power != 0)\n",
    "    relative_beta  = np.divide(beta,  total_power, out=np.zeros_like(beta),  where=total_power != 0)\n",
    "\n",
    "\n",
    "    def hjorth_params(x_channel):\n",
    "        dx = np.diff(x_channel)\n",
    "        ddx = np.diff(dx)\n",
    "        var_x = np.var(x_channel)\n",
    "        var_dx = np.var(dx)\n",
    "        var_ddx = np.var(ddx)\n",
    "        mobility = np.sqrt(var_dx / var_x) if var_x != 0 else 0\n",
    "        complexity = np.sqrt(var_ddx / var_dx) / mobility if var_dx != 0 and mobility != 0 else 0\n",
    "        return mobility, complexity\n",
    "\n",
    "    mobility = np.zeros(x.shape[1])\n",
    "    complexity = np.zeros(x.shape[1])\n",
    "    for i in range(x.shape[1]):\n",
    "        mobility[i], complexity[i] = hjorth_params(x[:, i])\n",
    "\n",
    "    zero_crossings = np.sum(np.abs(np.diff(np.signbit(x), axis=0)), axis=0)\n",
    "\n",
    "    def shannon_entropy(signal):\n",
    "        hist, _ = np.histogram(signal, bins=50, density=True)\n",
    "        hist += 1e-12\n",
    "        return -np.sum(hist * np.log2(hist))\n",
    "\n",
    "    entropy = np.array([shannon_entropy(x[:, i]) for i in range(x.shape[1])])\n",
    "\n",
    "    psd = fft_vals / (np.sum(fft_vals, axis=0, keepdims=True) + 1e-12)\n",
    "    spectral_entropy = -np.sum(psd * np.log2(psd + 1e-12), axis=0)\n",
    "\n",
    "    fft_result = fft_filtering(x)\n",
    "\n",
    "    features = np.concatenate([\n",
    "        fft_result.T, # shape (19, 354)\n",
    "        mean_abs_diff1[:, None],\n",
    "        mean_abs_diff2[:, None],\n",
    "        std[:, None],\n",
    "        skewness[:, None],\n",
    "        kurt[:, None],\n",
    "        delta[:, None], theta[:, None], alpha[:, None], beta[:, None],\n",
    "        relative_delta[:, None], relative_theta[:, None], relative_alpha[:, None], relative_beta[:, None],\n",
    "        mobility[:, None], complexity[:, None],\n",
    "        zero_crossings[:, None],\n",
    "        entropy[:, None],\n",
    "        spectral_entropy[:, None],\n",
    "    ], axis=1).T\n",
    "\n",
    "\n",
    "    #features = (features - np.mean(features, axis=1, keepdims=True)) / (np.std(features, axis=1, keepdims=True) + 1e-8)\n",
    "    return features"
   ],
   "id": "220e9c29ad60d0fc",
   "outputs": [],
   "execution_count": 146
  },
  {
   "metadata": {
    "ExecuteTime": {
     "end_time": "2025-06-06T18:14:24.503642Z",
     "start_time": "2025-06-06T18:12:44.247914Z"
    }
   },
   "cell_type": "code",
   "source": [
    "clips_tr = pd.read_parquet(DATA_ROOT / \"train/segments.parquet\")\n",
    "dataset_tr = EEGDataset(\n",
    "    clips_tr,\n",
    "    signals_root=DATA_ROOT / \"train\",\n",
    "    signal_transform=handcrafted_features,\n",
    "    prefetch=True,  # If your compute does not allow it, you can use `prefetch=False`\n",
    ")"
   ],
   "id": "8d196e914edb2d6f",
   "outputs": [],
   "execution_count": 147
  },
  {
   "metadata": {
    "ExecuteTime": {
     "end_time": "2025-06-06T18:14:26.707698Z",
     "start_time": "2025-06-06T18:14:26.703220Z"
    }
   },
   "cell_type": "code",
   "source": "dataset_tr[0][0].shape",
   "id": "dd9205525212c6bc",
   "outputs": [
    {
     "data": {
      "text/plain": [
       "(372, 19)"
      ]
     },
     "execution_count": 148,
     "metadata": {},
     "output_type": "execute_result"
    }
   ],
   "execution_count": 148
  },
  {
   "metadata": {
    "ExecuteTime": {
     "end_time": "2025-06-06T18:14:27.408252Z",
     "start_time": "2025-06-06T18:14:27.403573Z"
    }
   },
   "cell_type": "code",
   "source": [
    "class EEGGraphDataset(Dataset):\n",
    "    def __init__(self, data, edge_index, edge_attr, is_train=True):\n",
    "        super().__init__()\n",
    "        self.num_samples = len(data)\n",
    "        self.edge_index = edge_index\n",
    "        self.edge_attr = edge_attr\n",
    "        self.data = data\n",
    "        self.is_train = is_train\n",
    "\n",
    "    def __len__(self):\n",
    "        return self.num_samples\n",
    "\n",
    "    def __getitem__(self, idx):\n",
    "        x = torch.tensor(self.data[idx][0].T, dtype=torch.float32)  # Simulated signal\n",
    "        y = int(self.data[idx][1]) # Target label if training, else ID\n",
    "        if self.is_train:\n",
    "            return Data(x=x, edge_index=self.edge_index, edge_attr=self.edge_attr, y=torch.tensor([[y]], dtype=torch.float32))\n",
    "        else:\n",
    "            return Data(x=x, edge_index=self.edge_index, edge_attr=self.edge_attr, id=y)"
   ],
   "id": "fb7d3956b31708eb",
   "outputs": [],
   "execution_count": 149
  },
  {
   "metadata": {
    "ExecuteTime": {
     "end_time": "2025-06-06T18:14:28.418958Z",
     "start_time": "2025-06-06T18:14:28.410812Z"
    }
   },
   "cell_type": "code",
   "source": [
    "from torch_geometric.utils import softmax\n",
    "class DistanceMPNNLayer(MessagePassing):\n",
    "    def __init__(self, in_channels, hidden_channels):\n",
    "        super().__init__(aggr='mean')  # sum aggregation\n",
    "        self.mlp_msg = nn.Sequential(\n",
    "            nn.Linear(in_channels, hidden_channels),\n",
    "            nn.ReLU(),\n",
    "            nn.Linear(hidden_channels, hidden_channels),\n",
    "        )\n",
    "        self.att_mlp = nn.Sequential(\n",
    "            nn.Linear(2 * in_channels, 1)  # computes raw attention score\n",
    "        )\n",
    "        self.mlp_update = nn.Sequential(\n",
    "            nn.Linear(in_channels + hidden_channels, hidden_channels),\n",
    "            nn.LayerNorm(hidden_channels),\n",
    "            nn.ReLU()\n",
    "        )\n",
    "        self.norm = nn.LayerNorm(hidden_channels)\n",
    "\n",
    "    def forward(self, x, edge_index):\n",
    "        return self.mlp_update(torch.cat([x, self.propagate(edge_index=edge_index, x=x)], dim=-1))\n",
    "\n",
    "    def message(self, x_i, x_j, index):\n",
    "        # Compute attention scores from concatenated [x_i || x_j]\n",
    "        att_input = torch.cat([x_i, x_j], dim=-1)\n",
    "        att_scores = self.att_mlp(att_input).squeeze(-1)\n",
    "\n",
    "        # Softmax normalization per target node (index)\n",
    "        att_weights = softmax(att_scores, index)\n",
    "\n",
    "        # Compute message ψ(X_j) and weight it by attention α\n",
    "        return att_weights.view(-1, 1) * self.mlp_msg(x_j)\n",
    "\n",
    "\n",
    "\n",
    "class DistanceMPNN(nn.Module):\n",
    "    def __init__(self, in_channels, hidden_channels_1, hidden_channels_2, hidden_channels_3):\n",
    "        super().__init__()\n",
    "        self.first = DistanceMPNNLayer(in_channels, hidden_channels_1)\n",
    "        self.second = DistanceMPNNLayer(hidden_channels_1, hidden_channels_2)\n",
    "        self.third = DistanceMPNNLayer(hidden_channels_2, hidden_channels_3)\n",
    "        self.final_mlp = nn.Linear(hidden_channels_3, 1)\n",
    "\n",
    "\n",
    "    def forward(self, x, edge_index, edge_attr, batch):\n",
    "        return self.final_mlp(global_mean_pool(self.third(self.second(self.first(x, edge_index), edge_index),edge_index), batch))"
   ],
   "id": "e27a0824336d716f",
   "outputs": [],
   "execution_count": 150
  },
  {
   "metadata": {
    "ExecuteTime": {
     "end_time": "2025-06-06T18:14:29.239555Z",
     "start_time": "2025-06-06T18:14:29.235857Z"
    }
   },
   "cell_type": "code",
   "source": [
    "from torch.utils.data import random_split\n",
    "\n",
    "total_len = len(dataset_tr)\n",
    "train_len = int(0.8 * total_len)\n",
    "val_len = total_len - train_len\n",
    "\n",
    "# Randomly split\n",
    "dataset_tr_split, dataset_val_split = random_split(dataset_tr, [train_len, val_len])\n"
   ],
   "id": "f5c27f98a86c0d4",
   "outputs": [],
   "execution_count": 151
  },
  {
   "metadata": {
    "ExecuteTime": {
     "end_time": "2025-06-06T18:14:30.025956Z",
     "start_time": "2025-06-06T18:14:30.022787Z"
    }
   },
   "cell_type": "code",
   "source": [
    "# Now wrap both in EEGGraphDataset\n",
    "train_dataset = EEGGraphDataset(dataset_tr_split, edge_index=edge_index, edge_attr=edge_attr, is_train=True)\n",
    "val_dataset = EEGGraphDataset(dataset_val_split, edge_index=edge_index, edge_attr=edge_attr, is_train=True)"
   ],
   "id": "eccdb94874cc4683",
   "outputs": [],
   "execution_count": 152
  },
  {
   "metadata": {
    "ExecuteTime": {
     "end_time": "2025-06-06T18:34:03.720068Z",
     "start_time": "2025-06-06T18:34:03.247652Z"
    }
   },
   "cell_type": "code",
   "source": [
    "labels = [int(train_dataset[i].y.item()) for i in range(len(train_dataset))]\n",
    "\n",
    "num_pos = sum(labels)\n",
    "num_neg = len(labels) - num_pos\n",
    "\n",
    "class_weights = [1.0 / num_pos if l == 1 else 1.0 / num_neg for l in labels]\n",
    "\n",
    "from torch.utils.data import WeightedRandomSampler\n",
    "\n",
    "sampler = WeightedRandomSampler(class_weights, num_samples=len(class_weights), replacement=True)\n",
    "\n",
    "train_loader = DataLoader(train_dataset, batch_size=32, sampler=sampler)\n"
   ],
   "id": "e33a17ee7a1913d2",
   "outputs": [],
   "execution_count": 158
  },
  {
   "metadata": {
    "collapsed": true,
    "ExecuteTime": {
     "end_time": "2025-06-06T18:45:39.703605Z",
     "start_time": "2025-06-06T18:34:11.169507Z"
    }
   },
   "cell_type": "code",
   "source": [
    "val_loader = DataLoader(val_dataset, batch_size=32, shuffle=False)\n",
    "\n",
    "device = torch.device(\"cuda\" if torch.cuda.is_available() else \"cpu\")\n",
    "model = DistanceMPNN(in_channels=dataset_tr[0][0].shape[0], hidden_channels_1=128, hidden_channels_2=64, hidden_channels_3=16).to(device)\n",
    "optimizer = torch.optim.Adam(model.parameters(), lr=1e-3)\n",
    "\n",
    "criterion = nn.BCEWithLogitsLoss()\n",
    "\n",
    "train_losses = []\n",
    "val_losses = []\n",
    "\n",
    "for epoch in range(1000):\n",
    "    model.train()\n",
    "    total_train_loss = 0\n",
    "    for batch in train_loader:\n",
    "        batch = batch.to(device)\n",
    "        optimizer.zero_grad()\n",
    "        logits = model(batch.x, batch.edge_index, batch.edge_attr, batch.batch)\n",
    "        loss = criterion(logits, batch.y)\n",
    "        loss.backward()\n",
    "        optimizer.step()\n",
    "        total_train_loss += loss.item()\n",
    "    avg_train_loss = total_train_loss / len(train_loader)\n",
    "    train_losses.append(avg_train_loss)\n",
    "\n",
    "    model.eval()\n",
    "    total_val_loss = 0\n",
    "    all_preds = []\n",
    "    all_labels = []\n",
    "    with torch.no_grad():\n",
    "        for batch in val_loader:\n",
    "            batch = batch.to(device)\n",
    "            logits = model(batch.x, batch.edge_index, batch.edge_attr, batch.batch)\n",
    "            probs = torch.sigmoid(logits)\n",
    "            preds = (probs > 0.5).float()\n",
    "\n",
    "            # Flatten and collect predictions and labels\n",
    "            all_preds.extend(preds.cpu().numpy().flatten())\n",
    "            all_labels.extend(batch.y.view(-1).cpu().numpy())\n",
    "    f1 = f1_score(all_labels, all_preds)\n",
    "    val_losses.append(f1)\n",
    "\n",
    "    print(f\"Epoch {epoch+1}, Train Loss: {avg_train_loss:.4f}, Val F1 Score: {f1:.4f}\")\n",
    "\n"
   ],
   "id": "initial_id",
   "outputs": [
    {
     "name": "stdout",
     "output_type": "stream",
     "text": [
      "Epoch 1, Train Loss: 0.5763, Val F1 Score: 0.5316\n",
      "Epoch 2, Train Loss: 0.5017, Val F1 Score: 0.6114\n",
      "Epoch 3, Train Loss: 0.4788, Val F1 Score: 0.6118\n",
      "Epoch 4, Train Loss: 0.4661, Val F1 Score: 0.6133\n",
      "Epoch 5, Train Loss: 0.4507, Val F1 Score: 0.5367\n",
      "Epoch 6, Train Loss: 0.4331, Val F1 Score: 0.6325\n",
      "Epoch 7, Train Loss: 0.4162, Val F1 Score: 0.6284\n",
      "Epoch 8, Train Loss: 0.4188, Val F1 Score: 0.6091\n",
      "Epoch 9, Train Loss: 0.3994, Val F1 Score: 0.6369\n",
      "Epoch 10, Train Loss: 0.4079, Val F1 Score: 0.6272\n",
      "Epoch 11, Train Loss: 0.3943, Val F1 Score: 0.5976\n",
      "Epoch 12, Train Loss: 0.3876, Val F1 Score: 0.6481\n",
      "Epoch 13, Train Loss: 0.3721, Val F1 Score: 0.5892\n",
      "Epoch 14, Train Loss: 0.3732, Val F1 Score: 0.6643\n",
      "Epoch 15, Train Loss: 0.3607, Val F1 Score: 0.6586\n",
      "Epoch 16, Train Loss: 0.3697, Val F1 Score: 0.6613\n",
      "Epoch 17, Train Loss: 0.3484, Val F1 Score: 0.6454\n",
      "Epoch 18, Train Loss: 0.3496, Val F1 Score: 0.6795\n",
      "Epoch 19, Train Loss: 0.3525, Val F1 Score: 0.6724\n",
      "Epoch 20, Train Loss: 0.3377, Val F1 Score: 0.6655\n",
      "Epoch 21, Train Loss: 0.3265, Val F1 Score: 0.6343\n",
      "Epoch 22, Train Loss: 0.3216, Val F1 Score: 0.6831\n",
      "Epoch 23, Train Loss: 0.3239, Val F1 Score: 0.5828\n",
      "Epoch 24, Train Loss: 0.3148, Val F1 Score: 0.6614\n",
      "Epoch 25, Train Loss: 0.3082, Val F1 Score: 0.6471\n",
      "Epoch 26, Train Loss: 0.2995, Val F1 Score: 0.6836\n",
      "Epoch 27, Train Loss: 0.3058, Val F1 Score: 0.7146\n",
      "Epoch 28, Train Loss: 0.2843, Val F1 Score: 0.7143\n",
      "Epoch 29, Train Loss: 0.2880, Val F1 Score: 0.7026\n",
      "Epoch 30, Train Loss: 0.2887, Val F1 Score: 0.6820\n",
      "Epoch 31, Train Loss: 0.2789, Val F1 Score: 0.6793\n",
      "Epoch 32, Train Loss: 0.2831, Val F1 Score: 0.7121\n",
      "Epoch 33, Train Loss: 0.2753, Val F1 Score: 0.6986\n",
      "Epoch 34, Train Loss: 0.2620, Val F1 Score: 0.6858\n",
      "Epoch 35, Train Loss: 0.2427, Val F1 Score: 0.6703\n",
      "Epoch 36, Train Loss: 0.2596, Val F1 Score: 0.7140\n",
      "Epoch 37, Train Loss: 0.2512, Val F1 Score: 0.6990\n",
      "Epoch 38, Train Loss: 0.2256, Val F1 Score: 0.7246\n",
      "Epoch 39, Train Loss: 0.2455, Val F1 Score: 0.6641\n",
      "Epoch 40, Train Loss: 0.2398, Val F1 Score: 0.7276\n",
      "Epoch 41, Train Loss: 0.2270, Val F1 Score: 0.7183\n",
      "Epoch 42, Train Loss: 0.2204, Val F1 Score: 0.7147\n",
      "Epoch 43, Train Loss: 0.2119, Val F1 Score: 0.7161\n",
      "Epoch 44, Train Loss: 0.2117, Val F1 Score: 0.7292\n",
      "Epoch 45, Train Loss: 0.2039, Val F1 Score: 0.6881\n",
      "Epoch 46, Train Loss: 0.2097, Val F1 Score: 0.6910\n",
      "Epoch 47, Train Loss: 0.2350, Val F1 Score: 0.7207\n",
      "Epoch 48, Train Loss: 0.2127, Val F1 Score: 0.7225\n",
      "Epoch 49, Train Loss: 0.2057, Val F1 Score: 0.7094\n",
      "Epoch 50, Train Loss: 0.1991, Val F1 Score: 0.7112\n",
      "Epoch 51, Train Loss: 0.1813, Val F1 Score: 0.7198\n",
      "Epoch 52, Train Loss: 0.1909, Val F1 Score: 0.7373\n",
      "Epoch 53, Train Loss: 0.1842, Val F1 Score: 0.7405\n",
      "Epoch 54, Train Loss: 0.1800, Val F1 Score: 0.7329\n",
      "Epoch 55, Train Loss: 0.1600, Val F1 Score: 0.7184\n",
      "Epoch 56, Train Loss: 0.1681, Val F1 Score: 0.7036\n",
      "Epoch 57, Train Loss: 0.1712, Val F1 Score: 0.7364\n",
      "Epoch 58, Train Loss: 0.1516, Val F1 Score: 0.7250\n",
      "Epoch 59, Train Loss: 0.1572, Val F1 Score: 0.7415\n",
      "Epoch 60, Train Loss: 0.1533, Val F1 Score: 0.7223\n",
      "Epoch 61, Train Loss: 0.1534, Val F1 Score: 0.7110\n",
      "Epoch 62, Train Loss: 0.1537, Val F1 Score: 0.7151\n",
      "Epoch 63, Train Loss: 0.1498, Val F1 Score: 0.7169\n",
      "Epoch 64, Train Loss: 0.1348, Val F1 Score: 0.7148\n",
      "Epoch 65, Train Loss: 0.1266, Val F1 Score: 0.7311\n",
      "Epoch 66, Train Loss: 0.1365, Val F1 Score: 0.7255\n",
      "Epoch 67, Train Loss: 0.1442, Val F1 Score: 0.7174\n",
      "Epoch 68, Train Loss: 0.1226, Val F1 Score: 0.7320\n",
      "Epoch 69, Train Loss: 0.1168, Val F1 Score: 0.7456\n",
      "Epoch 70, Train Loss: 0.1201, Val F1 Score: 0.7483\n",
      "Epoch 71, Train Loss: 0.1240, Val F1 Score: 0.7229\n",
      "Epoch 72, Train Loss: 0.1284, Val F1 Score: 0.7383\n",
      "Epoch 73, Train Loss: 0.1080, Val F1 Score: 0.7360\n",
      "Epoch 74, Train Loss: 0.1185, Val F1 Score: 0.7426\n",
      "Epoch 75, Train Loss: 0.1078, Val F1 Score: 0.7115\n",
      "Epoch 76, Train Loss: 0.1179, Val F1 Score: 0.7418\n",
      "Epoch 77, Train Loss: 0.1179, Val F1 Score: 0.7241\n",
      "Epoch 78, Train Loss: 0.0968, Val F1 Score: 0.7339\n",
      "Epoch 79, Train Loss: 0.1062, Val F1 Score: 0.7435\n",
      "Epoch 80, Train Loss: 0.0903, Val F1 Score: 0.6941\n",
      "Epoch 81, Train Loss: 0.1149, Val F1 Score: 0.7323\n",
      "Epoch 82, Train Loss: 0.0966, Val F1 Score: 0.7206\n",
      "Epoch 83, Train Loss: 0.0923, Val F1 Score: 0.7364\n",
      "Epoch 84, Train Loss: 0.0964, Val F1 Score: 0.7357\n",
      "Epoch 85, Train Loss: 0.0938, Val F1 Score: 0.7533\n",
      "Epoch 86, Train Loss: 0.0983, Val F1 Score: 0.7221\n",
      "Epoch 87, Train Loss: 0.0918, Val F1 Score: 0.7250\n",
      "Epoch 88, Train Loss: 0.0822, Val F1 Score: 0.6998\n",
      "Epoch 89, Train Loss: 0.0910, Val F1 Score: 0.7447\n",
      "Epoch 90, Train Loss: 0.0806, Val F1 Score: 0.7378\n",
      "Epoch 91, Train Loss: 0.0990, Val F1 Score: 0.7398\n",
      "Epoch 92, Train Loss: 0.0977, Val F1 Score: 0.7209\n",
      "Epoch 93, Train Loss: 0.0968, Val F1 Score: 0.7020\n",
      "Epoch 94, Train Loss: 0.0846, Val F1 Score: 0.7432\n",
      "Epoch 95, Train Loss: 0.0813, Val F1 Score: 0.7314\n",
      "Epoch 96, Train Loss: 0.0789, Val F1 Score: 0.7449\n",
      "Epoch 97, Train Loss: 0.0720, Val F1 Score: 0.7392\n",
      "Epoch 98, Train Loss: 0.0710, Val F1 Score: 0.7411\n",
      "Epoch 99, Train Loss: 0.0833, Val F1 Score: 0.7642\n",
      "Epoch 100, Train Loss: 0.0672, Val F1 Score: 0.7291\n"
     ]
    },
    {
     "ename": "KeyboardInterrupt",
     "evalue": "",
     "output_type": "error",
     "traceback": [
      "\u001B[0;31m---------------------------------------------------------------------------\u001B[0m",
      "\u001B[0;31mKeyboardInterrupt\u001B[0m                         Traceback (most recent call last)",
      "Cell \u001B[0;32mIn[160], line 18\u001B[0m\n\u001B[1;32m     16\u001B[0m batch \u001B[38;5;241m=\u001B[39m batch\u001B[38;5;241m.\u001B[39mto(device)\n\u001B[1;32m     17\u001B[0m optimizer\u001B[38;5;241m.\u001B[39mzero_grad()\n\u001B[0;32m---> 18\u001B[0m logits \u001B[38;5;241m=\u001B[39m \u001B[43mmodel\u001B[49m\u001B[43m(\u001B[49m\u001B[43mbatch\u001B[49m\u001B[38;5;241;43m.\u001B[39;49m\u001B[43mx\u001B[49m\u001B[43m,\u001B[49m\u001B[43m \u001B[49m\u001B[43mbatch\u001B[49m\u001B[38;5;241;43m.\u001B[39;49m\u001B[43medge_index\u001B[49m\u001B[43m,\u001B[49m\u001B[43m \u001B[49m\u001B[43mbatch\u001B[49m\u001B[38;5;241;43m.\u001B[39;49m\u001B[43medge_attr\u001B[49m\u001B[43m,\u001B[49m\u001B[43m \u001B[49m\u001B[43mbatch\u001B[49m\u001B[38;5;241;43m.\u001B[39;49m\u001B[43mbatch\u001B[49m\u001B[43m)\u001B[49m\n\u001B[1;32m     19\u001B[0m loss \u001B[38;5;241m=\u001B[39m criterion(logits, batch\u001B[38;5;241m.\u001B[39my)\n\u001B[1;32m     20\u001B[0m loss\u001B[38;5;241m.\u001B[39mbackward()\n",
      "File \u001B[0;32m~/Desktop/EPFL/ee452-nml/.venv/lib/python3.10/site-packages/torch/nn/modules/module.py:1751\u001B[0m, in \u001B[0;36mModule._wrapped_call_impl\u001B[0;34m(self, *args, **kwargs)\u001B[0m\n\u001B[1;32m   1749\u001B[0m     \u001B[38;5;28;01mreturn\u001B[39;00m \u001B[38;5;28mself\u001B[39m\u001B[38;5;241m.\u001B[39m_compiled_call_impl(\u001B[38;5;241m*\u001B[39margs, \u001B[38;5;241m*\u001B[39m\u001B[38;5;241m*\u001B[39mkwargs)  \u001B[38;5;66;03m# type: ignore[misc]\u001B[39;00m\n\u001B[1;32m   1750\u001B[0m \u001B[38;5;28;01melse\u001B[39;00m:\n\u001B[0;32m-> 1751\u001B[0m     \u001B[38;5;28;01mreturn\u001B[39;00m \u001B[38;5;28;43mself\u001B[39;49m\u001B[38;5;241;43m.\u001B[39;49m\u001B[43m_call_impl\u001B[49m\u001B[43m(\u001B[49m\u001B[38;5;241;43m*\u001B[39;49m\u001B[43margs\u001B[49m\u001B[43m,\u001B[49m\u001B[43m \u001B[49m\u001B[38;5;241;43m*\u001B[39;49m\u001B[38;5;241;43m*\u001B[39;49m\u001B[43mkwargs\u001B[49m\u001B[43m)\u001B[49m\n",
      "File \u001B[0;32m~/Desktop/EPFL/ee452-nml/.venv/lib/python3.10/site-packages/torch/nn/modules/module.py:1762\u001B[0m, in \u001B[0;36mModule._call_impl\u001B[0;34m(self, *args, **kwargs)\u001B[0m\n\u001B[1;32m   1757\u001B[0m \u001B[38;5;66;03m# If we don't have any hooks, we want to skip the rest of the logic in\u001B[39;00m\n\u001B[1;32m   1758\u001B[0m \u001B[38;5;66;03m# this function, and just call forward.\u001B[39;00m\n\u001B[1;32m   1759\u001B[0m \u001B[38;5;28;01mif\u001B[39;00m \u001B[38;5;129;01mnot\u001B[39;00m (\u001B[38;5;28mself\u001B[39m\u001B[38;5;241m.\u001B[39m_backward_hooks \u001B[38;5;129;01mor\u001B[39;00m \u001B[38;5;28mself\u001B[39m\u001B[38;5;241m.\u001B[39m_backward_pre_hooks \u001B[38;5;129;01mor\u001B[39;00m \u001B[38;5;28mself\u001B[39m\u001B[38;5;241m.\u001B[39m_forward_hooks \u001B[38;5;129;01mor\u001B[39;00m \u001B[38;5;28mself\u001B[39m\u001B[38;5;241m.\u001B[39m_forward_pre_hooks\n\u001B[1;32m   1760\u001B[0m         \u001B[38;5;129;01mor\u001B[39;00m _global_backward_pre_hooks \u001B[38;5;129;01mor\u001B[39;00m _global_backward_hooks\n\u001B[1;32m   1761\u001B[0m         \u001B[38;5;129;01mor\u001B[39;00m _global_forward_hooks \u001B[38;5;129;01mor\u001B[39;00m _global_forward_pre_hooks):\n\u001B[0;32m-> 1762\u001B[0m     \u001B[38;5;28;01mreturn\u001B[39;00m \u001B[43mforward_call\u001B[49m\u001B[43m(\u001B[49m\u001B[38;5;241;43m*\u001B[39;49m\u001B[43margs\u001B[49m\u001B[43m,\u001B[49m\u001B[43m \u001B[49m\u001B[38;5;241;43m*\u001B[39;49m\u001B[38;5;241;43m*\u001B[39;49m\u001B[43mkwargs\u001B[49m\u001B[43m)\u001B[49m\n\u001B[1;32m   1764\u001B[0m result \u001B[38;5;241m=\u001B[39m \u001B[38;5;28;01mNone\u001B[39;00m\n\u001B[1;32m   1765\u001B[0m called_always_called_hooks \u001B[38;5;241m=\u001B[39m \u001B[38;5;28mset\u001B[39m()\n",
      "Cell \u001B[0;32mIn[150], line 46\u001B[0m, in \u001B[0;36mDistanceMPNN.forward\u001B[0;34m(self, x, edge_index, edge_attr, batch)\u001B[0m\n\u001B[1;32m     45\u001B[0m \u001B[38;5;28;01mdef\u001B[39;00m\u001B[38;5;250m \u001B[39m\u001B[38;5;21mforward\u001B[39m(\u001B[38;5;28mself\u001B[39m, x, edge_index, edge_attr, batch):\n\u001B[0;32m---> 46\u001B[0m     \u001B[38;5;28;01mreturn\u001B[39;00m \u001B[38;5;28mself\u001B[39m\u001B[38;5;241m.\u001B[39mfinal_mlp(global_mean_pool(\u001B[38;5;28mself\u001B[39m\u001B[38;5;241m.\u001B[39mthird(\u001B[38;5;28mself\u001B[39m\u001B[38;5;241m.\u001B[39msecond(\u001B[38;5;28;43mself\u001B[39;49m\u001B[38;5;241;43m.\u001B[39;49m\u001B[43mfirst\u001B[49m\u001B[43m(\u001B[49m\u001B[43mx\u001B[49m\u001B[43m,\u001B[49m\u001B[43m \u001B[49m\u001B[43medge_index\u001B[49m\u001B[43m)\u001B[49m, edge_index),edge_index), batch))\n",
      "File \u001B[0;32m~/Desktop/EPFL/ee452-nml/.venv/lib/python3.10/site-packages/torch/nn/modules/module.py:1751\u001B[0m, in \u001B[0;36mModule._wrapped_call_impl\u001B[0;34m(self, *args, **kwargs)\u001B[0m\n\u001B[1;32m   1749\u001B[0m     \u001B[38;5;28;01mreturn\u001B[39;00m \u001B[38;5;28mself\u001B[39m\u001B[38;5;241m.\u001B[39m_compiled_call_impl(\u001B[38;5;241m*\u001B[39margs, \u001B[38;5;241m*\u001B[39m\u001B[38;5;241m*\u001B[39mkwargs)  \u001B[38;5;66;03m# type: ignore[misc]\u001B[39;00m\n\u001B[1;32m   1750\u001B[0m \u001B[38;5;28;01melse\u001B[39;00m:\n\u001B[0;32m-> 1751\u001B[0m     \u001B[38;5;28;01mreturn\u001B[39;00m \u001B[38;5;28;43mself\u001B[39;49m\u001B[38;5;241;43m.\u001B[39;49m\u001B[43m_call_impl\u001B[49m\u001B[43m(\u001B[49m\u001B[38;5;241;43m*\u001B[39;49m\u001B[43margs\u001B[49m\u001B[43m,\u001B[49m\u001B[43m \u001B[49m\u001B[38;5;241;43m*\u001B[39;49m\u001B[38;5;241;43m*\u001B[39;49m\u001B[43mkwargs\u001B[49m\u001B[43m)\u001B[49m\n",
      "File \u001B[0;32m~/Desktop/EPFL/ee452-nml/.venv/lib/python3.10/site-packages/torch/nn/modules/module.py:1762\u001B[0m, in \u001B[0;36mModule._call_impl\u001B[0;34m(self, *args, **kwargs)\u001B[0m\n\u001B[1;32m   1757\u001B[0m \u001B[38;5;66;03m# If we don't have any hooks, we want to skip the rest of the logic in\u001B[39;00m\n\u001B[1;32m   1758\u001B[0m \u001B[38;5;66;03m# this function, and just call forward.\u001B[39;00m\n\u001B[1;32m   1759\u001B[0m \u001B[38;5;28;01mif\u001B[39;00m \u001B[38;5;129;01mnot\u001B[39;00m (\u001B[38;5;28mself\u001B[39m\u001B[38;5;241m.\u001B[39m_backward_hooks \u001B[38;5;129;01mor\u001B[39;00m \u001B[38;5;28mself\u001B[39m\u001B[38;5;241m.\u001B[39m_backward_pre_hooks \u001B[38;5;129;01mor\u001B[39;00m \u001B[38;5;28mself\u001B[39m\u001B[38;5;241m.\u001B[39m_forward_hooks \u001B[38;5;129;01mor\u001B[39;00m \u001B[38;5;28mself\u001B[39m\u001B[38;5;241m.\u001B[39m_forward_pre_hooks\n\u001B[1;32m   1760\u001B[0m         \u001B[38;5;129;01mor\u001B[39;00m _global_backward_pre_hooks \u001B[38;5;129;01mor\u001B[39;00m _global_backward_hooks\n\u001B[1;32m   1761\u001B[0m         \u001B[38;5;129;01mor\u001B[39;00m _global_forward_hooks \u001B[38;5;129;01mor\u001B[39;00m _global_forward_pre_hooks):\n\u001B[0;32m-> 1762\u001B[0m     \u001B[38;5;28;01mreturn\u001B[39;00m \u001B[43mforward_call\u001B[49m\u001B[43m(\u001B[49m\u001B[38;5;241;43m*\u001B[39;49m\u001B[43margs\u001B[49m\u001B[43m,\u001B[49m\u001B[43m \u001B[49m\u001B[38;5;241;43m*\u001B[39;49m\u001B[38;5;241;43m*\u001B[39;49m\u001B[43mkwargs\u001B[49m\u001B[43m)\u001B[49m\n\u001B[1;32m   1764\u001B[0m result \u001B[38;5;241m=\u001B[39m \u001B[38;5;28;01mNone\u001B[39;00m\n\u001B[1;32m   1765\u001B[0m called_always_called_hooks \u001B[38;5;241m=\u001B[39m \u001B[38;5;28mset\u001B[39m()\n",
      "Cell \u001B[0;32mIn[150], line 21\u001B[0m, in \u001B[0;36mDistanceMPNNLayer.forward\u001B[0;34m(self, x, edge_index)\u001B[0m\n\u001B[1;32m     20\u001B[0m \u001B[38;5;28;01mdef\u001B[39;00m\u001B[38;5;250m \u001B[39m\u001B[38;5;21mforward\u001B[39m(\u001B[38;5;28mself\u001B[39m, x, edge_index):\n\u001B[0;32m---> 21\u001B[0m     \u001B[38;5;28;01mreturn\u001B[39;00m \u001B[38;5;28mself\u001B[39m\u001B[38;5;241m.\u001B[39mmlp_update(torch\u001B[38;5;241m.\u001B[39mcat([x, \u001B[38;5;28;43mself\u001B[39;49m\u001B[38;5;241;43m.\u001B[39;49m\u001B[43mpropagate\u001B[49m\u001B[43m(\u001B[49m\u001B[43medge_index\u001B[49m\u001B[38;5;241;43m=\u001B[39;49m\u001B[43medge_index\u001B[49m\u001B[43m,\u001B[49m\u001B[43m \u001B[49m\u001B[43mx\u001B[49m\u001B[38;5;241;43m=\u001B[39;49m\u001B[43mx\u001B[49m\u001B[43m)\u001B[49m], dim\u001B[38;5;241m=\u001B[39m\u001B[38;5;241m-\u001B[39m\u001B[38;5;241m1\u001B[39m))\n",
      "File \u001B[0;32m~/Desktop/EPFL/ee452-nml/.venv/lib/python3.10/site-packages/torch_geometric/nn/conv/message_passing.py:541\u001B[0m, in \u001B[0;36mMessagePassing.propagate\u001B[0;34m(self, edge_index, size, **kwargs)\u001B[0m\n\u001B[1;32m    538\u001B[0m     \u001B[38;5;28;01mif\u001B[39;00m res \u001B[38;5;129;01mis\u001B[39;00m \u001B[38;5;129;01mnot\u001B[39;00m \u001B[38;5;28;01mNone\u001B[39;00m:\n\u001B[1;32m    539\u001B[0m         aggr_kwargs \u001B[38;5;241m=\u001B[39m res[\u001B[38;5;241m0\u001B[39m] \u001B[38;5;28;01mif\u001B[39;00m \u001B[38;5;28misinstance\u001B[39m(res, \u001B[38;5;28mtuple\u001B[39m) \u001B[38;5;28;01melse\u001B[39;00m res\n\u001B[0;32m--> 541\u001B[0m out \u001B[38;5;241m=\u001B[39m \u001B[38;5;28;43mself\u001B[39;49m\u001B[38;5;241;43m.\u001B[39;49m\u001B[43maggregate\u001B[49m\u001B[43m(\u001B[49m\u001B[43mout\u001B[49m\u001B[43m,\u001B[49m\u001B[43m \u001B[49m\u001B[38;5;241;43m*\u001B[39;49m\u001B[38;5;241;43m*\u001B[39;49m\u001B[43maggr_kwargs\u001B[49m\u001B[43m)\u001B[49m\n\u001B[1;32m    543\u001B[0m \u001B[38;5;28;01mfor\u001B[39;00m hook \u001B[38;5;129;01min\u001B[39;00m \u001B[38;5;28mself\u001B[39m\u001B[38;5;241m.\u001B[39m_aggregate_forward_hooks\u001B[38;5;241m.\u001B[39mvalues():\n\u001B[1;32m    544\u001B[0m     res \u001B[38;5;241m=\u001B[39m hook(\u001B[38;5;28mself\u001B[39m, (aggr_kwargs, ), out)\n",
      "File \u001B[0;32m~/Desktop/EPFL/ee452-nml/.venv/lib/python3.10/site-packages/torch_geometric/nn/conv/message_passing.py:594\u001B[0m, in \u001B[0;36mMessagePassing.aggregate\u001B[0;34m(self, inputs, index, ptr, dim_size)\u001B[0m\n\u001B[1;32m    577\u001B[0m \u001B[38;5;28;01mdef\u001B[39;00m\u001B[38;5;250m \u001B[39m\u001B[38;5;21maggregate\u001B[39m(\n\u001B[1;32m    578\u001B[0m     \u001B[38;5;28mself\u001B[39m,\n\u001B[1;32m    579\u001B[0m     inputs: Tensor,\n\u001B[0;32m   (...)\u001B[0m\n\u001B[1;32m    582\u001B[0m     dim_size: Optional[\u001B[38;5;28mint\u001B[39m] \u001B[38;5;241m=\u001B[39m \u001B[38;5;28;01mNone\u001B[39;00m,\n\u001B[1;32m    583\u001B[0m ) \u001B[38;5;241m-\u001B[39m\u001B[38;5;241m>\u001B[39m Tensor:\n\u001B[1;32m    584\u001B[0m \u001B[38;5;250m    \u001B[39m\u001B[38;5;124mr\u001B[39m\u001B[38;5;124;03m\"\"\"Aggregates messages from neighbors as\u001B[39;00m\n\u001B[1;32m    585\u001B[0m \u001B[38;5;124;03m    :math:`\\bigoplus_{j \\in \\mathcal{N}(i)}`.\u001B[39;00m\n\u001B[1;32m    586\u001B[0m \n\u001B[0;32m   (...)\u001B[0m\n\u001B[1;32m    592\u001B[0m \u001B[38;5;124;03m    as specified in :meth:`__init__` by the :obj:`aggr` argument.\u001B[39;00m\n\u001B[1;32m    593\u001B[0m \u001B[38;5;124;03m    \"\"\"\u001B[39;00m\n\u001B[0;32m--> 594\u001B[0m     \u001B[38;5;28;01mreturn\u001B[39;00m \u001B[38;5;28;43mself\u001B[39;49m\u001B[38;5;241;43m.\u001B[39;49m\u001B[43maggr_module\u001B[49m\u001B[43m(\u001B[49m\u001B[43minputs\u001B[49m\u001B[43m,\u001B[49m\u001B[43m \u001B[49m\u001B[43mindex\u001B[49m\u001B[43m,\u001B[49m\u001B[43m \u001B[49m\u001B[43mptr\u001B[49m\u001B[38;5;241;43m=\u001B[39;49m\u001B[43mptr\u001B[49m\u001B[43m,\u001B[49m\u001B[43m \u001B[49m\u001B[43mdim_size\u001B[49m\u001B[38;5;241;43m=\u001B[39;49m\u001B[43mdim_size\u001B[49m\u001B[43m,\u001B[49m\n\u001B[1;32m    595\u001B[0m \u001B[43m                            \u001B[49m\u001B[43mdim\u001B[49m\u001B[38;5;241;43m=\u001B[39;49m\u001B[38;5;28;43mself\u001B[39;49m\u001B[38;5;241;43m.\u001B[39;49m\u001B[43mnode_dim\u001B[49m\u001B[43m)\u001B[49m\n",
      "File \u001B[0;32m~/Desktop/EPFL/ee452-nml/.venv/lib/python3.10/site-packages/torch_geometric/experimental.py:117\u001B[0m, in \u001B[0;36mdisable_dynamic_shapes.<locals>.decorator.<locals>.wrapper\u001B[0;34m(*args, **kwargs)\u001B[0m\n\u001B[1;32m    114\u001B[0m \u001B[38;5;129m@functools\u001B[39m\u001B[38;5;241m.\u001B[39mwraps(func)\n\u001B[1;32m    115\u001B[0m \u001B[38;5;28;01mdef\u001B[39;00m\u001B[38;5;250m \u001B[39m\u001B[38;5;21mwrapper\u001B[39m(\u001B[38;5;241m*\u001B[39margs: Any, \u001B[38;5;241m*\u001B[39m\u001B[38;5;241m*\u001B[39mkwargs: Any) \u001B[38;5;241m-\u001B[39m\u001B[38;5;241m>\u001B[39m Any:\n\u001B[1;32m    116\u001B[0m     \u001B[38;5;28;01mif\u001B[39;00m \u001B[38;5;129;01mnot\u001B[39;00m is_experimental_mode_enabled(\u001B[38;5;124m'\u001B[39m\u001B[38;5;124mdisable_dynamic_shapes\u001B[39m\u001B[38;5;124m'\u001B[39m):\n\u001B[0;32m--> 117\u001B[0m         \u001B[38;5;28;01mreturn\u001B[39;00m \u001B[43mfunc\u001B[49m\u001B[43m(\u001B[49m\u001B[38;5;241;43m*\u001B[39;49m\u001B[43margs\u001B[49m\u001B[43m,\u001B[49m\u001B[43m \u001B[49m\u001B[38;5;241;43m*\u001B[39;49m\u001B[38;5;241;43m*\u001B[39;49m\u001B[43mkwargs\u001B[49m\u001B[43m)\u001B[49m\n\u001B[1;32m    119\u001B[0m     \u001B[38;5;28;01mfor\u001B[39;00m required_arg \u001B[38;5;129;01min\u001B[39;00m required_args:\n\u001B[1;32m    120\u001B[0m         index \u001B[38;5;241m=\u001B[39m required_args_pos[required_arg]\n",
      "File \u001B[0;32m~/Desktop/EPFL/ee452-nml/.venv/lib/python3.10/site-packages/torch_geometric/nn/aggr/base.py:131\u001B[0m, in \u001B[0;36mAggregation.__call__\u001B[0;34m(self, x, index, ptr, dim_size, dim, **kwargs)\u001B[0m\n\u001B[1;32m    128\u001B[0m     dim_size \u001B[38;5;241m=\u001B[39m \u001B[38;5;28mint\u001B[39m(index\u001B[38;5;241m.\u001B[39mmax()) \u001B[38;5;241m+\u001B[39m \u001B[38;5;241m1\u001B[39m \u001B[38;5;28;01mif\u001B[39;00m index\u001B[38;5;241m.\u001B[39mnumel() \u001B[38;5;241m>\u001B[39m \u001B[38;5;241m0\u001B[39m \u001B[38;5;28;01melse\u001B[39;00m \u001B[38;5;241m0\u001B[39m\n\u001B[1;32m    130\u001B[0m \u001B[38;5;28;01mtry\u001B[39;00m:\n\u001B[0;32m--> 131\u001B[0m     \u001B[38;5;28;01mreturn\u001B[39;00m \u001B[38;5;28;43msuper\u001B[39;49m\u001B[43m(\u001B[49m\u001B[43m)\u001B[49m\u001B[38;5;241;43m.\u001B[39;49m\u001B[38;5;21;43m__call__\u001B[39;49m\u001B[43m(\u001B[49m\u001B[43mx\u001B[49m\u001B[43m,\u001B[49m\u001B[43m \u001B[49m\u001B[43mindex\u001B[49m\u001B[38;5;241;43m=\u001B[39;49m\u001B[43mindex\u001B[49m\u001B[43m,\u001B[49m\u001B[43m \u001B[49m\u001B[43mptr\u001B[49m\u001B[38;5;241;43m=\u001B[39;49m\u001B[43mptr\u001B[49m\u001B[43m,\u001B[49m\u001B[43m \u001B[49m\u001B[43mdim_size\u001B[49m\u001B[38;5;241;43m=\u001B[39;49m\u001B[43mdim_size\u001B[49m\u001B[43m,\u001B[49m\n\u001B[1;32m    132\u001B[0m \u001B[43m                            \u001B[49m\u001B[43mdim\u001B[49m\u001B[38;5;241;43m=\u001B[39;49m\u001B[43mdim\u001B[49m\u001B[43m,\u001B[49m\u001B[43m \u001B[49m\u001B[38;5;241;43m*\u001B[39;49m\u001B[38;5;241;43m*\u001B[39;49m\u001B[43mkwargs\u001B[49m\u001B[43m)\u001B[49m\n\u001B[1;32m    133\u001B[0m \u001B[38;5;28;01mexcept\u001B[39;00m (\u001B[38;5;167;01mIndexError\u001B[39;00m, \u001B[38;5;167;01mRuntimeError\u001B[39;00m) \u001B[38;5;28;01mas\u001B[39;00m e:\n\u001B[1;32m    134\u001B[0m     \u001B[38;5;28;01mif\u001B[39;00m index \u001B[38;5;129;01mis\u001B[39;00m \u001B[38;5;129;01mnot\u001B[39;00m \u001B[38;5;28;01mNone\u001B[39;00m:\n",
      "File \u001B[0;32m~/Desktop/EPFL/ee452-nml/.venv/lib/python3.10/site-packages/torch/nn/modules/module.py:1751\u001B[0m, in \u001B[0;36mModule._wrapped_call_impl\u001B[0;34m(self, *args, **kwargs)\u001B[0m\n\u001B[1;32m   1749\u001B[0m     \u001B[38;5;28;01mreturn\u001B[39;00m \u001B[38;5;28mself\u001B[39m\u001B[38;5;241m.\u001B[39m_compiled_call_impl(\u001B[38;5;241m*\u001B[39margs, \u001B[38;5;241m*\u001B[39m\u001B[38;5;241m*\u001B[39mkwargs)  \u001B[38;5;66;03m# type: ignore[misc]\u001B[39;00m\n\u001B[1;32m   1750\u001B[0m \u001B[38;5;28;01melse\u001B[39;00m:\n\u001B[0;32m-> 1751\u001B[0m     \u001B[38;5;28;01mreturn\u001B[39;00m \u001B[38;5;28;43mself\u001B[39;49m\u001B[38;5;241;43m.\u001B[39;49m\u001B[43m_call_impl\u001B[49m\u001B[43m(\u001B[49m\u001B[38;5;241;43m*\u001B[39;49m\u001B[43margs\u001B[49m\u001B[43m,\u001B[49m\u001B[43m \u001B[49m\u001B[38;5;241;43m*\u001B[39;49m\u001B[38;5;241;43m*\u001B[39;49m\u001B[43mkwargs\u001B[49m\u001B[43m)\u001B[49m\n",
      "File \u001B[0;32m~/Desktop/EPFL/ee452-nml/.venv/lib/python3.10/site-packages/torch/nn/modules/module.py:1762\u001B[0m, in \u001B[0;36mModule._call_impl\u001B[0;34m(self, *args, **kwargs)\u001B[0m\n\u001B[1;32m   1757\u001B[0m \u001B[38;5;66;03m# If we don't have any hooks, we want to skip the rest of the logic in\u001B[39;00m\n\u001B[1;32m   1758\u001B[0m \u001B[38;5;66;03m# this function, and just call forward.\u001B[39;00m\n\u001B[1;32m   1759\u001B[0m \u001B[38;5;28;01mif\u001B[39;00m \u001B[38;5;129;01mnot\u001B[39;00m (\u001B[38;5;28mself\u001B[39m\u001B[38;5;241m.\u001B[39m_backward_hooks \u001B[38;5;129;01mor\u001B[39;00m \u001B[38;5;28mself\u001B[39m\u001B[38;5;241m.\u001B[39m_backward_pre_hooks \u001B[38;5;129;01mor\u001B[39;00m \u001B[38;5;28mself\u001B[39m\u001B[38;5;241m.\u001B[39m_forward_hooks \u001B[38;5;129;01mor\u001B[39;00m \u001B[38;5;28mself\u001B[39m\u001B[38;5;241m.\u001B[39m_forward_pre_hooks\n\u001B[1;32m   1760\u001B[0m         \u001B[38;5;129;01mor\u001B[39;00m _global_backward_pre_hooks \u001B[38;5;129;01mor\u001B[39;00m _global_backward_hooks\n\u001B[1;32m   1761\u001B[0m         \u001B[38;5;129;01mor\u001B[39;00m _global_forward_hooks \u001B[38;5;129;01mor\u001B[39;00m _global_forward_pre_hooks):\n\u001B[0;32m-> 1762\u001B[0m     \u001B[38;5;28;01mreturn\u001B[39;00m \u001B[43mforward_call\u001B[49m\u001B[43m(\u001B[49m\u001B[38;5;241;43m*\u001B[39;49m\u001B[43margs\u001B[49m\u001B[43m,\u001B[49m\u001B[43m \u001B[49m\u001B[38;5;241;43m*\u001B[39;49m\u001B[38;5;241;43m*\u001B[39;49m\u001B[43mkwargs\u001B[49m\u001B[43m)\u001B[49m\n\u001B[1;32m   1764\u001B[0m result \u001B[38;5;241m=\u001B[39m \u001B[38;5;28;01mNone\u001B[39;00m\n\u001B[1;32m   1765\u001B[0m called_always_called_hooks \u001B[38;5;241m=\u001B[39m \u001B[38;5;28mset\u001B[39m()\n",
      "File \u001B[0;32m~/Desktop/EPFL/ee452-nml/.venv/lib/python3.10/site-packages/torch_geometric/nn/aggr/basic.py:36\u001B[0m, in \u001B[0;36mMeanAggregation.forward\u001B[0;34m(self, x, index, ptr, dim_size, dim)\u001B[0m\n\u001B[1;32m     33\u001B[0m \u001B[38;5;28;01mdef\u001B[39;00m\u001B[38;5;250m \u001B[39m\u001B[38;5;21mforward\u001B[39m(\u001B[38;5;28mself\u001B[39m, x: Tensor, index: Optional[Tensor] \u001B[38;5;241m=\u001B[39m \u001B[38;5;28;01mNone\u001B[39;00m,\n\u001B[1;32m     34\u001B[0m             ptr: Optional[Tensor] \u001B[38;5;241m=\u001B[39m \u001B[38;5;28;01mNone\u001B[39;00m, dim_size: Optional[\u001B[38;5;28mint\u001B[39m] \u001B[38;5;241m=\u001B[39m \u001B[38;5;28;01mNone\u001B[39;00m,\n\u001B[1;32m     35\u001B[0m             dim: \u001B[38;5;28mint\u001B[39m \u001B[38;5;241m=\u001B[39m \u001B[38;5;241m-\u001B[39m\u001B[38;5;241m2\u001B[39m) \u001B[38;5;241m-\u001B[39m\u001B[38;5;241m>\u001B[39m Tensor:\n\u001B[0;32m---> 36\u001B[0m     \u001B[38;5;28;01mreturn\u001B[39;00m \u001B[38;5;28;43mself\u001B[39;49m\u001B[38;5;241;43m.\u001B[39;49m\u001B[43mreduce\u001B[49m\u001B[43m(\u001B[49m\u001B[43mx\u001B[49m\u001B[43m,\u001B[49m\u001B[43m \u001B[49m\u001B[43mindex\u001B[49m\u001B[43m,\u001B[49m\u001B[43m \u001B[49m\u001B[43mptr\u001B[49m\u001B[43m,\u001B[49m\u001B[43m \u001B[49m\u001B[43mdim_size\u001B[49m\u001B[43m,\u001B[49m\u001B[43m \u001B[49m\u001B[43mdim\u001B[49m\u001B[43m,\u001B[49m\u001B[43m \u001B[49m\u001B[43mreduce\u001B[49m\u001B[38;5;241;43m=\u001B[39;49m\u001B[38;5;124;43m'\u001B[39;49m\u001B[38;5;124;43mmean\u001B[39;49m\u001B[38;5;124;43m'\u001B[39;49m\u001B[43m)\u001B[49m\n",
      "File \u001B[0;32m~/Desktop/EPFL/ee452-nml/.venv/lib/python3.10/site-packages/torch_geometric/nn/aggr/base.py:185\u001B[0m, in \u001B[0;36mAggregation.reduce\u001B[0;34m(self, x, index, ptr, dim_size, dim, reduce)\u001B[0m\n\u001B[1;32m    182\u001B[0m \u001B[38;5;28;01mif\u001B[39;00m index \u001B[38;5;129;01mis\u001B[39;00m \u001B[38;5;28;01mNone\u001B[39;00m:\n\u001B[1;32m    183\u001B[0m     \u001B[38;5;28;01mraise\u001B[39;00m \u001B[38;5;167;01mRuntimeError\u001B[39;00m(\u001B[38;5;124m\"\u001B[39m\u001B[38;5;124mAggregation requires \u001B[39m\u001B[38;5;124m'\u001B[39m\u001B[38;5;124mindex\u001B[39m\u001B[38;5;124m'\u001B[39m\u001B[38;5;124m to be specified\u001B[39m\u001B[38;5;124m\"\u001B[39m)\n\u001B[0;32m--> 185\u001B[0m \u001B[38;5;28;01mreturn\u001B[39;00m \u001B[43mscatter\u001B[49m\u001B[43m(\u001B[49m\u001B[43mx\u001B[49m\u001B[43m,\u001B[49m\u001B[43m \u001B[49m\u001B[43mindex\u001B[49m\u001B[43m,\u001B[49m\u001B[43m \u001B[49m\u001B[43mdim\u001B[49m\u001B[43m,\u001B[49m\u001B[43m \u001B[49m\u001B[43mdim_size\u001B[49m\u001B[43m,\u001B[49m\u001B[43m \u001B[49m\u001B[43mreduce\u001B[49m\u001B[43m)\u001B[49m\n",
      "File \u001B[0;32m~/Desktop/EPFL/ee452-nml/.venv/lib/python3.10/site-packages/torch_geometric/utils/_scatter.py:83\u001B[0m, in \u001B[0;36mscatter\u001B[0;34m(src, index, dim, dim_size, reduce)\u001B[0m\n\u001B[1;32m     80\u001B[0m     count \u001B[38;5;241m=\u001B[39m count\u001B[38;5;241m.\u001B[39mclamp(\u001B[38;5;28mmin\u001B[39m\u001B[38;5;241m=\u001B[39m\u001B[38;5;241m1\u001B[39m)\n\u001B[1;32m     82\u001B[0m     index \u001B[38;5;241m=\u001B[39m broadcast(index, src, dim)\n\u001B[0;32m---> 83\u001B[0m     out \u001B[38;5;241m=\u001B[39m \u001B[43msrc\u001B[49m\u001B[38;5;241;43m.\u001B[39;49m\u001B[43mnew_zeros\u001B[49m\u001B[43m(\u001B[49m\u001B[43msize\u001B[49m\u001B[43m)\u001B[49m\u001B[38;5;241;43m.\u001B[39;49m\u001B[43mscatter_add_\u001B[49m\u001B[43m(\u001B[49m\u001B[43mdim\u001B[49m\u001B[43m,\u001B[49m\u001B[43m \u001B[49m\u001B[43mindex\u001B[49m\u001B[43m,\u001B[49m\u001B[43m \u001B[49m\u001B[43msrc\u001B[49m\u001B[43m)\u001B[49m\n\u001B[1;32m     85\u001B[0m     \u001B[38;5;28;01mreturn\u001B[39;00m out \u001B[38;5;241m/\u001B[39m broadcast(count, out, dim)\n\u001B[1;32m     87\u001B[0m \u001B[38;5;66;03m# For \"min\" and \"max\" reduction, we prefer `scatter_reduce_` on CPU or\u001B[39;00m\n\u001B[1;32m     88\u001B[0m \u001B[38;5;66;03m# in case the input does not require gradients:\u001B[39;00m\n",
      "\u001B[0;31mKeyboardInterrupt\u001B[0m: "
     ]
    }
   ],
   "execution_count": 160
  },
  {
   "metadata": {
    "ExecuteTime": {
     "end_time": "2025-06-06T18:45:42.883006Z",
     "start_time": "2025-06-06T18:45:42.796235Z"
    }
   },
   "cell_type": "code",
   "source": [
    "plt.plot(range(1, len(train_losses) + 1), train_losses, label=\"Train Loss\")\n",
    "plt.plot(range(1, len(val_losses) + 1), val_losses, label=\"Validation Loss\")\n",
    "plt.xlabel(\"Epoch\")\n",
    "plt.ylabel(\"Loss\")\n",
    "plt.title(\"Train & Validation Loss over Epochs\")\n",
    "plt.legend()\n",
    "plt.grid(True)\n",
    "plt.show()"
   ],
   "id": "6bbcec3592244b09",
   "outputs": [
    {
     "data": {
      "text/plain": [
       "<Figure size 640x480 with 1 Axes>"
      ],
      "image/png": "[encoded data removed]"
     },
     "metadata": {},
     "output_type": "display_data"
    }
   ],
   "execution_count": 161
  },
  {
   "metadata": {
    "ExecuteTime": {
     "end_time": "2025-06-06T18:45:50.023316Z",
     "start_time": "2025-06-06T18:45:47.138958Z"
    }
   },
   "cell_type": "code",
   "source": [
    "model.eval()\n",
    "correct = 0\n",
    "total = 0\n",
    "\n",
    "with torch.no_grad():\n",
    "    for batch in train_loader:\n",
    "        batch = batch.to(device)\n",
    "        logits = model(batch.x, batch.edge_index, batch.edge_attr, batch.batch)\n",
    "        preds = torch.sigmoid(logits)\n",
    "        predicted_labels = (preds > 0.5).float()\n",
    "\n",
    "        correct += (predicted_labels == batch.y).sum().item()\n",
    "        total += batch.y.size(0)\n",
    "\n",
    "train_accuracy = correct / total\n",
    "print(f\"Train Accuracy: {train_accuracy:.4f}\")\n"
   ],
   "id": "f5943be171cbec2",
   "outputs": [
    {
     "name": "stdout",
     "output_type": "stream",
     "text": [
      "Train Accuracy: 0.9641\n"
     ]
    }
   ],
   "execution_count": 162
  },
  {
   "metadata": {
    "ExecuteTime": {
     "end_time": "2025-06-06T18:46:03.281483Z",
     "start_time": "2025-06-06T18:46:02.141087Z"
    }
   },
   "cell_type": "code",
   "source": [
    "from sklearn.metrics import f1_score, recall_score, precision_score\n",
    "\n",
    "model.eval()\n",
    "all_preds = []\n",
    "all_labels = []\n",
    "\n",
    "with torch.no_grad():\n",
    "    for batch in val_loader:\n",
    "        batch = batch.to(device)\n",
    "        logits = model(batch.x, batch.edge_index, batch.edge_attr, batch.batch)\n",
    "        probs = torch.sigmoid(logits)\n",
    "        preds = (probs > 0.6).float()\n",
    "\n",
    "        # Flatten and collect predictions and labels\n",
    "        all_preds.extend(preds.cpu().numpy().flatten())\n",
    "        all_labels.extend(batch.y.view(-1).cpu().numpy())  # ensure 1D\n",
    "\n",
    "# Compute F1 score\n",
    "f1 = f1_score(all_labels, all_preds)\n",
    "\n",
    "\n",
    "print(f\"Validation F1 Score: {f1:.4f}\")\n"
   ],
   "id": "b8e2fdb473fcec0b",
   "outputs": [
    {
     "name": "stdout",
     "output_type": "stream",
     "text": [
      "Validation F1 Score: 0.7385\n"
     ]
    }
   ],
   "execution_count": 166
  },
  {
   "metadata": {
    "ExecuteTime": {
     "end_time": "2025-06-06T18:46:03.946043Z",
     "start_time": "2025-06-06T18:46:03.935411Z"
    }
   },
   "cell_type": "code",
   "source": [
    "from sklearn.metrics import f1_score, recall_score, precision_score, accuracy_score\n",
    "recall = recall_score(all_labels, all_preds)\n",
    "precision = precision_score(all_labels, all_preds)\n",
    "accuracy = accuracy_score(all_labels, all_preds)\n",
    "\n",
    "print(f\"Validation Recall: {recall:.4f}\")\n",
    "print(f\"Validation Precision: {precision:.4f}\")\n",
    "print(f\"Validation Accuracy: {accuracy:.4f}\")"
   ],
   "id": "42f9adc258c84db7",
   "outputs": [
    {
     "name": "stdout",
     "output_type": "stream",
     "text": [
      "Validation Recall: 0.7421\n",
      "Validation Precision: 0.7349\n",
      "Validation Accuracy: 0.8973\n"
     ]
    }
   ],
   "execution_count": 167
  },
  {
   "metadata": {},
   "cell_type": "code",
   "outputs": [],
   "execution_count": null,
   "source": "",
   "id": "6b68e7e4dda96381"
  }
 ],
 "metadata": {
  "kernelspec": {
   "display_name": "Python 3",
   "language": "python",
   "name": "python3"
  },
  "language_info": {
   "codemirror_mode": {
    "name": "ipython",
    "version": 2
   },
   "file_extension": ".py",
   "mimetype": "text/x-python",
   "name": "python",
   "nbconvert_exporter": "python",
   "pygments_lexer": "ipython2",
   "version": "2.7.6"
  }
 },
 "nbformat": 4,
 "nbformat_minor": 5
}
